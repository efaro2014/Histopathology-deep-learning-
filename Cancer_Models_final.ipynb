{
  "nbformat": 4,
  "nbformat_minor": 5,
  "metadata": {
    "kernelspec": {
      "display_name": "deep_learning",
      "language": "python",
      "name": "deep_learning"
    },
    "language_info": {
      "codemirror_mode": {
        "name": "ipython",
        "version": 3
      },
      "file_extension": ".py",
      "mimetype": "text/x-python",
      "name": "python",
      "nbconvert_exporter": "python",
      "pygments_lexer": "ipython3",
      "version": "3.6.8"
    },
    "colab": {
      "name": "Cancer_Models.ipynb",
      "provenance": [],
      "collapsed_sections": [
        "f21d6dbf-2810-4b62-a573-4a8d5ff61b48",
        "eb679d14-b18e-4bd6-bb05-85aff905a44f",
        "f3059b08-1128-4481-8f0c-d48c0b28f645",
        "b84a75ee-59ec-4662-aa84-7fc75e850f8e",
        "b8433d77-0ed3-4964-8dee-4084249451a2",
        "67b5886e-76ac-4d79-9790-fd4a45e2b46a",
        "1ba01fd9-ac21-4e77-a5c0-479ec5fd4803",
        "2544f8bf-2a94-4aa6-8678-de8de758a2e0",
        "ec300f7d-a6e3-43bd-935a-da2472c9a23a"
      ]
    },
    "widgets": {
      "application/vnd.jupyter.widget-state+json": {
        "5a6343ef266746acbee182e3ba9ec32e": {
          "model_module": "@jupyter-widgets/controls",
          "model_name": "HBoxModel",
          "model_module_version": "1.5.0",
          "state": {
            "_view_name": "HBoxView",
            "_dom_classes": [],
            "_model_name": "HBoxModel",
            "_view_module": "@jupyter-widgets/controls",
            "_model_module_version": "1.5.0",
            "_view_count": null,
            "_view_module_version": "1.5.0",
            "box_style": "",
            "layout": "IPY_MODEL_1cdb2f8c638047829208e8fe26372ad0",
            "_model_module": "@jupyter-widgets/controls",
            "children": [
              "IPY_MODEL_33a6b4cc938649eaad4a760def5e7c9a",
              "IPY_MODEL_4af879116c7a4a1294deb79f5e5f135e",
              "IPY_MODEL_e81cb630c0a545bba3018f46fdc110e8"
            ]
          }
        },
        "1cdb2f8c638047829208e8fe26372ad0": {
          "model_module": "@jupyter-widgets/base",
          "model_name": "LayoutModel",
          "model_module_version": "1.2.0",
          "state": {
            "_view_name": "LayoutView",
            "grid_template_rows": null,
            "right": null,
            "justify_content": null,
            "_view_module": "@jupyter-widgets/base",
            "overflow": null,
            "_model_module_version": "1.2.0",
            "_view_count": null,
            "flex_flow": null,
            "width": null,
            "min_width": null,
            "border": null,
            "align_items": null,
            "bottom": null,
            "_model_module": "@jupyter-widgets/base",
            "top": null,
            "grid_column": null,
            "overflow_y": null,
            "overflow_x": null,
            "grid_auto_flow": null,
            "grid_area": null,
            "grid_template_columns": null,
            "flex": null,
            "_model_name": "LayoutModel",
            "justify_items": null,
            "grid_row": null,
            "max_height": null,
            "align_content": null,
            "visibility": null,
            "align_self": null,
            "height": null,
            "min_height": null,
            "padding": null,
            "grid_auto_rows": null,
            "grid_gap": null,
            "max_width": null,
            "order": null,
            "_view_module_version": "1.2.0",
            "grid_template_areas": null,
            "object_position": null,
            "object_fit": null,
            "grid_auto_columns": null,
            "margin": null,
            "display": null,
            "left": null
          }
        },
        "33a6b4cc938649eaad4a760def5e7c9a": {
          "model_module": "@jupyter-widgets/controls",
          "model_name": "HTMLModel",
          "model_module_version": "1.5.0",
          "state": {
            "_view_name": "HTMLView",
            "style": "IPY_MODEL_5820a5f809d040e2be6cb7f1c9199e58",
            "_dom_classes": [],
            "description": "",
            "_model_name": "HTMLModel",
            "placeholder": "​",
            "_view_module": "@jupyter-widgets/controls",
            "_model_module_version": "1.5.0",
            "value": " 43%",
            "_view_count": null,
            "_view_module_version": "1.5.0",
            "description_tooltip": null,
            "_model_module": "@jupyter-widgets/controls",
            "layout": "IPY_MODEL_8a4871cdbf7e428f807441f095f5c54a"
          }
        },
        "4af879116c7a4a1294deb79f5e5f135e": {
          "model_module": "@jupyter-widgets/controls",
          "model_name": "FloatProgressModel",
          "model_module_version": "1.5.0",
          "state": {
            "_view_name": "ProgressView",
            "style": "IPY_MODEL_1687ed4c8cee438e942b30df3d1b82a4",
            "_dom_classes": [],
            "description": "",
            "_model_name": "FloatProgressModel",
            "bar_style": "",
            "max": 7,
            "_view_module": "@jupyter-widgets/controls",
            "_model_module_version": "1.5.0",
            "value": 3,
            "_view_count": null,
            "_view_module_version": "1.5.0",
            "orientation": "horizontal",
            "min": 0,
            "description_tooltip": null,
            "_model_module": "@jupyter-widgets/controls",
            "layout": "IPY_MODEL_7f84bc47ed9b4255ad12569ed7c90fa4"
          }
        },
        "e81cb630c0a545bba3018f46fdc110e8": {
          "model_module": "@jupyter-widgets/controls",
          "model_name": "HTMLModel",
          "model_module_version": "1.5.0",
          "state": {
            "_view_name": "HTMLView",
            "style": "IPY_MODEL_f2094d5fa363436d908bd5561bfc8eb4",
            "_dom_classes": [],
            "description": "",
            "_model_name": "HTMLModel",
            "placeholder": "​",
            "_view_module": "@jupyter-widgets/controls",
            "_model_module_version": "1.5.0",
            "value": " 3/7 [1:11:27&lt;1:35:09, 1427.41s/it]",
            "_view_count": null,
            "_view_module_version": "1.5.0",
            "description_tooltip": null,
            "_model_module": "@jupyter-widgets/controls",
            "layout": "IPY_MODEL_0b04e7b1f41245dfae45dd20ab674e14"
          }
        },
        "5820a5f809d040e2be6cb7f1c9199e58": {
          "model_module": "@jupyter-widgets/controls",
          "model_name": "DescriptionStyleModel",
          "model_module_version": "1.5.0",
          "state": {
            "_view_name": "StyleView",
            "_model_name": "DescriptionStyleModel",
            "description_width": "",
            "_view_module": "@jupyter-widgets/base",
            "_model_module_version": "1.5.0",
            "_view_count": null,
            "_view_module_version": "1.2.0",
            "_model_module": "@jupyter-widgets/controls"
          }
        },
        "8a4871cdbf7e428f807441f095f5c54a": {
          "model_module": "@jupyter-widgets/base",
          "model_name": "LayoutModel",
          "model_module_version": "1.2.0",
          "state": {
            "_view_name": "LayoutView",
            "grid_template_rows": null,
            "right": null,
            "justify_content": null,
            "_view_module": "@jupyter-widgets/base",
            "overflow": null,
            "_model_module_version": "1.2.0",
            "_view_count": null,
            "flex_flow": null,
            "width": null,
            "min_width": null,
            "border": null,
            "align_items": null,
            "bottom": null,
            "_model_module": "@jupyter-widgets/base",
            "top": null,
            "grid_column": null,
            "overflow_y": null,
            "overflow_x": null,
            "grid_auto_flow": null,
            "grid_area": null,
            "grid_template_columns": null,
            "flex": null,
            "_model_name": "LayoutModel",
            "justify_items": null,
            "grid_row": null,
            "max_height": null,
            "align_content": null,
            "visibility": null,
            "align_self": null,
            "height": null,
            "min_height": null,
            "padding": null,
            "grid_auto_rows": null,
            "grid_gap": null,
            "max_width": null,
            "order": null,
            "_view_module_version": "1.2.0",
            "grid_template_areas": null,
            "object_position": null,
            "object_fit": null,
            "grid_auto_columns": null,
            "margin": null,
            "display": null,
            "left": null
          }
        },
        "1687ed4c8cee438e942b30df3d1b82a4": {
          "model_module": "@jupyter-widgets/controls",
          "model_name": "ProgressStyleModel",
          "model_module_version": "1.5.0",
          "state": {
            "_view_name": "StyleView",
            "_model_name": "ProgressStyleModel",
            "description_width": "",
            "_view_module": "@jupyter-widgets/base",
            "_model_module_version": "1.5.0",
            "_view_count": null,
            "_view_module_version": "1.2.0",
            "bar_color": null,
            "_model_module": "@jupyter-widgets/controls"
          }
        },
        "7f84bc47ed9b4255ad12569ed7c90fa4": {
          "model_module": "@jupyter-widgets/base",
          "model_name": "LayoutModel",
          "model_module_version": "1.2.0",
          "state": {
            "_view_name": "LayoutView",
            "grid_template_rows": null,
            "right": null,
            "justify_content": null,
            "_view_module": "@jupyter-widgets/base",
            "overflow": null,
            "_model_module_version": "1.2.0",
            "_view_count": null,
            "flex_flow": null,
            "width": null,
            "min_width": null,
            "border": null,
            "align_items": null,
            "bottom": null,
            "_model_module": "@jupyter-widgets/base",
            "top": null,
            "grid_column": null,
            "overflow_y": null,
            "overflow_x": null,
            "grid_auto_flow": null,
            "grid_area": null,
            "grid_template_columns": null,
            "flex": null,
            "_model_name": "LayoutModel",
            "justify_items": null,
            "grid_row": null,
            "max_height": null,
            "align_content": null,
            "visibility": null,
            "align_self": null,
            "height": null,
            "min_height": null,
            "padding": null,
            "grid_auto_rows": null,
            "grid_gap": null,
            "max_width": null,
            "order": null,
            "_view_module_version": "1.2.0",
            "grid_template_areas": null,
            "object_position": null,
            "object_fit": null,
            "grid_auto_columns": null,
            "margin": null,
            "display": null,
            "left": null
          }
        },
        "f2094d5fa363436d908bd5561bfc8eb4": {
          "model_module": "@jupyter-widgets/controls",
          "model_name": "DescriptionStyleModel",
          "model_module_version": "1.5.0",
          "state": {
            "_view_name": "StyleView",
            "_model_name": "DescriptionStyleModel",
            "description_width": "",
            "_view_module": "@jupyter-widgets/base",
            "_model_module_version": "1.5.0",
            "_view_count": null,
            "_view_module_version": "1.2.0",
            "_model_module": "@jupyter-widgets/controls"
          }
        },
        "0b04e7b1f41245dfae45dd20ab674e14": {
          "model_module": "@jupyter-widgets/base",
          "model_name": "LayoutModel",
          "model_module_version": "1.2.0",
          "state": {
            "_view_name": "LayoutView",
            "grid_template_rows": null,
            "right": null,
            "justify_content": null,
            "_view_module": "@jupyter-widgets/base",
            "overflow": null,
            "_model_module_version": "1.2.0",
            "_view_count": null,
            "flex_flow": null,
            "width": null,
            "min_width": null,
            "border": null,
            "align_items": null,
            "bottom": null,
            "_model_module": "@jupyter-widgets/base",
            "top": null,
            "grid_column": null,
            "overflow_y": null,
            "overflow_x": null,
            "grid_auto_flow": null,
            "grid_area": null,
            "grid_template_columns": null,
            "flex": null,
            "_model_name": "LayoutModel",
            "justify_items": null,
            "grid_row": null,
            "max_height": null,
            "align_content": null,
            "visibility": null,
            "align_self": null,
            "height": null,
            "min_height": null,
            "padding": null,
            "grid_auto_rows": null,
            "grid_gap": null,
            "max_width": null,
            "order": null,
            "_view_module_version": "1.2.0",
            "grid_template_areas": null,
            "object_position": null,
            "object_fit": null,
            "grid_auto_columns": null,
            "margin": null,
            "display": null,
            "left": null
          }
        },
        "c4764270311a4a82b93a1dbc30571564": {
          "model_module": "@jupyter-widgets/controls",
          "model_name": "HBoxModel",
          "model_module_version": "1.5.0",
          "state": {
            "_view_name": "HBoxView",
            "_dom_classes": [],
            "_model_name": "HBoxModel",
            "_view_module": "@jupyter-widgets/controls",
            "_model_module_version": "1.5.0",
            "_view_count": null,
            "_view_module_version": "1.5.0",
            "box_style": "",
            "layout": "IPY_MODEL_0373c962045a4b6b8f3520b9506d0878",
            "_model_module": "@jupyter-widgets/controls",
            "children": [
              "IPY_MODEL_8abfd5cec5ce42e2a7cb17571dade3f9",
              "IPY_MODEL_e2100c3420984878a1114226ae9c0f78",
              "IPY_MODEL_8d9db68106784a44a760986e21df619d"
            ]
          }
        },
        "0373c962045a4b6b8f3520b9506d0878": {
          "model_module": "@jupyter-widgets/base",
          "model_name": "LayoutModel",
          "model_module_version": "1.2.0",
          "state": {
            "_view_name": "LayoutView",
            "grid_template_rows": null,
            "right": null,
            "justify_content": null,
            "_view_module": "@jupyter-widgets/base",
            "overflow": null,
            "_model_module_version": "1.2.0",
            "_view_count": null,
            "flex_flow": null,
            "width": null,
            "min_width": null,
            "border": null,
            "align_items": null,
            "bottom": null,
            "_model_module": "@jupyter-widgets/base",
            "top": null,
            "grid_column": null,
            "overflow_y": null,
            "overflow_x": null,
            "grid_auto_flow": null,
            "grid_area": null,
            "grid_template_columns": null,
            "flex": null,
            "_model_name": "LayoutModel",
            "justify_items": null,
            "grid_row": null,
            "max_height": null,
            "align_content": null,
            "visibility": null,
            "align_self": null,
            "height": null,
            "min_height": null,
            "padding": null,
            "grid_auto_rows": null,
            "grid_gap": null,
            "max_width": null,
            "order": null,
            "_view_module_version": "1.2.0",
            "grid_template_areas": null,
            "object_position": null,
            "object_fit": null,
            "grid_auto_columns": null,
            "margin": null,
            "display": null,
            "left": null
          }
        },
        "8abfd5cec5ce42e2a7cb17571dade3f9": {
          "model_module": "@jupyter-widgets/controls",
          "model_name": "HTMLModel",
          "model_module_version": "1.5.0",
          "state": {
            "_view_name": "HTMLView",
            "style": "IPY_MODEL_c08966eee3cf4e55858a0129a7b0f3f7",
            "_dom_classes": [],
            "description": "",
            "_model_name": "HTMLModel",
            "placeholder": "​",
            "_view_module": "@jupyter-widgets/controls",
            "_model_module_version": "1.5.0",
            "value": "100%",
            "_view_count": null,
            "_view_module_version": "1.5.0",
            "description_tooltip": null,
            "_model_module": "@jupyter-widgets/controls",
            "layout": "IPY_MODEL_f88346de8b6b404f9f0e5141d304ec80"
          }
        },
        "e2100c3420984878a1114226ae9c0f78": {
          "model_module": "@jupyter-widgets/controls",
          "model_name": "FloatProgressModel",
          "model_module_version": "1.5.0",
          "state": {
            "_view_name": "ProgressView",
            "style": "IPY_MODEL_1523462b32f94e6c8439d8ac8e8f48bb",
            "_dom_classes": [],
            "description": "",
            "_model_name": "FloatProgressModel",
            "bar_style": "success",
            "max": 71,
            "_view_module": "@jupyter-widgets/controls",
            "_model_module_version": "1.5.0",
            "value": 71,
            "_view_count": null,
            "_view_module_version": "1.5.0",
            "orientation": "horizontal",
            "min": 0,
            "description_tooltip": null,
            "_model_module": "@jupyter-widgets/controls",
            "layout": "IPY_MODEL_90a946bef9bf4b3c8e3fd4c31c4ff743"
          }
        },
        "8d9db68106784a44a760986e21df619d": {
          "model_module": "@jupyter-widgets/controls",
          "model_name": "HTMLModel",
          "model_module_version": "1.5.0",
          "state": {
            "_view_name": "HTMLView",
            "style": "IPY_MODEL_f17ad98e6e4448c79cd9089553f94023",
            "_dom_classes": [],
            "description": "",
            "_model_name": "HTMLModel",
            "placeholder": "​",
            "_view_module": "@jupyter-widgets/controls",
            "_model_module_version": "1.5.0",
            "value": " 71/71 [15:36&lt;00:00, 10.63s/it]",
            "_view_count": null,
            "_view_module_version": "1.5.0",
            "description_tooltip": null,
            "_model_module": "@jupyter-widgets/controls",
            "layout": "IPY_MODEL_6c70e77dc84449b99b139ae01661a793"
          }
        },
        "c08966eee3cf4e55858a0129a7b0f3f7": {
          "model_module": "@jupyter-widgets/controls",
          "model_name": "DescriptionStyleModel",
          "model_module_version": "1.5.0",
          "state": {
            "_view_name": "StyleView",
            "_model_name": "DescriptionStyleModel",
            "description_width": "",
            "_view_module": "@jupyter-widgets/base",
            "_model_module_version": "1.5.0",
            "_view_count": null,
            "_view_module_version": "1.2.0",
            "_model_module": "@jupyter-widgets/controls"
          }
        },
        "f88346de8b6b404f9f0e5141d304ec80": {
          "model_module": "@jupyter-widgets/base",
          "model_name": "LayoutModel",
          "model_module_version": "1.2.0",
          "state": {
            "_view_name": "LayoutView",
            "grid_template_rows": null,
            "right": null,
            "justify_content": null,
            "_view_module": "@jupyter-widgets/base",
            "overflow": null,
            "_model_module_version": "1.2.0",
            "_view_count": null,
            "flex_flow": null,
            "width": null,
            "min_width": null,
            "border": null,
            "align_items": null,
            "bottom": null,
            "_model_module": "@jupyter-widgets/base",
            "top": null,
            "grid_column": null,
            "overflow_y": null,
            "overflow_x": null,
            "grid_auto_flow": null,
            "grid_area": null,
            "grid_template_columns": null,
            "flex": null,
            "_model_name": "LayoutModel",
            "justify_items": null,
            "grid_row": null,
            "max_height": null,
            "align_content": null,
            "visibility": null,
            "align_self": null,
            "height": null,
            "min_height": null,
            "padding": null,
            "grid_auto_rows": null,
            "grid_gap": null,
            "max_width": null,
            "order": null,
            "_view_module_version": "1.2.0",
            "grid_template_areas": null,
            "object_position": null,
            "object_fit": null,
            "grid_auto_columns": null,
            "margin": null,
            "display": null,
            "left": null
          }
        },
        "1523462b32f94e6c8439d8ac8e8f48bb": {
          "model_module": "@jupyter-widgets/controls",
          "model_name": "ProgressStyleModel",
          "model_module_version": "1.5.0",
          "state": {
            "_view_name": "StyleView",
            "_model_name": "ProgressStyleModel",
            "description_width": "",
            "_view_module": "@jupyter-widgets/base",
            "_model_module_version": "1.5.0",
            "_view_count": null,
            "_view_module_version": "1.2.0",
            "bar_color": null,
            "_model_module": "@jupyter-widgets/controls"
          }
        },
        "90a946bef9bf4b3c8e3fd4c31c4ff743": {
          "model_module": "@jupyter-widgets/base",
          "model_name": "LayoutModel",
          "model_module_version": "1.2.0",
          "state": {
            "_view_name": "LayoutView",
            "grid_template_rows": null,
            "right": null,
            "justify_content": null,
            "_view_module": "@jupyter-widgets/base",
            "overflow": null,
            "_model_module_version": "1.2.0",
            "_view_count": null,
            "flex_flow": null,
            "width": null,
            "min_width": null,
            "border": null,
            "align_items": null,
            "bottom": null,
            "_model_module": "@jupyter-widgets/base",
            "top": null,
            "grid_column": null,
            "overflow_y": null,
            "overflow_x": null,
            "grid_auto_flow": null,
            "grid_area": null,
            "grid_template_columns": null,
            "flex": null,
            "_model_name": "LayoutModel",
            "justify_items": null,
            "grid_row": null,
            "max_height": null,
            "align_content": null,
            "visibility": null,
            "align_self": null,
            "height": null,
            "min_height": null,
            "padding": null,
            "grid_auto_rows": null,
            "grid_gap": null,
            "max_width": null,
            "order": null,
            "_view_module_version": "1.2.0",
            "grid_template_areas": null,
            "object_position": null,
            "object_fit": null,
            "grid_auto_columns": null,
            "margin": null,
            "display": null,
            "left": null
          }
        },
        "f17ad98e6e4448c79cd9089553f94023": {
          "model_module": "@jupyter-widgets/controls",
          "model_name": "DescriptionStyleModel",
          "model_module_version": "1.5.0",
          "state": {
            "_view_name": "StyleView",
            "_model_name": "DescriptionStyleModel",
            "description_width": "",
            "_view_module": "@jupyter-widgets/base",
            "_model_module_version": "1.5.0",
            "_view_count": null,
            "_view_module_version": "1.2.0",
            "_model_module": "@jupyter-widgets/controls"
          }
        },
        "6c70e77dc84449b99b139ae01661a793": {
          "model_module": "@jupyter-widgets/base",
          "model_name": "LayoutModel",
          "model_module_version": "1.2.0",
          "state": {
            "_view_name": "LayoutView",
            "grid_template_rows": null,
            "right": null,
            "justify_content": null,
            "_view_module": "@jupyter-widgets/base",
            "overflow": null,
            "_model_module_version": "1.2.0",
            "_view_count": null,
            "flex_flow": null,
            "width": null,
            "min_width": null,
            "border": null,
            "align_items": null,
            "bottom": null,
            "_model_module": "@jupyter-widgets/base",
            "top": null,
            "grid_column": null,
            "overflow_y": null,
            "overflow_x": null,
            "grid_auto_flow": null,
            "grid_area": null,
            "grid_template_columns": null,
            "flex": null,
            "_model_name": "LayoutModel",
            "justify_items": null,
            "grid_row": null,
            "max_height": null,
            "align_content": null,
            "visibility": null,
            "align_self": null,
            "height": null,
            "min_height": null,
            "padding": null,
            "grid_auto_rows": null,
            "grid_gap": null,
            "max_width": null,
            "order": null,
            "_view_module_version": "1.2.0",
            "grid_template_areas": null,
            "object_position": null,
            "object_fit": null,
            "grid_auto_columns": null,
            "margin": null,
            "display": null,
            "left": null
          }
        },
        "dc628586422c47caafb914d4896ee304": {
          "model_module": "@jupyter-widgets/controls",
          "model_name": "HBoxModel",
          "model_module_version": "1.5.0",
          "state": {
            "_view_name": "HBoxView",
            "_dom_classes": [],
            "_model_name": "HBoxModel",
            "_view_module": "@jupyter-widgets/controls",
            "_model_module_version": "1.5.0",
            "_view_count": null,
            "_view_module_version": "1.5.0",
            "box_style": "",
            "layout": "IPY_MODEL_fbcf822cabb14222a8398225c60e1894",
            "_model_module": "@jupyter-widgets/controls",
            "children": [
              "IPY_MODEL_2424b6c8f02a4f05a9906edf406c8a99",
              "IPY_MODEL_b822fd323eb74b1b9358797cf8f16307",
              "IPY_MODEL_cd25e5a83fa14f908d71d9e2a843bd2f"
            ]
          }
        },
        "fbcf822cabb14222a8398225c60e1894": {
          "model_module": "@jupyter-widgets/base",
          "model_name": "LayoutModel",
          "model_module_version": "1.2.0",
          "state": {
            "_view_name": "LayoutView",
            "grid_template_rows": null,
            "right": null,
            "justify_content": null,
            "_view_module": "@jupyter-widgets/base",
            "overflow": null,
            "_model_module_version": "1.2.0",
            "_view_count": null,
            "flex_flow": null,
            "width": null,
            "min_width": null,
            "border": null,
            "align_items": null,
            "bottom": null,
            "_model_module": "@jupyter-widgets/base",
            "top": null,
            "grid_column": null,
            "overflow_y": null,
            "overflow_x": null,
            "grid_auto_flow": null,
            "grid_area": null,
            "grid_template_columns": null,
            "flex": null,
            "_model_name": "LayoutModel",
            "justify_items": null,
            "grid_row": null,
            "max_height": null,
            "align_content": null,
            "visibility": null,
            "align_self": null,
            "height": null,
            "min_height": null,
            "padding": null,
            "grid_auto_rows": null,
            "grid_gap": null,
            "max_width": null,
            "order": null,
            "_view_module_version": "1.2.0",
            "grid_template_areas": null,
            "object_position": null,
            "object_fit": null,
            "grid_auto_columns": null,
            "margin": null,
            "display": null,
            "left": null
          }
        },
        "2424b6c8f02a4f05a9906edf406c8a99": {
          "model_module": "@jupyter-widgets/controls",
          "model_name": "HTMLModel",
          "model_module_version": "1.5.0",
          "state": {
            "_view_name": "HTMLView",
            "style": "IPY_MODEL_3249039f8ea8423fa31d1c626555b157",
            "_dom_classes": [],
            "description": "",
            "_model_name": "HTMLModel",
            "placeholder": "​",
            "_view_module": "@jupyter-widgets/controls",
            "_model_module_version": "1.5.0",
            "value": "100%",
            "_view_count": null,
            "_view_module_version": "1.5.0",
            "description_tooltip": null,
            "_model_module": "@jupyter-widgets/controls",
            "layout": "IPY_MODEL_c9afcf42df674be98aea98cb5c32eb51"
          }
        },
        "b822fd323eb74b1b9358797cf8f16307": {
          "model_module": "@jupyter-widgets/controls",
          "model_name": "FloatProgressModel",
          "model_module_version": "1.5.0",
          "state": {
            "_view_name": "ProgressView",
            "style": "IPY_MODEL_6ca7448370dd46fbbe363d7cbc8e3255",
            "_dom_classes": [],
            "description": "",
            "_model_name": "FloatProgressModel",
            "bar_style": "success",
            "max": 24,
            "_view_module": "@jupyter-widgets/controls",
            "_model_module_version": "1.5.0",
            "value": 24,
            "_view_count": null,
            "_view_module_version": "1.5.0",
            "orientation": "horizontal",
            "min": 0,
            "description_tooltip": null,
            "_model_module": "@jupyter-widgets/controls",
            "layout": "IPY_MODEL_ee468591be0e48918a81ffe02647bb36"
          }
        },
        "cd25e5a83fa14f908d71d9e2a843bd2f": {
          "model_module": "@jupyter-widgets/controls",
          "model_name": "HTMLModel",
          "model_module_version": "1.5.0",
          "state": {
            "_view_name": "HTMLView",
            "style": "IPY_MODEL_7c4c2fe9d5ce4390a0f4bb767b5e9421",
            "_dom_classes": [],
            "description": "",
            "_model_name": "HTMLModel",
            "placeholder": "​",
            "_view_module": "@jupyter-widgets/controls",
            "_model_module_version": "1.5.0",
            "value": " 24/24 [01:50&lt;00:00,  3.82s/it]",
            "_view_count": null,
            "_view_module_version": "1.5.0",
            "description_tooltip": null,
            "_model_module": "@jupyter-widgets/controls",
            "layout": "IPY_MODEL_880b3c0b19174fa89506f597b15e3b2a"
          }
        },
        "3249039f8ea8423fa31d1c626555b157": {
          "model_module": "@jupyter-widgets/controls",
          "model_name": "DescriptionStyleModel",
          "model_module_version": "1.5.0",
          "state": {
            "_view_name": "StyleView",
            "_model_name": "DescriptionStyleModel",
            "description_width": "",
            "_view_module": "@jupyter-widgets/base",
            "_model_module_version": "1.5.0",
            "_view_count": null,
            "_view_module_version": "1.2.0",
            "_model_module": "@jupyter-widgets/controls"
          }
        },
        "c9afcf42df674be98aea98cb5c32eb51": {
          "model_module": "@jupyter-widgets/base",
          "model_name": "LayoutModel",
          "model_module_version": "1.2.0",
          "state": {
            "_view_name": "LayoutView",
            "grid_template_rows": null,
            "right": null,
            "justify_content": null,
            "_view_module": "@jupyter-widgets/base",
            "overflow": null,
            "_model_module_version": "1.2.0",
            "_view_count": null,
            "flex_flow": null,
            "width": null,
            "min_width": null,
            "border": null,
            "align_items": null,
            "bottom": null,
            "_model_module": "@jupyter-widgets/base",
            "top": null,
            "grid_column": null,
            "overflow_y": null,
            "overflow_x": null,
            "grid_auto_flow": null,
            "grid_area": null,
            "grid_template_columns": null,
            "flex": null,
            "_model_name": "LayoutModel",
            "justify_items": null,
            "grid_row": null,
            "max_height": null,
            "align_content": null,
            "visibility": null,
            "align_self": null,
            "height": null,
            "min_height": null,
            "padding": null,
            "grid_auto_rows": null,
            "grid_gap": null,
            "max_width": null,
            "order": null,
            "_view_module_version": "1.2.0",
            "grid_template_areas": null,
            "object_position": null,
            "object_fit": null,
            "grid_auto_columns": null,
            "margin": null,
            "display": null,
            "left": null
          }
        },
        "6ca7448370dd46fbbe363d7cbc8e3255": {
          "model_module": "@jupyter-widgets/controls",
          "model_name": "ProgressStyleModel",
          "model_module_version": "1.5.0",
          "state": {
            "_view_name": "StyleView",
            "_model_name": "ProgressStyleModel",
            "description_width": "",
            "_view_module": "@jupyter-widgets/base",
            "_model_module_version": "1.5.0",
            "_view_count": null,
            "_view_module_version": "1.2.0",
            "bar_color": null,
            "_model_module": "@jupyter-widgets/controls"
          }
        },
        "ee468591be0e48918a81ffe02647bb36": {
          "model_module": "@jupyter-widgets/base",
          "model_name": "LayoutModel",
          "model_module_version": "1.2.0",
          "state": {
            "_view_name": "LayoutView",
            "grid_template_rows": null,
            "right": null,
            "justify_content": null,
            "_view_module": "@jupyter-widgets/base",
            "overflow": null,
            "_model_module_version": "1.2.0",
            "_view_count": null,
            "flex_flow": null,
            "width": null,
            "min_width": null,
            "border": null,
            "align_items": null,
            "bottom": null,
            "_model_module": "@jupyter-widgets/base",
            "top": null,
            "grid_column": null,
            "overflow_y": null,
            "overflow_x": null,
            "grid_auto_flow": null,
            "grid_area": null,
            "grid_template_columns": null,
            "flex": null,
            "_model_name": "LayoutModel",
            "justify_items": null,
            "grid_row": null,
            "max_height": null,
            "align_content": null,
            "visibility": null,
            "align_self": null,
            "height": null,
            "min_height": null,
            "padding": null,
            "grid_auto_rows": null,
            "grid_gap": null,
            "max_width": null,
            "order": null,
            "_view_module_version": "1.2.0",
            "grid_template_areas": null,
            "object_position": null,
            "object_fit": null,
            "grid_auto_columns": null,
            "margin": null,
            "display": null,
            "left": null
          }
        },
        "7c4c2fe9d5ce4390a0f4bb767b5e9421": {
          "model_module": "@jupyter-widgets/controls",
          "model_name": "DescriptionStyleModel",
          "model_module_version": "1.5.0",
          "state": {
            "_view_name": "StyleView",
            "_model_name": "DescriptionStyleModel",
            "description_width": "",
            "_view_module": "@jupyter-widgets/base",
            "_model_module_version": "1.5.0",
            "_view_count": null,
            "_view_module_version": "1.2.0",
            "_model_module": "@jupyter-widgets/controls"
          }
        },
        "880b3c0b19174fa89506f597b15e3b2a": {
          "model_module": "@jupyter-widgets/base",
          "model_name": "LayoutModel",
          "model_module_version": "1.2.0",
          "state": {
            "_view_name": "LayoutView",
            "grid_template_rows": null,
            "right": null,
            "justify_content": null,
            "_view_module": "@jupyter-widgets/base",
            "overflow": null,
            "_model_module_version": "1.2.0",
            "_view_count": null,
            "flex_flow": null,
            "width": null,
            "min_width": null,
            "border": null,
            "align_items": null,
            "bottom": null,
            "_model_module": "@jupyter-widgets/base",
            "top": null,
            "grid_column": null,
            "overflow_y": null,
            "overflow_x": null,
            "grid_auto_flow": null,
            "grid_area": null,
            "grid_template_columns": null,
            "flex": null,
            "_model_name": "LayoutModel",
            "justify_items": null,
            "grid_row": null,
            "max_height": null,
            "align_content": null,
            "visibility": null,
            "align_self": null,
            "height": null,
            "min_height": null,
            "padding": null,
            "grid_auto_rows": null,
            "grid_gap": null,
            "max_width": null,
            "order": null,
            "_view_module_version": "1.2.0",
            "grid_template_areas": null,
            "object_position": null,
            "object_fit": null,
            "grid_auto_columns": null,
            "margin": null,
            "display": null,
            "left": null
          }
        },
        "9b85c6c9d9f6423a866dd55c5dc35c70": {
          "model_module": "@jupyter-widgets/controls",
          "model_name": "HBoxModel",
          "model_module_version": "1.5.0",
          "state": {
            "_view_name": "HBoxView",
            "_dom_classes": [],
            "_model_name": "HBoxModel",
            "_view_module": "@jupyter-widgets/controls",
            "_model_module_version": "1.5.0",
            "_view_count": null,
            "_view_module_version": "1.5.0",
            "box_style": "",
            "layout": "IPY_MODEL_00d63acbdbc84fe7bd0e4748bef7e03f",
            "_model_module": "@jupyter-widgets/controls",
            "children": [
              "IPY_MODEL_ee9ebce6d10b48b88d64c45a7131f0af",
              "IPY_MODEL_cc0f25580a9c48638191154f509e31aa",
              "IPY_MODEL_0a3e2296abca44aea14539a14734b9d5"
            ]
          }
        },
        "00d63acbdbc84fe7bd0e4748bef7e03f": {
          "model_module": "@jupyter-widgets/base",
          "model_name": "LayoutModel",
          "model_module_version": "1.2.0",
          "state": {
            "_view_name": "LayoutView",
            "grid_template_rows": null,
            "right": null,
            "justify_content": null,
            "_view_module": "@jupyter-widgets/base",
            "overflow": null,
            "_model_module_version": "1.2.0",
            "_view_count": null,
            "flex_flow": null,
            "width": null,
            "min_width": null,
            "border": null,
            "align_items": null,
            "bottom": null,
            "_model_module": "@jupyter-widgets/base",
            "top": null,
            "grid_column": null,
            "overflow_y": null,
            "overflow_x": null,
            "grid_auto_flow": null,
            "grid_area": null,
            "grid_template_columns": null,
            "flex": null,
            "_model_name": "LayoutModel",
            "justify_items": null,
            "grid_row": null,
            "max_height": null,
            "align_content": null,
            "visibility": null,
            "align_self": null,
            "height": null,
            "min_height": null,
            "padding": null,
            "grid_auto_rows": null,
            "grid_gap": null,
            "max_width": null,
            "order": null,
            "_view_module_version": "1.2.0",
            "grid_template_areas": null,
            "object_position": null,
            "object_fit": null,
            "grid_auto_columns": null,
            "margin": null,
            "display": null,
            "left": null
          }
        },
        "ee9ebce6d10b48b88d64c45a7131f0af": {
          "model_module": "@jupyter-widgets/controls",
          "model_name": "HTMLModel",
          "model_module_version": "1.5.0",
          "state": {
            "_view_name": "HTMLView",
            "style": "IPY_MODEL_3e4e58cdbcb44b719f38e7258834d3d8",
            "_dom_classes": [],
            "description": "",
            "_model_name": "HTMLModel",
            "placeholder": "​",
            "_view_module": "@jupyter-widgets/controls",
            "_model_module_version": "1.5.0",
            "value": "100%",
            "_view_count": null,
            "_view_module_version": "1.5.0",
            "description_tooltip": null,
            "_model_module": "@jupyter-widgets/controls",
            "layout": "IPY_MODEL_a45686d3333f449b9b59d31d5e3accd7"
          }
        },
        "cc0f25580a9c48638191154f509e31aa": {
          "model_module": "@jupyter-widgets/controls",
          "model_name": "FloatProgressModel",
          "model_module_version": "1.5.0",
          "state": {
            "_view_name": "ProgressView",
            "style": "IPY_MODEL_d4286034fd8c4aa389f207d6754a8c6b",
            "_dom_classes": [],
            "description": "",
            "_model_name": "FloatProgressModel",
            "bar_style": "success",
            "max": 71,
            "_view_module": "@jupyter-widgets/controls",
            "_model_module_version": "1.5.0",
            "value": 71,
            "_view_count": null,
            "_view_module_version": "1.5.0",
            "orientation": "horizontal",
            "min": 0,
            "description_tooltip": null,
            "_model_module": "@jupyter-widgets/controls",
            "layout": "IPY_MODEL_f62a73d0cda04362981d90f957870590"
          }
        },
        "0a3e2296abca44aea14539a14734b9d5": {
          "model_module": "@jupyter-widgets/controls",
          "model_name": "HTMLModel",
          "model_module_version": "1.5.0",
          "state": {
            "_view_name": "HTMLView",
            "style": "IPY_MODEL_261bc4367bd14fe5a9bd0c227414e394",
            "_dom_classes": [],
            "description": "",
            "_model_name": "HTMLModel",
            "placeholder": "​",
            "_view_module": "@jupyter-widgets/controls",
            "_model_module_version": "1.5.0",
            "value": " 71/71 [15:28&lt;00:00, 10.47s/it]",
            "_view_count": null,
            "_view_module_version": "1.5.0",
            "description_tooltip": null,
            "_model_module": "@jupyter-widgets/controls",
            "layout": "IPY_MODEL_74b66c9fad1547f49405a1ede7bb71be"
          }
        },
        "3e4e58cdbcb44b719f38e7258834d3d8": {
          "model_module": "@jupyter-widgets/controls",
          "model_name": "DescriptionStyleModel",
          "model_module_version": "1.5.0",
          "state": {
            "_view_name": "StyleView",
            "_model_name": "DescriptionStyleModel",
            "description_width": "",
            "_view_module": "@jupyter-widgets/base",
            "_model_module_version": "1.5.0",
            "_view_count": null,
            "_view_module_version": "1.2.0",
            "_model_module": "@jupyter-widgets/controls"
          }
        },
        "a45686d3333f449b9b59d31d5e3accd7": {
          "model_module": "@jupyter-widgets/base",
          "model_name": "LayoutModel",
          "model_module_version": "1.2.0",
          "state": {
            "_view_name": "LayoutView",
            "grid_template_rows": null,
            "right": null,
            "justify_content": null,
            "_view_module": "@jupyter-widgets/base",
            "overflow": null,
            "_model_module_version": "1.2.0",
            "_view_count": null,
            "flex_flow": null,
            "width": null,
            "min_width": null,
            "border": null,
            "align_items": null,
            "bottom": null,
            "_model_module": "@jupyter-widgets/base",
            "top": null,
            "grid_column": null,
            "overflow_y": null,
            "overflow_x": null,
            "grid_auto_flow": null,
            "grid_area": null,
            "grid_template_columns": null,
            "flex": null,
            "_model_name": "LayoutModel",
            "justify_items": null,
            "grid_row": null,
            "max_height": null,
            "align_content": null,
            "visibility": null,
            "align_self": null,
            "height": null,
            "min_height": null,
            "padding": null,
            "grid_auto_rows": null,
            "grid_gap": null,
            "max_width": null,
            "order": null,
            "_view_module_version": "1.2.0",
            "grid_template_areas": null,
            "object_position": null,
            "object_fit": null,
            "grid_auto_columns": null,
            "margin": null,
            "display": null,
            "left": null
          }
        },
        "d4286034fd8c4aa389f207d6754a8c6b": {
          "model_module": "@jupyter-widgets/controls",
          "model_name": "ProgressStyleModel",
          "model_module_version": "1.5.0",
          "state": {
            "_view_name": "StyleView",
            "_model_name": "ProgressStyleModel",
            "description_width": "",
            "_view_module": "@jupyter-widgets/base",
            "_model_module_version": "1.5.0",
            "_view_count": null,
            "_view_module_version": "1.2.0",
            "bar_color": null,
            "_model_module": "@jupyter-widgets/controls"
          }
        },
        "f62a73d0cda04362981d90f957870590": {
          "model_module": "@jupyter-widgets/base",
          "model_name": "LayoutModel",
          "model_module_version": "1.2.0",
          "state": {
            "_view_name": "LayoutView",
            "grid_template_rows": null,
            "right": null,
            "justify_content": null,
            "_view_module": "@jupyter-widgets/base",
            "overflow": null,
            "_model_module_version": "1.2.0",
            "_view_count": null,
            "flex_flow": null,
            "width": null,
            "min_width": null,
            "border": null,
            "align_items": null,
            "bottom": null,
            "_model_module": "@jupyter-widgets/base",
            "top": null,
            "grid_column": null,
            "overflow_y": null,
            "overflow_x": null,
            "grid_auto_flow": null,
            "grid_area": null,
            "grid_template_columns": null,
            "flex": null,
            "_model_name": "LayoutModel",
            "justify_items": null,
            "grid_row": null,
            "max_height": null,
            "align_content": null,
            "visibility": null,
            "align_self": null,
            "height": null,
            "min_height": null,
            "padding": null,
            "grid_auto_rows": null,
            "grid_gap": null,
            "max_width": null,
            "order": null,
            "_view_module_version": "1.2.0",
            "grid_template_areas": null,
            "object_position": null,
            "object_fit": null,
            "grid_auto_columns": null,
            "margin": null,
            "display": null,
            "left": null
          }
        },
        "261bc4367bd14fe5a9bd0c227414e394": {
          "model_module": "@jupyter-widgets/controls",
          "model_name": "DescriptionStyleModel",
          "model_module_version": "1.5.0",
          "state": {
            "_view_name": "StyleView",
            "_model_name": "DescriptionStyleModel",
            "description_width": "",
            "_view_module": "@jupyter-widgets/base",
            "_model_module_version": "1.5.0",
            "_view_count": null,
            "_view_module_version": "1.2.0",
            "_model_module": "@jupyter-widgets/controls"
          }
        },
        "74b66c9fad1547f49405a1ede7bb71be": {
          "model_module": "@jupyter-widgets/base",
          "model_name": "LayoutModel",
          "model_module_version": "1.2.0",
          "state": {
            "_view_name": "LayoutView",
            "grid_template_rows": null,
            "right": null,
            "justify_content": null,
            "_view_module": "@jupyter-widgets/base",
            "overflow": null,
            "_model_module_version": "1.2.0",
            "_view_count": null,
            "flex_flow": null,
            "width": null,
            "min_width": null,
            "border": null,
            "align_items": null,
            "bottom": null,
            "_model_module": "@jupyter-widgets/base",
            "top": null,
            "grid_column": null,
            "overflow_y": null,
            "overflow_x": null,
            "grid_auto_flow": null,
            "grid_area": null,
            "grid_template_columns": null,
            "flex": null,
            "_model_name": "LayoutModel",
            "justify_items": null,
            "grid_row": null,
            "max_height": null,
            "align_content": null,
            "visibility": null,
            "align_self": null,
            "height": null,
            "min_height": null,
            "padding": null,
            "grid_auto_rows": null,
            "grid_gap": null,
            "max_width": null,
            "order": null,
            "_view_module_version": "1.2.0",
            "grid_template_areas": null,
            "object_position": null,
            "object_fit": null,
            "grid_auto_columns": null,
            "margin": null,
            "display": null,
            "left": null
          }
        },
        "a5bfed4e449d414eb610899d35082366": {
          "model_module": "@jupyter-widgets/controls",
          "model_name": "HBoxModel",
          "model_module_version": "1.5.0",
          "state": {
            "_view_name": "HBoxView",
            "_dom_classes": [],
            "_model_name": "HBoxModel",
            "_view_module": "@jupyter-widgets/controls",
            "_model_module_version": "1.5.0",
            "_view_count": null,
            "_view_module_version": "1.5.0",
            "box_style": "",
            "layout": "IPY_MODEL_d3fddd6985a44976a87f49f0493237a5",
            "_model_module": "@jupyter-widgets/controls",
            "children": [
              "IPY_MODEL_21326fe607b54d6183a88b12299cfe6c",
              "IPY_MODEL_5e76e7bf0a934e9c8701cf679ff753e4",
              "IPY_MODEL_4e4d7b5b20294fe2a2022895ef76cb6f"
            ]
          }
        },
        "d3fddd6985a44976a87f49f0493237a5": {
          "model_module": "@jupyter-widgets/base",
          "model_name": "LayoutModel",
          "model_module_version": "1.2.0",
          "state": {
            "_view_name": "LayoutView",
            "grid_template_rows": null,
            "right": null,
            "justify_content": null,
            "_view_module": "@jupyter-widgets/base",
            "overflow": null,
            "_model_module_version": "1.2.0",
            "_view_count": null,
            "flex_flow": null,
            "width": null,
            "min_width": null,
            "border": null,
            "align_items": null,
            "bottom": null,
            "_model_module": "@jupyter-widgets/base",
            "top": null,
            "grid_column": null,
            "overflow_y": null,
            "overflow_x": null,
            "grid_auto_flow": null,
            "grid_area": null,
            "grid_template_columns": null,
            "flex": null,
            "_model_name": "LayoutModel",
            "justify_items": null,
            "grid_row": null,
            "max_height": null,
            "align_content": null,
            "visibility": null,
            "align_self": null,
            "height": null,
            "min_height": null,
            "padding": null,
            "grid_auto_rows": null,
            "grid_gap": null,
            "max_width": null,
            "order": null,
            "_view_module_version": "1.2.0",
            "grid_template_areas": null,
            "object_position": null,
            "object_fit": null,
            "grid_auto_columns": null,
            "margin": null,
            "display": null,
            "left": null
          }
        },
        "21326fe607b54d6183a88b12299cfe6c": {
          "model_module": "@jupyter-widgets/controls",
          "model_name": "HTMLModel",
          "model_module_version": "1.5.0",
          "state": {
            "_view_name": "HTMLView",
            "style": "IPY_MODEL_410e952b022146c3a47cad542d630bd1",
            "_dom_classes": [],
            "description": "",
            "_model_name": "HTMLModel",
            "placeholder": "​",
            "_view_module": "@jupyter-widgets/controls",
            "_model_module_version": "1.5.0",
            "value": "100%",
            "_view_count": null,
            "_view_module_version": "1.5.0",
            "description_tooltip": null,
            "_model_module": "@jupyter-widgets/controls",
            "layout": "IPY_MODEL_dc1b22c6c5504b2392d22cc3434e3ad8"
          }
        },
        "5e76e7bf0a934e9c8701cf679ff753e4": {
          "model_module": "@jupyter-widgets/controls",
          "model_name": "FloatProgressModel",
          "model_module_version": "1.5.0",
          "state": {
            "_view_name": "ProgressView",
            "style": "IPY_MODEL_81800aad2c0d4b108fbd7be812517d19",
            "_dom_classes": [],
            "description": "",
            "_model_name": "FloatProgressModel",
            "bar_style": "success",
            "max": 24,
            "_view_module": "@jupyter-widgets/controls",
            "_model_module_version": "1.5.0",
            "value": 24,
            "_view_count": null,
            "_view_module_version": "1.5.0",
            "orientation": "horizontal",
            "min": 0,
            "description_tooltip": null,
            "_model_module": "@jupyter-widgets/controls",
            "layout": "IPY_MODEL_8e6160197fe24519ba320348d3289dd0"
          }
        },
        "4e4d7b5b20294fe2a2022895ef76cb6f": {
          "model_module": "@jupyter-widgets/controls",
          "model_name": "HTMLModel",
          "model_module_version": "1.5.0",
          "state": {
            "_view_name": "HTMLView",
            "style": "IPY_MODEL_4150aeb97f09469e97e38a8613ee0003",
            "_dom_classes": [],
            "description": "",
            "_model_name": "HTMLModel",
            "placeholder": "​",
            "_view_module": "@jupyter-widgets/controls",
            "_model_module_version": "1.5.0",
            "value": " 24/24 [01:45&lt;00:00,  3.75s/it]",
            "_view_count": null,
            "_view_module_version": "1.5.0",
            "description_tooltip": null,
            "_model_module": "@jupyter-widgets/controls",
            "layout": "IPY_MODEL_ae6fdcf6640f4243ae41fafc1f47196e"
          }
        },
        "410e952b022146c3a47cad542d630bd1": {
          "model_module": "@jupyter-widgets/controls",
          "model_name": "DescriptionStyleModel",
          "model_module_version": "1.5.0",
          "state": {
            "_view_name": "StyleView",
            "_model_name": "DescriptionStyleModel",
            "description_width": "",
            "_view_module": "@jupyter-widgets/base",
            "_model_module_version": "1.5.0",
            "_view_count": null,
            "_view_module_version": "1.2.0",
            "_model_module": "@jupyter-widgets/controls"
          }
        },
        "dc1b22c6c5504b2392d22cc3434e3ad8": {
          "model_module": "@jupyter-widgets/base",
          "model_name": "LayoutModel",
          "model_module_version": "1.2.0",
          "state": {
            "_view_name": "LayoutView",
            "grid_template_rows": null,
            "right": null,
            "justify_content": null,
            "_view_module": "@jupyter-widgets/base",
            "overflow": null,
            "_model_module_version": "1.2.0",
            "_view_count": null,
            "flex_flow": null,
            "width": null,
            "min_width": null,
            "border": null,
            "align_items": null,
            "bottom": null,
            "_model_module": "@jupyter-widgets/base",
            "top": null,
            "grid_column": null,
            "overflow_y": null,
            "overflow_x": null,
            "grid_auto_flow": null,
            "grid_area": null,
            "grid_template_columns": null,
            "flex": null,
            "_model_name": "LayoutModel",
            "justify_items": null,
            "grid_row": null,
            "max_height": null,
            "align_content": null,
            "visibility": null,
            "align_self": null,
            "height": null,
            "min_height": null,
            "padding": null,
            "grid_auto_rows": null,
            "grid_gap": null,
            "max_width": null,
            "order": null,
            "_view_module_version": "1.2.0",
            "grid_template_areas": null,
            "object_position": null,
            "object_fit": null,
            "grid_auto_columns": null,
            "margin": null,
            "display": null,
            "left": null
          }
        },
        "81800aad2c0d4b108fbd7be812517d19": {
          "model_module": "@jupyter-widgets/controls",
          "model_name": "ProgressStyleModel",
          "model_module_version": "1.5.0",
          "state": {
            "_view_name": "StyleView",
            "_model_name": "ProgressStyleModel",
            "description_width": "",
            "_view_module": "@jupyter-widgets/base",
            "_model_module_version": "1.5.0",
            "_view_count": null,
            "_view_module_version": "1.2.0",
            "bar_color": null,
            "_model_module": "@jupyter-widgets/controls"
          }
        },
        "8e6160197fe24519ba320348d3289dd0": {
          "model_module": "@jupyter-widgets/base",
          "model_name": "LayoutModel",
          "model_module_version": "1.2.0",
          "state": {
            "_view_name": "LayoutView",
            "grid_template_rows": null,
            "right": null,
            "justify_content": null,
            "_view_module": "@jupyter-widgets/base",
            "overflow": null,
            "_model_module_version": "1.2.0",
            "_view_count": null,
            "flex_flow": null,
            "width": null,
            "min_width": null,
            "border": null,
            "align_items": null,
            "bottom": null,
            "_model_module": "@jupyter-widgets/base",
            "top": null,
            "grid_column": null,
            "overflow_y": null,
            "overflow_x": null,
            "grid_auto_flow": null,
            "grid_area": null,
            "grid_template_columns": null,
            "flex": null,
            "_model_name": "LayoutModel",
            "justify_items": null,
            "grid_row": null,
            "max_height": null,
            "align_content": null,
            "visibility": null,
            "align_self": null,
            "height": null,
            "min_height": null,
            "padding": null,
            "grid_auto_rows": null,
            "grid_gap": null,
            "max_width": null,
            "order": null,
            "_view_module_version": "1.2.0",
            "grid_template_areas": null,
            "object_position": null,
            "object_fit": null,
            "grid_auto_columns": null,
            "margin": null,
            "display": null,
            "left": null
          }
        },
        "4150aeb97f09469e97e38a8613ee0003": {
          "model_module": "@jupyter-widgets/controls",
          "model_name": "DescriptionStyleModel",
          "model_module_version": "1.5.0",
          "state": {
            "_view_name": "StyleView",
            "_model_name": "DescriptionStyleModel",
            "description_width": "",
            "_view_module": "@jupyter-widgets/base",
            "_model_module_version": "1.5.0",
            "_view_count": null,
            "_view_module_version": "1.2.0",
            "_model_module": "@jupyter-widgets/controls"
          }
        },
        "ae6fdcf6640f4243ae41fafc1f47196e": {
          "model_module": "@jupyter-widgets/base",
          "model_name": "LayoutModel",
          "model_module_version": "1.2.0",
          "state": {
            "_view_name": "LayoutView",
            "grid_template_rows": null,
            "right": null,
            "justify_content": null,
            "_view_module": "@jupyter-widgets/base",
            "overflow": null,
            "_model_module_version": "1.2.0",
            "_view_count": null,
            "flex_flow": null,
            "width": null,
            "min_width": null,
            "border": null,
            "align_items": null,
            "bottom": null,
            "_model_module": "@jupyter-widgets/base",
            "top": null,
            "grid_column": null,
            "overflow_y": null,
            "overflow_x": null,
            "grid_auto_flow": null,
            "grid_area": null,
            "grid_template_columns": null,
            "flex": null,
            "_model_name": "LayoutModel",
            "justify_items": null,
            "grid_row": null,
            "max_height": null,
            "align_content": null,
            "visibility": null,
            "align_self": null,
            "height": null,
            "min_height": null,
            "padding": null,
            "grid_auto_rows": null,
            "grid_gap": null,
            "max_width": null,
            "order": null,
            "_view_module_version": "1.2.0",
            "grid_template_areas": null,
            "object_position": null,
            "object_fit": null,
            "grid_auto_columns": null,
            "margin": null,
            "display": null,
            "left": null
          }
        },
        "fa0733805fbb474a8293ef2ae17497a9": {
          "model_module": "@jupyter-widgets/controls",
          "model_name": "HBoxModel",
          "model_module_version": "1.5.0",
          "state": {
            "_view_name": "HBoxView",
            "_dom_classes": [],
            "_model_name": "HBoxModel",
            "_view_module": "@jupyter-widgets/controls",
            "_model_module_version": "1.5.0",
            "_view_count": null,
            "_view_module_version": "1.5.0",
            "box_style": "",
            "layout": "IPY_MODEL_2f5c81cab12f406bb7a5f606c20bce19",
            "_model_module": "@jupyter-widgets/controls",
            "children": [
              "IPY_MODEL_35b159cdee834d3f8cabe0e7e90125f1",
              "IPY_MODEL_71835cc6b5244658a0e8c2af675e71b5",
              "IPY_MODEL_8adf131145964072ac23982db3230b5b"
            ]
          }
        },
        "2f5c81cab12f406bb7a5f606c20bce19": {
          "model_module": "@jupyter-widgets/base",
          "model_name": "LayoutModel",
          "model_module_version": "1.2.0",
          "state": {
            "_view_name": "LayoutView",
            "grid_template_rows": null,
            "right": null,
            "justify_content": null,
            "_view_module": "@jupyter-widgets/base",
            "overflow": null,
            "_model_module_version": "1.2.0",
            "_view_count": null,
            "flex_flow": null,
            "width": null,
            "min_width": null,
            "border": null,
            "align_items": null,
            "bottom": null,
            "_model_module": "@jupyter-widgets/base",
            "top": null,
            "grid_column": null,
            "overflow_y": null,
            "overflow_x": null,
            "grid_auto_flow": null,
            "grid_area": null,
            "grid_template_columns": null,
            "flex": null,
            "_model_name": "LayoutModel",
            "justify_items": null,
            "grid_row": null,
            "max_height": null,
            "align_content": null,
            "visibility": null,
            "align_self": null,
            "height": null,
            "min_height": null,
            "padding": null,
            "grid_auto_rows": null,
            "grid_gap": null,
            "max_width": null,
            "order": null,
            "_view_module_version": "1.2.0",
            "grid_template_areas": null,
            "object_position": null,
            "object_fit": null,
            "grid_auto_columns": null,
            "margin": null,
            "display": null,
            "left": null
          }
        },
        "35b159cdee834d3f8cabe0e7e90125f1": {
          "model_module": "@jupyter-widgets/controls",
          "model_name": "HTMLModel",
          "model_module_version": "1.5.0",
          "state": {
            "_view_name": "HTMLView",
            "style": "IPY_MODEL_5a3b69601aec470faa238318b3981028",
            "_dom_classes": [],
            "description": "",
            "_model_name": "HTMLModel",
            "placeholder": "​",
            "_view_module": "@jupyter-widgets/controls",
            "_model_module_version": "1.5.0",
            "value": "100%",
            "_view_count": null,
            "_view_module_version": "1.5.0",
            "description_tooltip": null,
            "_model_module": "@jupyter-widgets/controls",
            "layout": "IPY_MODEL_6a7f96116d5a48f499f4064ef0a8f0d8"
          }
        },
        "71835cc6b5244658a0e8c2af675e71b5": {
          "model_module": "@jupyter-widgets/controls",
          "model_name": "FloatProgressModel",
          "model_module_version": "1.5.0",
          "state": {
            "_view_name": "ProgressView",
            "style": "IPY_MODEL_c3591c0a080a45a6949d7b735d47ac2e",
            "_dom_classes": [],
            "description": "",
            "_model_name": "FloatProgressModel",
            "bar_style": "success",
            "max": 71,
            "_view_module": "@jupyter-widgets/controls",
            "_model_module_version": "1.5.0",
            "value": 71,
            "_view_count": null,
            "_view_module_version": "1.5.0",
            "orientation": "horizontal",
            "min": 0,
            "description_tooltip": null,
            "_model_module": "@jupyter-widgets/controls",
            "layout": "IPY_MODEL_9f3e66d7113344df9c690407177e4f02"
          }
        },
        "8adf131145964072ac23982db3230b5b": {
          "model_module": "@jupyter-widgets/controls",
          "model_name": "HTMLModel",
          "model_module_version": "1.5.0",
          "state": {
            "_view_name": "HTMLView",
            "style": "IPY_MODEL_af1c30b1b1384422a8125e6d3cff484b",
            "_dom_classes": [],
            "description": "",
            "_model_name": "HTMLModel",
            "placeholder": "​",
            "_view_module": "@jupyter-widgets/controls",
            "_model_module_version": "1.5.0",
            "value": " 71/71 [15:31&lt;00:00, 10.54s/it]",
            "_view_count": null,
            "_view_module_version": "1.5.0",
            "description_tooltip": null,
            "_model_module": "@jupyter-widgets/controls",
            "layout": "IPY_MODEL_d8e303128ff54f8ebe3d8966e8ac4924"
          }
        },
        "5a3b69601aec470faa238318b3981028": {
          "model_module": "@jupyter-widgets/controls",
          "model_name": "DescriptionStyleModel",
          "model_module_version": "1.5.0",
          "state": {
            "_view_name": "StyleView",
            "_model_name": "DescriptionStyleModel",
            "description_width": "",
            "_view_module": "@jupyter-widgets/base",
            "_model_module_version": "1.5.0",
            "_view_count": null,
            "_view_module_version": "1.2.0",
            "_model_module": "@jupyter-widgets/controls"
          }
        },
        "6a7f96116d5a48f499f4064ef0a8f0d8": {
          "model_module": "@jupyter-widgets/base",
          "model_name": "LayoutModel",
          "model_module_version": "1.2.0",
          "state": {
            "_view_name": "LayoutView",
            "grid_template_rows": null,
            "right": null,
            "justify_content": null,
            "_view_module": "@jupyter-widgets/base",
            "overflow": null,
            "_model_module_version": "1.2.0",
            "_view_count": null,
            "flex_flow": null,
            "width": null,
            "min_width": null,
            "border": null,
            "align_items": null,
            "bottom": null,
            "_model_module": "@jupyter-widgets/base",
            "top": null,
            "grid_column": null,
            "overflow_y": null,
            "overflow_x": null,
            "grid_auto_flow": null,
            "grid_area": null,
            "grid_template_columns": null,
            "flex": null,
            "_model_name": "LayoutModel",
            "justify_items": null,
            "grid_row": null,
            "max_height": null,
            "align_content": null,
            "visibility": null,
            "align_self": null,
            "height": null,
            "min_height": null,
            "padding": null,
            "grid_auto_rows": null,
            "grid_gap": null,
            "max_width": null,
            "order": null,
            "_view_module_version": "1.2.0",
            "grid_template_areas": null,
            "object_position": null,
            "object_fit": null,
            "grid_auto_columns": null,
            "margin": null,
            "display": null,
            "left": null
          }
        },
        "c3591c0a080a45a6949d7b735d47ac2e": {
          "model_module": "@jupyter-widgets/controls",
          "model_name": "ProgressStyleModel",
          "model_module_version": "1.5.0",
          "state": {
            "_view_name": "StyleView",
            "_model_name": "ProgressStyleModel",
            "description_width": "",
            "_view_module": "@jupyter-widgets/base",
            "_model_module_version": "1.5.0",
            "_view_count": null,
            "_view_module_version": "1.2.0",
            "bar_color": null,
            "_model_module": "@jupyter-widgets/controls"
          }
        },
        "9f3e66d7113344df9c690407177e4f02": {
          "model_module": "@jupyter-widgets/base",
          "model_name": "LayoutModel",
          "model_module_version": "1.2.0",
          "state": {
            "_view_name": "LayoutView",
            "grid_template_rows": null,
            "right": null,
            "justify_content": null,
            "_view_module": "@jupyter-widgets/base",
            "overflow": null,
            "_model_module_version": "1.2.0",
            "_view_count": null,
            "flex_flow": null,
            "width": null,
            "min_width": null,
            "border": null,
            "align_items": null,
            "bottom": null,
            "_model_module": "@jupyter-widgets/base",
            "top": null,
            "grid_column": null,
            "overflow_y": null,
            "overflow_x": null,
            "grid_auto_flow": null,
            "grid_area": null,
            "grid_template_columns": null,
            "flex": null,
            "_model_name": "LayoutModel",
            "justify_items": null,
            "grid_row": null,
            "max_height": null,
            "align_content": null,
            "visibility": null,
            "align_self": null,
            "height": null,
            "min_height": null,
            "padding": null,
            "grid_auto_rows": null,
            "grid_gap": null,
            "max_width": null,
            "order": null,
            "_view_module_version": "1.2.0",
            "grid_template_areas": null,
            "object_position": null,
            "object_fit": null,
            "grid_auto_columns": null,
            "margin": null,
            "display": null,
            "left": null
          }
        },
        "af1c30b1b1384422a8125e6d3cff484b": {
          "model_module": "@jupyter-widgets/controls",
          "model_name": "DescriptionStyleModel",
          "model_module_version": "1.5.0",
          "state": {
            "_view_name": "StyleView",
            "_model_name": "DescriptionStyleModel",
            "description_width": "",
            "_view_module": "@jupyter-widgets/base",
            "_model_module_version": "1.5.0",
            "_view_count": null,
            "_view_module_version": "1.2.0",
            "_model_module": "@jupyter-widgets/controls"
          }
        },
        "d8e303128ff54f8ebe3d8966e8ac4924": {
          "model_module": "@jupyter-widgets/base",
          "model_name": "LayoutModel",
          "model_module_version": "1.2.0",
          "state": {
            "_view_name": "LayoutView",
            "grid_template_rows": null,
            "right": null,
            "justify_content": null,
            "_view_module": "@jupyter-widgets/base",
            "overflow": null,
            "_model_module_version": "1.2.0",
            "_view_count": null,
            "flex_flow": null,
            "width": null,
            "min_width": null,
            "border": null,
            "align_items": null,
            "bottom": null,
            "_model_module": "@jupyter-widgets/base",
            "top": null,
            "grid_column": null,
            "overflow_y": null,
            "overflow_x": null,
            "grid_auto_flow": null,
            "grid_area": null,
            "grid_template_columns": null,
            "flex": null,
            "_model_name": "LayoutModel",
            "justify_items": null,
            "grid_row": null,
            "max_height": null,
            "align_content": null,
            "visibility": null,
            "align_self": null,
            "height": null,
            "min_height": null,
            "padding": null,
            "grid_auto_rows": null,
            "grid_gap": null,
            "max_width": null,
            "order": null,
            "_view_module_version": "1.2.0",
            "grid_template_areas": null,
            "object_position": null,
            "object_fit": null,
            "grid_auto_columns": null,
            "margin": null,
            "display": null,
            "left": null
          }
        },
        "7cffbee51d7f4265b61eceebf315f73b": {
          "model_module": "@jupyter-widgets/controls",
          "model_name": "HBoxModel",
          "model_module_version": "1.5.0",
          "state": {
            "_view_name": "HBoxView",
            "_dom_classes": [],
            "_model_name": "HBoxModel",
            "_view_module": "@jupyter-widgets/controls",
            "_model_module_version": "1.5.0",
            "_view_count": null,
            "_view_module_version": "1.5.0",
            "box_style": "",
            "layout": "IPY_MODEL_cb58346980c24fde8a24607f8823e5db",
            "_model_module": "@jupyter-widgets/controls",
            "children": [
              "IPY_MODEL_19ac4736ff0a4b94b43076b5467c0169",
              "IPY_MODEL_7c67589471c64bd5ab39db23e2f0d99f",
              "IPY_MODEL_f492c303d6fa411db6de92f816009533"
            ]
          }
        },
        "cb58346980c24fde8a24607f8823e5db": {
          "model_module": "@jupyter-widgets/base",
          "model_name": "LayoutModel",
          "model_module_version": "1.2.0",
          "state": {
            "_view_name": "LayoutView",
            "grid_template_rows": null,
            "right": null,
            "justify_content": null,
            "_view_module": "@jupyter-widgets/base",
            "overflow": null,
            "_model_module_version": "1.2.0",
            "_view_count": null,
            "flex_flow": null,
            "width": null,
            "min_width": null,
            "border": null,
            "align_items": null,
            "bottom": null,
            "_model_module": "@jupyter-widgets/base",
            "top": null,
            "grid_column": null,
            "overflow_y": null,
            "overflow_x": null,
            "grid_auto_flow": null,
            "grid_area": null,
            "grid_template_columns": null,
            "flex": null,
            "_model_name": "LayoutModel",
            "justify_items": null,
            "grid_row": null,
            "max_height": null,
            "align_content": null,
            "visibility": null,
            "align_self": null,
            "height": null,
            "min_height": null,
            "padding": null,
            "grid_auto_rows": null,
            "grid_gap": null,
            "max_width": null,
            "order": null,
            "_view_module_version": "1.2.0",
            "grid_template_areas": null,
            "object_position": null,
            "object_fit": null,
            "grid_auto_columns": null,
            "margin": null,
            "display": null,
            "left": null
          }
        },
        "19ac4736ff0a4b94b43076b5467c0169": {
          "model_module": "@jupyter-widgets/controls",
          "model_name": "HTMLModel",
          "model_module_version": "1.5.0",
          "state": {
            "_view_name": "HTMLView",
            "style": "IPY_MODEL_a0299dbaddf447e083c071c6934f3d78",
            "_dom_classes": [],
            "description": "",
            "_model_name": "HTMLModel",
            "placeholder": "​",
            "_view_module": "@jupyter-widgets/controls",
            "_model_module_version": "1.5.0",
            "value": "100%",
            "_view_count": null,
            "_view_module_version": "1.5.0",
            "description_tooltip": null,
            "_model_module": "@jupyter-widgets/controls",
            "layout": "IPY_MODEL_bda6a2577dc543558c87a75bbbb1fd2c"
          }
        },
        "7c67589471c64bd5ab39db23e2f0d99f": {
          "model_module": "@jupyter-widgets/controls",
          "model_name": "FloatProgressModel",
          "model_module_version": "1.5.0",
          "state": {
            "_view_name": "ProgressView",
            "style": "IPY_MODEL_55eccab4191c45c3a9e4dd3e9e031c16",
            "_dom_classes": [],
            "description": "",
            "_model_name": "FloatProgressModel",
            "bar_style": "success",
            "max": 24,
            "_view_module": "@jupyter-widgets/controls",
            "_model_module_version": "1.5.0",
            "value": 24,
            "_view_count": null,
            "_view_module_version": "1.5.0",
            "orientation": "horizontal",
            "min": 0,
            "description_tooltip": null,
            "_model_module": "@jupyter-widgets/controls",
            "layout": "IPY_MODEL_7c6f0a62fbff4068985738d12e30988f"
          }
        },
        "f492c303d6fa411db6de92f816009533": {
          "model_module": "@jupyter-widgets/controls",
          "model_name": "HTMLModel",
          "model_module_version": "1.5.0",
          "state": {
            "_view_name": "HTMLView",
            "style": "IPY_MODEL_9f17154897bd4705aea00c83c1f6e489",
            "_dom_classes": [],
            "description": "",
            "_model_name": "HTMLModel",
            "placeholder": "​",
            "_view_module": "@jupyter-widgets/controls",
            "_model_module_version": "1.5.0",
            "value": " 24/24 [01:46&lt;00:00,  3.75s/it]",
            "_view_count": null,
            "_view_module_version": "1.5.0",
            "description_tooltip": null,
            "_model_module": "@jupyter-widgets/controls",
            "layout": "IPY_MODEL_8f57fedcdebf45d4b2bfd8a80254162d"
          }
        },
        "a0299dbaddf447e083c071c6934f3d78": {
          "model_module": "@jupyter-widgets/controls",
          "model_name": "DescriptionStyleModel",
          "model_module_version": "1.5.0",
          "state": {
            "_view_name": "StyleView",
            "_model_name": "DescriptionStyleModel",
            "description_width": "",
            "_view_module": "@jupyter-widgets/base",
            "_model_module_version": "1.5.0",
            "_view_count": null,
            "_view_module_version": "1.2.0",
            "_model_module": "@jupyter-widgets/controls"
          }
        },
        "bda6a2577dc543558c87a75bbbb1fd2c": {
          "model_module": "@jupyter-widgets/base",
          "model_name": "LayoutModel",
          "model_module_version": "1.2.0",
          "state": {
            "_view_name": "LayoutView",
            "grid_template_rows": null,
            "right": null,
            "justify_content": null,
            "_view_module": "@jupyter-widgets/base",
            "overflow": null,
            "_model_module_version": "1.2.0",
            "_view_count": null,
            "flex_flow": null,
            "width": null,
            "min_width": null,
            "border": null,
            "align_items": null,
            "bottom": null,
            "_model_module": "@jupyter-widgets/base",
            "top": null,
            "grid_column": null,
            "overflow_y": null,
            "overflow_x": null,
            "grid_auto_flow": null,
            "grid_area": null,
            "grid_template_columns": null,
            "flex": null,
            "_model_name": "LayoutModel",
            "justify_items": null,
            "grid_row": null,
            "max_height": null,
            "align_content": null,
            "visibility": null,
            "align_self": null,
            "height": null,
            "min_height": null,
            "padding": null,
            "grid_auto_rows": null,
            "grid_gap": null,
            "max_width": null,
            "order": null,
            "_view_module_version": "1.2.0",
            "grid_template_areas": null,
            "object_position": null,
            "object_fit": null,
            "grid_auto_columns": null,
            "margin": null,
            "display": null,
            "left": null
          }
        },
        "55eccab4191c45c3a9e4dd3e9e031c16": {
          "model_module": "@jupyter-widgets/controls",
          "model_name": "ProgressStyleModel",
          "model_module_version": "1.5.0",
          "state": {
            "_view_name": "StyleView",
            "_model_name": "ProgressStyleModel",
            "description_width": "",
            "_view_module": "@jupyter-widgets/base",
            "_model_module_version": "1.5.0",
            "_view_count": null,
            "_view_module_version": "1.2.0",
            "bar_color": null,
            "_model_module": "@jupyter-widgets/controls"
          }
        },
        "7c6f0a62fbff4068985738d12e30988f": {
          "model_module": "@jupyter-widgets/base",
          "model_name": "LayoutModel",
          "model_module_version": "1.2.0",
          "state": {
            "_view_name": "LayoutView",
            "grid_template_rows": null,
            "right": null,
            "justify_content": null,
            "_view_module": "@jupyter-widgets/base",
            "overflow": null,
            "_model_module_version": "1.2.0",
            "_view_count": null,
            "flex_flow": null,
            "width": null,
            "min_width": null,
            "border": null,
            "align_items": null,
            "bottom": null,
            "_model_module": "@jupyter-widgets/base",
            "top": null,
            "grid_column": null,
            "overflow_y": null,
            "overflow_x": null,
            "grid_auto_flow": null,
            "grid_area": null,
            "grid_template_columns": null,
            "flex": null,
            "_model_name": "LayoutModel",
            "justify_items": null,
            "grid_row": null,
            "max_height": null,
            "align_content": null,
            "visibility": null,
            "align_self": null,
            "height": null,
            "min_height": null,
            "padding": null,
            "grid_auto_rows": null,
            "grid_gap": null,
            "max_width": null,
            "order": null,
            "_view_module_version": "1.2.0",
            "grid_template_areas": null,
            "object_position": null,
            "object_fit": null,
            "grid_auto_columns": null,
            "margin": null,
            "display": null,
            "left": null
          }
        },
        "9f17154897bd4705aea00c83c1f6e489": {
          "model_module": "@jupyter-widgets/controls",
          "model_name": "DescriptionStyleModel",
          "model_module_version": "1.5.0",
          "state": {
            "_view_name": "StyleView",
            "_model_name": "DescriptionStyleModel",
            "description_width": "",
            "_view_module": "@jupyter-widgets/base",
            "_model_module_version": "1.5.0",
            "_view_count": null,
            "_view_module_version": "1.2.0",
            "_model_module": "@jupyter-widgets/controls"
          }
        },
        "8f57fedcdebf45d4b2bfd8a80254162d": {
          "model_module": "@jupyter-widgets/base",
          "model_name": "LayoutModel",
          "model_module_version": "1.2.0",
          "state": {
            "_view_name": "LayoutView",
            "grid_template_rows": null,
            "right": null,
            "justify_content": null,
            "_view_module": "@jupyter-widgets/base",
            "overflow": null,
            "_model_module_version": "1.2.0",
            "_view_count": null,
            "flex_flow": null,
            "width": null,
            "min_width": null,
            "border": null,
            "align_items": null,
            "bottom": null,
            "_model_module": "@jupyter-widgets/base",
            "top": null,
            "grid_column": null,
            "overflow_y": null,
            "overflow_x": null,
            "grid_auto_flow": null,
            "grid_area": null,
            "grid_template_columns": null,
            "flex": null,
            "_model_name": "LayoutModel",
            "justify_items": null,
            "grid_row": null,
            "max_height": null,
            "align_content": null,
            "visibility": null,
            "align_self": null,
            "height": null,
            "min_height": null,
            "padding": null,
            "grid_auto_rows": null,
            "grid_gap": null,
            "max_width": null,
            "order": null,
            "_view_module_version": "1.2.0",
            "grid_template_areas": null,
            "object_position": null,
            "object_fit": null,
            "grid_auto_columns": null,
            "margin": null,
            "display": null,
            "left": null
          }
        },
        "f4220038a8a345888275b49db3da8767": {
          "model_module": "@jupyter-widgets/controls",
          "model_name": "HBoxModel",
          "model_module_version": "1.5.0",
          "state": {
            "_view_name": "HBoxView",
            "_dom_classes": [],
            "_model_name": "HBoxModel",
            "_view_module": "@jupyter-widgets/controls",
            "_model_module_version": "1.5.0",
            "_view_count": null,
            "_view_module_version": "1.5.0",
            "box_style": "",
            "layout": "IPY_MODEL_2afbd2cb1983446a9ff112dc17194f88",
            "_model_module": "@jupyter-widgets/controls",
            "children": [
              "IPY_MODEL_1acdc0776c3e480b9220bc99d318496a",
              "IPY_MODEL_2527fd54b131407aace70ae607a0afa0",
              "IPY_MODEL_059bde44ceab4aecb2ee1ee2e2b717f7"
            ]
          }
        },
        "2afbd2cb1983446a9ff112dc17194f88": {
          "model_module": "@jupyter-widgets/base",
          "model_name": "LayoutModel",
          "model_module_version": "1.2.0",
          "state": {
            "_view_name": "LayoutView",
            "grid_template_rows": null,
            "right": null,
            "justify_content": null,
            "_view_module": "@jupyter-widgets/base",
            "overflow": null,
            "_model_module_version": "1.2.0",
            "_view_count": null,
            "flex_flow": null,
            "width": null,
            "min_width": null,
            "border": null,
            "align_items": null,
            "bottom": null,
            "_model_module": "@jupyter-widgets/base",
            "top": null,
            "grid_column": null,
            "overflow_y": null,
            "overflow_x": null,
            "grid_auto_flow": null,
            "grid_area": null,
            "grid_template_columns": null,
            "flex": null,
            "_model_name": "LayoutModel",
            "justify_items": null,
            "grid_row": null,
            "max_height": null,
            "align_content": null,
            "visibility": null,
            "align_self": null,
            "height": null,
            "min_height": null,
            "padding": null,
            "grid_auto_rows": null,
            "grid_gap": null,
            "max_width": null,
            "order": null,
            "_view_module_version": "1.2.0",
            "grid_template_areas": null,
            "object_position": null,
            "object_fit": null,
            "grid_auto_columns": null,
            "margin": null,
            "display": null,
            "left": null
          }
        },
        "1acdc0776c3e480b9220bc99d318496a": {
          "model_module": "@jupyter-widgets/controls",
          "model_name": "HTMLModel",
          "model_module_version": "1.5.0",
          "state": {
            "_view_name": "HTMLView",
            "style": "IPY_MODEL_fe20651f885045e1a05ee9a0ea169a42",
            "_dom_classes": [],
            "description": "",
            "_model_name": "HTMLModel",
            "placeholder": "​",
            "_view_module": "@jupyter-widgets/controls",
            "_model_module_version": "1.5.0",
            "value": " 18%",
            "_view_count": null,
            "_view_module_version": "1.5.0",
            "description_tooltip": null,
            "_model_module": "@jupyter-widgets/controls",
            "layout": "IPY_MODEL_2da9c83e4f264120bb8fbbc1b22c9fdf"
          }
        },
        "2527fd54b131407aace70ae607a0afa0": {
          "model_module": "@jupyter-widgets/controls",
          "model_name": "FloatProgressModel",
          "model_module_version": "1.5.0",
          "state": {
            "_view_name": "ProgressView",
            "style": "IPY_MODEL_ef7f03482b9b4bb3a584985ac3e725e9",
            "_dom_classes": [],
            "description": "",
            "_model_name": "FloatProgressModel",
            "bar_style": "",
            "max": 71,
            "_view_module": "@jupyter-widgets/controls",
            "_model_module_version": "1.5.0",
            "value": 13,
            "_view_count": null,
            "_view_module_version": "1.5.0",
            "orientation": "horizontal",
            "min": 0,
            "description_tooltip": null,
            "_model_module": "@jupyter-widgets/controls",
            "layout": "IPY_MODEL_953d5d65335b4970ae9ef892eb067398"
          }
        },
        "059bde44ceab4aecb2ee1ee2e2b717f7": {
          "model_module": "@jupyter-widgets/controls",
          "model_name": "HTMLModel",
          "model_module_version": "1.5.0",
          "state": {
            "_view_name": "HTMLView",
            "style": "IPY_MODEL_91687f55bf5843d594a8d019a56f5348",
            "_dom_classes": [],
            "description": "",
            "_model_name": "HTMLModel",
            "placeholder": "​",
            "_view_module": "@jupyter-widgets/controls",
            "_model_module_version": "1.5.0",
            "value": " 13/71 [02:51&lt;12:44, 13.19s/it]",
            "_view_count": null,
            "_view_module_version": "1.5.0",
            "description_tooltip": null,
            "_model_module": "@jupyter-widgets/controls",
            "layout": "IPY_MODEL_cd8b28a7b9d84fc5a6d4ec9ec10ea7dc"
          }
        },
        "fe20651f885045e1a05ee9a0ea169a42": {
          "model_module": "@jupyter-widgets/controls",
          "model_name": "DescriptionStyleModel",
          "model_module_version": "1.5.0",
          "state": {
            "_view_name": "StyleView",
            "_model_name": "DescriptionStyleModel",
            "description_width": "",
            "_view_module": "@jupyter-widgets/base",
            "_model_module_version": "1.5.0",
            "_view_count": null,
            "_view_module_version": "1.2.0",
            "_model_module": "@jupyter-widgets/controls"
          }
        },
        "2da9c83e4f264120bb8fbbc1b22c9fdf": {
          "model_module": "@jupyter-widgets/base",
          "model_name": "LayoutModel",
          "model_module_version": "1.2.0",
          "state": {
            "_view_name": "LayoutView",
            "grid_template_rows": null,
            "right": null,
            "justify_content": null,
            "_view_module": "@jupyter-widgets/base",
            "overflow": null,
            "_model_module_version": "1.2.0",
            "_view_count": null,
            "flex_flow": null,
            "width": null,
            "min_width": null,
            "border": null,
            "align_items": null,
            "bottom": null,
            "_model_module": "@jupyter-widgets/base",
            "top": null,
            "grid_column": null,
            "overflow_y": null,
            "overflow_x": null,
            "grid_auto_flow": null,
            "grid_area": null,
            "grid_template_columns": null,
            "flex": null,
            "_model_name": "LayoutModel",
            "justify_items": null,
            "grid_row": null,
            "max_height": null,
            "align_content": null,
            "visibility": null,
            "align_self": null,
            "height": null,
            "min_height": null,
            "padding": null,
            "grid_auto_rows": null,
            "grid_gap": null,
            "max_width": null,
            "order": null,
            "_view_module_version": "1.2.0",
            "grid_template_areas": null,
            "object_position": null,
            "object_fit": null,
            "grid_auto_columns": null,
            "margin": null,
            "display": null,
            "left": null
          }
        },
        "ef7f03482b9b4bb3a584985ac3e725e9": {
          "model_module": "@jupyter-widgets/controls",
          "model_name": "ProgressStyleModel",
          "model_module_version": "1.5.0",
          "state": {
            "_view_name": "StyleView",
            "_model_name": "ProgressStyleModel",
            "description_width": "",
            "_view_module": "@jupyter-widgets/base",
            "_model_module_version": "1.5.0",
            "_view_count": null,
            "_view_module_version": "1.2.0",
            "bar_color": null,
            "_model_module": "@jupyter-widgets/controls"
          }
        },
        "953d5d65335b4970ae9ef892eb067398": {
          "model_module": "@jupyter-widgets/base",
          "model_name": "LayoutModel",
          "model_module_version": "1.2.0",
          "state": {
            "_view_name": "LayoutView",
            "grid_template_rows": null,
            "right": null,
            "justify_content": null,
            "_view_module": "@jupyter-widgets/base",
            "overflow": null,
            "_model_module_version": "1.2.0",
            "_view_count": null,
            "flex_flow": null,
            "width": null,
            "min_width": null,
            "border": null,
            "align_items": null,
            "bottom": null,
            "_model_module": "@jupyter-widgets/base",
            "top": null,
            "grid_column": null,
            "overflow_y": null,
            "overflow_x": null,
            "grid_auto_flow": null,
            "grid_area": null,
            "grid_template_columns": null,
            "flex": null,
            "_model_name": "LayoutModel",
            "justify_items": null,
            "grid_row": null,
            "max_height": null,
            "align_content": null,
            "visibility": null,
            "align_self": null,
            "height": null,
            "min_height": null,
            "padding": null,
            "grid_auto_rows": null,
            "grid_gap": null,
            "max_width": null,
            "order": null,
            "_view_module_version": "1.2.0",
            "grid_template_areas": null,
            "object_position": null,
            "object_fit": null,
            "grid_auto_columns": null,
            "margin": null,
            "display": null,
            "left": null
          }
        },
        "91687f55bf5843d594a8d019a56f5348": {
          "model_module": "@jupyter-widgets/controls",
          "model_name": "DescriptionStyleModel",
          "model_module_version": "1.5.0",
          "state": {
            "_view_name": "StyleView",
            "_model_name": "DescriptionStyleModel",
            "description_width": "",
            "_view_module": "@jupyter-widgets/base",
            "_model_module_version": "1.5.0",
            "_view_count": null,
            "_view_module_version": "1.2.0",
            "_model_module": "@jupyter-widgets/controls"
          }
        },
        "cd8b28a7b9d84fc5a6d4ec9ec10ea7dc": {
          "model_module": "@jupyter-widgets/base",
          "model_name": "LayoutModel",
          "model_module_version": "1.2.0",
          "state": {
            "_view_name": "LayoutView",
            "grid_template_rows": null,
            "right": null,
            "justify_content": null,
            "_view_module": "@jupyter-widgets/base",
            "overflow": null,
            "_model_module_version": "1.2.0",
            "_view_count": null,
            "flex_flow": null,
            "width": null,
            "min_width": null,
            "border": null,
            "align_items": null,
            "bottom": null,
            "_model_module": "@jupyter-widgets/base",
            "top": null,
            "grid_column": null,
            "overflow_y": null,
            "overflow_x": null,
            "grid_auto_flow": null,
            "grid_area": null,
            "grid_template_columns": null,
            "flex": null,
            "_model_name": "LayoutModel",
            "justify_items": null,
            "grid_row": null,
            "max_height": null,
            "align_content": null,
            "visibility": null,
            "align_self": null,
            "height": null,
            "min_height": null,
            "padding": null,
            "grid_auto_rows": null,
            "grid_gap": null,
            "max_width": null,
            "order": null,
            "_view_module_version": "1.2.0",
            "grid_template_areas": null,
            "object_position": null,
            "object_fit": null,
            "grid_auto_columns": null,
            "margin": null,
            "display": null,
            "left": null
          }
        }
      }
    }
  },
  "cells": [
    {
      "cell_type": "markdown",
      "metadata": {
        "id": "24c44cea-b869-4e36-b0ee-5a8d80b2edb8"
      },
      "source": [
        "Cancer Detection\n",
        "===="
      ],
      "id": "24c44cea-b869-4e36-b0ee-5a8d80b2edb8"
    },
    {
      "cell_type": "code",
      "metadata": {
        "id": "4d20494f-42f7-4f2c-93ea-8661e7f62cf8"
      },
      "source": [
        "#%pip install -U ipywidgets\n",
        "!pip install -U albumentations"
      ],
      "id": "4d20494f-42f7-4f2c-93ea-8661e7f62cf8",
      "execution_count": null,
      "outputs": []
    },
    {
      "cell_type": "code",
      "metadata": {
        "id": "pediatric-castle"
      },
      "source": [
        "import os\n",
        "import cv2\n",
        "import time\n",
        "import pickle\n",
        "import numpy as np\n",
        "import pandas as pd\n",
        "from tqdm.notebook import tqdm\n",
        "from datetime import date\n",
        "import matplotlib.pyplot as plt\n",
        "plt.style.use('ggplot')\n",
        "\n",
        "from sklearn.model_selection import train_test_split\n",
        "\n",
        "import torch\n",
        "from torch.utils.data import Dataset, DataLoader\n",
        "import torch.nn as nn\n",
        "import torch.optim as optim\n",
        "\n",
        "# data augmentation\n",
        "import albumentations as A\n",
        "\n",
        "from albumentations.pytorch import ToTensorV2\n",
        "\n",
        "# pretrained models\n",
        "import torchvision\n",
        "from torchvision import models, transforms\n",
        "\n",
        "from tqdm.notebook import tqdm\n",
        "\n"
      ],
      "id": "pediatric-castle",
      "execution_count": 2,
      "outputs": []
    },
    {
      "cell_type": "code",
      "metadata": {
        "id": "B1g2Um8WhxAl"
      },
      "source": [
        "! pip install kaggle"
      ],
      "id": "B1g2Um8WhxAl",
      "execution_count": null,
      "outputs": []
    },
    {
      "cell_type": "code",
      "metadata": {
        "id": "iQT7HT0ah09x",
        "colab": {
          "base_uri": "https://localhost:8080/"
        },
        "outputId": "0415d6f1-09e0-43f7-b2e7-16fe00462740"
      },
      "source": [
        "! mkdir ~/.kaggle"
      ],
      "id": "iQT7HT0ah09x",
      "execution_count": 7,
      "outputs": [
        {
          "output_type": "stream",
          "text": [
            "mkdir: cannot create directory ‘/root/.kaggle’: File exists\n"
          ],
          "name": "stdout"
        }
      ]
    },
    {
      "cell_type": "code",
      "metadata": {
        "id": "UB9r5Phah1Ai"
      },
      "source": [
        "! cp kaggle.json ~/.kaggle/"
      ],
      "id": "UB9r5Phah1Ai",
      "execution_count": 8,
      "outputs": []
    },
    {
      "cell_type": "code",
      "metadata": {
        "id": "r9CKoFK9h1DI"
      },
      "source": [
        "! chmod 600 ~/.kaggle/kaggle.json"
      ],
      "id": "r9CKoFK9h1DI",
      "execution_count": 9,
      "outputs": []
    },
    {
      "cell_type": "code",
      "metadata": {
        "colab": {
          "base_uri": "https://localhost:8080/"
        },
        "id": "xqjbNQptiA5p",
        "outputId": "b4473bab-1f12-4fb4-86b3-1711ee40ea1b"
      },
      "source": [
        "! kaggle datasets download andrewmvd/lung-and-colon-cancer-histopathological-images"
      ],
      "id": "xqjbNQptiA5p",
      "execution_count": 10,
      "outputs": [
        {
          "output_type": "stream",
          "text": [
            "Downloading lung-and-colon-cancer-histopathological-images.zip to /content\n",
            "100% 1.75G/1.76G [00:16<00:00, 76.7MB/s]\n",
            "100% 1.76G/1.76G [00:16<00:00, 113MB/s] \n"
          ],
          "name": "stdout"
        }
      ]
    },
    {
      "cell_type": "code",
      "metadata": {
        "id": "kw3X-hXrkNoV"
      },
      "source": [
        "! unzip lung-and-colon-cancer-histopathological-images"
      ],
      "id": "kw3X-hXrkNoV",
      "execution_count": null,
      "outputs": []
    },
    {
      "cell_type": "code",
      "metadata": {
        "id": "Ok2etrDJklyY",
        "colab": {
          "base_uri": "https://localhost:8080/"
        },
        "outputId": "eef3c8cd-d240-4f42-9029-09d812520ab0"
      },
      "source": [
        "!ls '/content/lung_colon_image_set/'"
      ],
      "id": "Ok2etrDJklyY",
      "execution_count": 12,
      "outputs": [
        {
          "output_type": "stream",
          "text": [
            "colon_image_sets  lung_image_sets\n"
          ],
          "name": "stdout"
        }
      ]
    },
    {
      "cell_type": "code",
      "metadata": {
        "id": "0vaoGcBNEClI"
      },
      "source": [
        "data_path = '/content/lung_colon_image_set/'"
      ],
      "id": "0vaoGcBNEClI",
      "execution_count": 13,
      "outputs": []
    },
    {
      "cell_type": "markdown",
      "metadata": {
        "id": "53c332d9-5dc6-4359-a9a3-d6f35b7d2e8a"
      },
      "source": [
        "Importing the data\n",
        "===="
      ],
      "id": "53c332d9-5dc6-4359-a9a3-d6f35b7d2e8a"
    },
    {
      "cell_type": "code",
      "metadata": {
        "colab": {
          "base_uri": "https://localhost:8080/",
          "height": 308
        },
        "id": "fresh-clear",
        "outputId": "db661774-7fd6-4faa-e5bd-06e80c326090"
      },
      "source": [
        "# data_path = '/home/oniemann/Cancer_Classifier/lung_colon_image_set/'\n",
        "\n",
        "rows = []\n",
        "\n",
        "for c_type in os.listdir(data_path):\n",
        "    for label in os.listdir(data_path + f'/{c_type}'):\n",
        "        print(label)\n",
        "        for image in os.listdir(data_path + f'/{c_type}/{label}')[:1000]:\n",
        "            row = dict()\n",
        "            row['image_file'] = image\n",
        "            row['label'] = label\n",
        "\n",
        "            # a bit redudant, could build from other data in __getitem__ if wanted\n",
        "            row['image_path'] = data_path + f'/{c_type}/{label}'\n",
        "            if '.jpeg' in row['image_file']:\n",
        "                rows.append(row)\n",
        "        \n",
        "df = pd.DataFrame(rows[1:])\n",
        "df['image_path'] = df['image_path'].map(lambda x: x.replace(\"//\", \"/\"))\n",
        "print(len(df))\n",
        "df.head()"
      ],
      "id": "fresh-clear",
      "execution_count": 18,
      "outputs": [
        {
          "output_type": "stream",
          "text": [
            "colon_n\n",
            "colon_aca\n",
            "lung_scc\n",
            "lung_aca\n",
            "lung_n\n",
            "4999\n"
          ],
          "name": "stdout"
        },
        {
          "output_type": "execute_result",
          "data": {
            "text/html": [
              "<div>\n",
              "<style scoped>\n",
              "    .dataframe tbody tr th:only-of-type {\n",
              "        vertical-align: middle;\n",
              "    }\n",
              "\n",
              "    .dataframe tbody tr th {\n",
              "        vertical-align: top;\n",
              "    }\n",
              "\n",
              "    .dataframe thead th {\n",
              "        text-align: right;\n",
              "    }\n",
              "</style>\n",
              "<table border=\"1\" class=\"dataframe\">\n",
              "  <thead>\n",
              "    <tr style=\"text-align: right;\">\n",
              "      <th></th>\n",
              "      <th>image_file</th>\n",
              "      <th>label</th>\n",
              "      <th>image_path</th>\n",
              "    </tr>\n",
              "  </thead>\n",
              "  <tbody>\n",
              "    <tr>\n",
              "      <th>0</th>\n",
              "      <td>colonn3067.jpeg</td>\n",
              "      <td>colon_n</td>\n",
              "      <td>/content/lung_colon_image_set/colon_image_sets...</td>\n",
              "    </tr>\n",
              "    <tr>\n",
              "      <th>1</th>\n",
              "      <td>colonn949.jpeg</td>\n",
              "      <td>colon_n</td>\n",
              "      <td>/content/lung_colon_image_set/colon_image_sets...</td>\n",
              "    </tr>\n",
              "    <tr>\n",
              "      <th>2</th>\n",
              "      <td>colonn2843.jpeg</td>\n",
              "      <td>colon_n</td>\n",
              "      <td>/content/lung_colon_image_set/colon_image_sets...</td>\n",
              "    </tr>\n",
              "    <tr>\n",
              "      <th>3</th>\n",
              "      <td>colonn1210.jpeg</td>\n",
              "      <td>colon_n</td>\n",
              "      <td>/content/lung_colon_image_set/colon_image_sets...</td>\n",
              "    </tr>\n",
              "    <tr>\n",
              "      <th>4</th>\n",
              "      <td>colonn4448.jpeg</td>\n",
              "      <td>colon_n</td>\n",
              "      <td>/content/lung_colon_image_set/colon_image_sets...</td>\n",
              "    </tr>\n",
              "  </tbody>\n",
              "</table>\n",
              "</div>"
            ],
            "text/plain": [
              "        image_file    label                                         image_path\n",
              "0  colonn3067.jpeg  colon_n  /content/lung_colon_image_set/colon_image_sets...\n",
              "1   colonn949.jpeg  colon_n  /content/lung_colon_image_set/colon_image_sets...\n",
              "2  colonn2843.jpeg  colon_n  /content/lung_colon_image_set/colon_image_sets...\n",
              "3  colonn1210.jpeg  colon_n  /content/lung_colon_image_set/colon_image_sets...\n",
              "4  colonn4448.jpeg  colon_n  /content/lung_colon_image_set/colon_image_sets..."
            ]
          },
          "metadata": {
            "tags": []
          },
          "execution_count": 18
        }
      ]
    },
    {
      "cell_type": "code",
      "metadata": {
        "colab": {
          "base_uri": "https://localhost:8080/"
        },
        "id": "83c99116-9e20-462d-986b-f806de57ad8f",
        "outputId": "0016e57a-90bc-4303-9498-293dcbaf7d24"
      },
      "source": [
        "df.label.value_counts()"
      ],
      "id": "83c99116-9e20-462d-986b-f806de57ad8f",
      "execution_count": 15,
      "outputs": [
        {
          "output_type": "execute_result",
          "data": {
            "text/plain": [
              "lung_n       5000\n",
              "lung_scc     5000\n",
              "colon_aca    5000\n",
              "lung_aca     5000\n",
              "colon_n      4999\n",
              "Name: label, dtype: int64"
            ]
          },
          "metadata": {
            "tags": []
          },
          "execution_count": 15
        }
      ]
    },
    {
      "cell_type": "markdown",
      "metadata": {
        "id": "2669c53c-a0b1-49c3-986e-b42e44276369"
      },
      "source": [
        "# Create Augmented Dataset\n",
        "\n",
        "- crop\n",
        "\n",
        "- horizontal/vertical reflection\n",
        "\n",
        "- rotation\n",
        "\n",
        "- brightness contrast"
      ],
      "id": "2669c53c-a0b1-49c3-986e-b42e44276369"
    },
    {
      "cell_type": "code",
      "metadata": {
        "id": "intimate-contest"
      },
      "source": [
        "class CancerImagesDataset(Dataset):\n",
        "    def __init__(self, df):\n",
        "        self.df = df\n",
        "        \n",
        "        self.label_dict = {label:idx for idx, label in enumerate(df.label.unique())}\n",
        "        \n",
        "        # Randomly augment images for variety\n",
        "        self.transforms = A.Compose([\n",
        "            # spatial transforms\n",
        "            A.RandomCrop(width=255, height=255),\n",
        "            A.HorizontalFlip(p=.5),\n",
        "            A.VerticalFlip(p=.5),\n",
        "            A.Rotate(limit = 10, \n",
        "                     border_mode = cv2.BORDER_CONSTANT, \n",
        "                     value = 0.0, p = .75),\n",
        "\n",
        "            # pixel-level transformation\n",
        "            A.RandomBrightnessContrast(p=0.1),\n",
        "\n",
        "            # we will normalize according to ImageNet since we will be using a pre-trained ResNet\n",
        "            # this adjusts from [0,255] to [0,1]\n",
        "            A.Normalize(mean=(0.485, 0.456, 0.406), std=(0.229, 0.224, 0.225)),\n",
        "\n",
        "            # convert to a tensor and move color channels\n",
        "            ToTensorV2()\n",
        "        ])\n",
        "        \n",
        "    def __len__(self):\n",
        "        return len(self.df)\n",
        "    \n",
        "    def __getitem__(self, idx):\n",
        "        row = self.df.iloc[idx]\n",
        "        \n",
        "        path = row['image_path'] + f\"/{row['image_file']}\"\n",
        "\n",
        "        img = cv2.imread(path)\n",
        "\n",
        "        #img = cv2.cvtColor(img, cv2.COLOR_BGR2RGB)\n",
        "        \n",
        "        transformed = self.transforms(image=img.astype(np.uint8))\n",
        "        img = transformed['image']\n",
        "        \n",
        "        #Scale to v\n",
        "        img = ((img - img.min()) / (img.max()-img.min()))\n",
        "        \n",
        "        label = torch.tensor(self.label_dict[row['label']])\n",
        "        \n",
        "        return img, label"
      ],
      "id": "intimate-contest",
      "execution_count": 16,
      "outputs": []
    },
    {
      "cell_type": "code",
      "metadata": {
        "id": "b29025e7-b5d8-4c7d-8566-6d161fcfba1d",
        "outputId": "9f2c074f-b560-4bd8-896e-06d0609a39ea"
      },
      "source": [
        "!pwd"
      ],
      "id": "b29025e7-b5d8-4c7d-8566-6d161fcfba1d",
      "execution_count": null,
      "outputs": [
        {
          "output_type": "stream",
          "text": [
            "/home/oniemann/Cancer_Classifier\n"
          ],
          "name": "stdout"
        }
      ]
    },
    {
      "cell_type": "code",
      "metadata": {
        "id": "challenging-minimum",
        "outputId": "870dbe5b-88b9-4689-9882-d82cc5730729"
      },
      "source": [
        "# Example\n",
        "ds = CancerImagesDataset(df)\n",
        "translate_back = {v:k for k, v in ds.label_dict.items()}\n",
        "img = np.transpose(ds[1994][0], (1, 2, 0))\n",
        "print(translate_back[ds[1994][1].item()])\n",
        "plt.imshow(img);"
      ],
      "id": "challenging-minimum",
      "execution_count": null,
      "outputs": [
        {
          "output_type": "stream",
          "text": [
            "lung_aca\n"
          ],
          "name": "stdout"
        },
        {
          "output_type": "display_data",
          "data": {
            "image/png": "[encoded data removed]",
            "text/plain": [
              "<Figure size 432x288 with 1 Axes>"
            ]
          },
          "metadata": {
            "tags": []
          }
        }
      ]
    },
    {
      "cell_type": "markdown",
      "metadata": {
        "id": "8fc9fbdb-2475-473b-a265-505d7a4e8008"
      },
      "source": [
        "- Create data loaders for train/test split"
      ],
      "id": "8fc9fbdb-2475-473b-a265-505d7a4e8008"
    },
    {
      "cell_type": "code",
      "metadata": {
        "id": "detected-blank"
      },
      "source": [
        "batch_size = 16\n",
        "\n",
        "df_train, df_test = train_test_split(df)\n",
        "df_train, df_valid = train_test_split(df_train)\n",
        "\n",
        "ds_train = CancerImagesDataset(df_train)\n",
        "ds_valid = CancerImagesDataset(df_valid)\n",
        "\n",
        "dl_train = DataLoader(ds_train, batch_size = batch_size, shuffle=True)\n",
        "dl_valid = DataLoader(ds_valid, batch_size = batch_size, shuffle=False)"
      ],
      "id": "detected-blank",
      "execution_count": null,
      "outputs": []
    },
    {
      "cell_type": "markdown",
      "metadata": {
        "id": "norwegian-diagram"
      },
      "source": [
        "# Identify Best Pretrained CNN Model:\n",
        "\n",
        "- The following code was used to test different baseline models from the torchvision model library.\n",
        "- Models tested: resnet18, densenet121, mobilenet_v2, alexnet"
      ],
      "id": "norwegian-diagram"
    },
    {
      "cell_type": "code",
      "metadata": {
        "collapsed": true,
        "jupyter": {
          "outputs_hidden": true
        },
        "tags": [],
        "id": "26df57f5-b3fa-4078-8712-a71ff7c93b58",
        "outputId": "c86f635b-e9b0-47a4-f3f1-5ca14426f13d"
      },
      "source": [
        "dir(models)"
      ],
      "id": "26df57f5-b3fa-4078-8712-a71ff7c93b58",
      "execution_count": null,
      "outputs": [
        {
          "output_type": "execute_result",
          "data": {
            "text/plain": [
              "['AlexNet',\n",
              " 'DenseNet',\n",
              " 'GoogLeNet',\n",
              " 'GoogLeNetOutputs',\n",
              " 'Inception3',\n",
              " 'InceptionOutputs',\n",
              " 'MNASNet',\n",
              " 'MobileNetV2',\n",
              " 'MobileNetV3',\n",
              " 'ResNet',\n",
              " 'ShuffleNetV2',\n",
              " 'SqueezeNet',\n",
              " 'VGG',\n",
              " '_GoogLeNetOutputs',\n",
              " '_InceptionOutputs',\n",
              " '__builtins__',\n",
              " '__cached__',\n",
              " '__doc__',\n",
              " '__file__',\n",
              " '__loader__',\n",
              " '__name__',\n",
              " '__package__',\n",
              " '__path__',\n",
              " '__spec__',\n",
              " '_utils',\n",
              " 'alexnet',\n",
              " 'densenet',\n",
              " 'densenet121',\n",
              " 'densenet161',\n",
              " 'densenet169',\n",
              " 'densenet201',\n",
              " 'detection',\n",
              " 'googlenet',\n",
              " 'inception',\n",
              " 'inception_v3',\n",
              " 'mnasnet',\n",
              " 'mnasnet0_5',\n",
              " 'mnasnet0_75',\n",
              " 'mnasnet1_0',\n",
              " 'mnasnet1_3',\n",
              " 'mobilenet',\n",
              " 'mobilenet_v2',\n",
              " 'mobilenet_v3_large',\n",
              " 'mobilenet_v3_small',\n",
              " 'mobilenetv2',\n",
              " 'mobilenetv3',\n",
              " 'quantization',\n",
              " 'resnet',\n",
              " 'resnet101',\n",
              " 'resnet152',\n",
              " 'resnet18',\n",
              " 'resnet34',\n",
              " 'resnet50',\n",
              " 'resnext101_32x8d',\n",
              " 'resnext50_32x4d',\n",
              " 'segmentation',\n",
              " 'shufflenet_v2_x0_5',\n",
              " 'shufflenet_v2_x1_0',\n",
              " 'shufflenet_v2_x1_5',\n",
              " 'shufflenet_v2_x2_0',\n",
              " 'shufflenetv2',\n",
              " 'squeezenet',\n",
              " 'squeezenet1_0',\n",
              " 'squeezenet1_1',\n",
              " 'utils',\n",
              " 'vgg',\n",
              " 'vgg11',\n",
              " 'vgg11_bn',\n",
              " 'vgg13',\n",
              " 'vgg13_bn',\n",
              " 'vgg16',\n",
              " 'vgg16_bn',\n",
              " 'vgg19',\n",
              " 'vgg19_bn',\n",
              " 'video',\n",
              " 'wide_resnet101_2',\n",
              " 'wide_resnet50_2']"
            ]
          },
          "metadata": {
            "tags": []
          },
          "execution_count": 10
        }
      ]
    },
    {
      "cell_type": "code",
      "metadata": {
        "tags": [],
        "id": "allied-brass"
      },
      "source": [
        "today = str(date.today())\n",
        "model = models.densenet121(pretrained=True)\n",
        "model.classifier = nn.Linear(1024, 5, bias=True)"
      ],
      "id": "allied-brass",
      "execution_count": null,
      "outputs": []
    },
    {
      "cell_type": "markdown",
      "metadata": {
        "jupyter": {
          "outputs_hidden": true
        },
        "tags": [],
        "id": "02ca1d12-a9ce-407f-b6a1-36126f71b7ff"
      },
      "source": [
        "## model"
      ],
      "id": "02ca1d12-a9ce-407f-b6a1-36126f71b7ff"
    },
    {
      "cell_type": "code",
      "metadata": {
        "tags": [],
        "id": "bibliographic-equivalent"
      },
      "source": [
        "# from torchsummary import summary\n",
        "# summary(model, input_size = (3, 400, 400), device='cpu')"
      ],
      "id": "bibliographic-equivalent",
      "execution_count": null,
      "outputs": []
    },
    {
      "cell_type": "code",
      "metadata": {
        "tags": [],
        "id": "informational-punch"
      },
      "source": [
        "# for param in resnet.parameters():\n",
        "#             param.requires_grad = False\n",
        "        \n",
        "# resnet.fc = nn.Linear(512, 4, bias = True)\n",
        "\n",
        "# for name, param in resnet.named_parameters():\n",
        "#     print(f\"{name} gradient is set to\", param.requires_grad)"
      ],
      "id": "informational-punch",
      "execution_count": null,
      "outputs": []
    },
    {
      "cell_type": "code",
      "metadata": {
        "id": "b7f50bd1-6acc-41de-bde8-f864c24bc737"
      },
      "source": [
        "!cd models"
      ],
      "id": "b7f50bd1-6acc-41de-bde8-f864c24bc737",
      "execution_count": null,
      "outputs": []
    },
    {
      "cell_type": "code",
      "metadata": {
        "collapsed": true,
        "jupyter": {
          "outputs_hidden": true,
          "source_hidden": true
        },
        "tags": [],
        "id": "fce4a261-293d-4a6f-97de-ffa7ce2f7d63",
        "outputId": "a02e59d8-63db-4ff1-9215-d19a4592faff"
      },
      "source": [
        "directory = 'densenet121'\n",
        "!mkdir /home/oniemann/Cancer_Classifier/models/$directory\n",
        "!mkdir /home/oniemann/Cancer_Classifier/models/$directory/model_checkpoints"
      ],
      "id": "fce4a261-293d-4a6f-97de-ffa7ce2f7d63",
      "execution_count": null,
      "outputs": [
        {
          "output_type": "stream",
          "text": [
            "mkdir: cannot create directory ‘/home/oniemann/Cancer_Classifier/models/densenet121’: File exists\n",
            "mkdir: cannot create directory ‘/home/oniemann/Cancer_Classifier/models/densenet121/model_checkpoints’: File exists\n"
          ],
          "name": "stdout"
        }
      ]
    },
    {
      "cell_type": "markdown",
      "metadata": {
        "id": "eight-binding"
      },
      "source": [
        "# Training Loop"
      ],
      "id": "eight-binding"
    },
    {
      "cell_type": "code",
      "metadata": {
        "tags": [],
        "id": "077dc6ca-484c-4150-b9ce-94530b80f395",
        "outputId": "7c66d631-4597-4821-84b6-16f0a79b8a79"
      },
      "source": [
        "torch.cuda.is_available()\n",
        "#!nvidia-smi"
      ],
      "id": "077dc6ca-484c-4150-b9ce-94530b80f395",
      "execution_count": null,
      "outputs": [
        {
          "output_type": "execute_result",
          "data": {
            "text/plain": [
              "True"
            ]
          },
          "metadata": {
            "tags": []
          },
          "execution_count": 26
        }
      ]
    },
    {
      "cell_type": "code",
      "metadata": {
        "tags": [],
        "id": "7f0bc22d-989f-4a3b-af7d-0b280f7820c1",
        "outputId": "bea61584-6e91-48c7-9dbf-ed95b0e9397d"
      },
      "source": [
        "device = torch.device(0)\n",
        "model.to(device)\n",
        "print(\"model successfully made it onto GPU\")"
      ],
      "id": "7f0bc22d-989f-4a3b-af7d-0b280f7820c1",
      "execution_count": null,
      "outputs": [
        {
          "output_type": "stream",
          "text": [
            "model successfully made it onto GPU\n"
          ],
          "name": "stdout"
        }
      ]
    },
    {
      "cell_type": "code",
      "metadata": {
        "id": "successful-murray"
      },
      "source": [
        "def one_pass(model, dataloader, optimizer, lossFun, lrs, idx, backwards=True, print_loss=False):\n",
        "    if backwards == True:\n",
        "        model.train()\n",
        "    else:\n",
        "        model.eval()\n",
        "    \n",
        "    total_loss = 0.0\n",
        "    for x, y in tqdm(dataloader):\n",
        "        #if backwards == True:\n",
        "            #lr = lrs[idx]\n",
        "            #update_optimizer(optimizer, lr)\n",
        "            \n",
        "        x, y = x.to(device), y.to(device)\n",
        "        \n",
        "        y_pred = model(x)\n",
        "        loss = lossFun(y_pred, y)\n",
        "        total_loss += loss.item()\n",
        "        \n",
        "        if backwards == True:\n",
        "            optimizer.zero_grad()\n",
        "            loss.backward()\n",
        "            optimizer.step()\n",
        "            idx += 1\n",
        "            \n",
        "    avg_loss = total_loss / len(dataloader)\n",
        "    \n",
        "    if print_loss == True:\n",
        "        print(avg_loss)\n",
        "    \n",
        "    return avg_loss, idx\n",
        "\n",
        "def one_pass_acc(model, dataloader, num_points):\n",
        "    model.eval()\n",
        "    total_incorrect = 0\n",
        "    \n",
        "    softmax = nn.LogSoftmax(dim=1)\n",
        "    \n",
        "    for x, y in dataloader:\n",
        "        x, y = x.to(device), y.to(device)\n",
        "        y_pred = softmax(model(x))\n",
        "        y_pred = torch.argmax(y_pred, dim=1)\n",
        "        \n",
        "        total_incorrect += torch.count_nonzero(y - y_pred).item()\n",
        "        \n",
        "    percent_wrong = total_incorrect / num_points\n",
        "    return 1 - percent_wrong"
      ],
      "id": "successful-murray",
      "execution_count": null,
      "outputs": []
    },
    {
      "cell_type": "markdown",
      "metadata": {
        "id": "f21d6dbf-2810-4b62-a573-4a8d5ff61b48"
      },
      "source": [
        "# Training the Single Multi-Class Model:\n",
        "\n",
        "- The following cells were used to both identify the best pretrained baseline model and act as a representative for future baseline multi-class tasks"
      ],
      "id": "f21d6dbf-2810-4b62-a573-4a8d5ff61b48"
    },
    {
      "cell_type": "code",
      "metadata": {
        "collapsed": true,
        "jupyter": {
          "outputs_hidden": true
        },
        "tags": [],
        "id": "82f5cb77-da2c-4242-804c-5cd4630e451c",
        "outputId": "e9d536ec-1cc0-440d-a192-9d4df72442d0"
      },
      "source": [
        "lossFun = nn.CrossEntropyLoss()\n",
        "\n",
        "params_to_update = []\n",
        "\n",
        "for param in model.parameters():\n",
        "    if param.requires_grad == True:\n",
        "        params_to_update.append(param)\n",
        "        \n",
        "optimizer = optim.AdamW(params_to_update, lr=0.01)\n",
        "\n",
        "num_epochs = 10\n",
        "train_losses = []\n",
        "valid_losses = []\n",
        "train_accs = []\n",
        "valid_accs = []\n",
        "\n",
        "iterations = num_epochs*len(dl_train)\n",
        "lrs = get_cosine_triangular_lr(max_lr=0.01, iterations=iterations)\n",
        "idx = 0\n",
        "\n",
        "for i, epoch in tqdm(enumerate(range(num_epochs))):\n",
        "    print('Epoch: ', epoch)\n",
        "    \n",
        "    train_loss, idx = one_pass(model, dl_train, optimizer, lossFun, lrs, idx)\n",
        "    train_losses.append(train_loss)\n",
        "    print('Train loss: ', train_loss)\n",
        "    \n",
        "    valid_loss, idx = one_pass(model, dl_valid, optimizer, lossFun, lrs=None, idx=idx, backwards=False)\n",
        "    valid_losses.append(valid_loss)\n",
        "    print('Valid loss: ', valid_loss)\n",
        "    \n",
        "    train_acc = one_pass_acc(model, dl_train, len(ds_train))\n",
        "    valid_acc = one_pass_acc(model, dl_valid, len(ds_valid))\n",
        "    print('Train Acc: ', train_acc)\n",
        "    print('Valid Acc: ', valid_acc)\n",
        "    \n",
        "    train_losses.append(train_loss)\n",
        "    train_accs.append(train_acc)\n",
        "    valid_losses.append(valid_loss)\n",
        "    valid_accs.append(valid_acc)\n",
        "    \n",
        "    # Save model for the epoch\n",
        "    model_name = f'models/{directory}/{today}_epoch_{epoch}_tacc_{train_acc:.2f}_vacc_{valid_acc:.2f}.pkl'\n",
        "    pickle.dump(model, open(model_name, 'wb'))\n",
        "    \n",
        "    # Parameter Checkpoint\n",
        "    checkpoint = {'model_state_dict': model.state_dict(),\n",
        "                  'optimizer_state_dict' :optimizer.state_dict()}\n",
        "    torch.save(checkpoint, f'models/{directory}/model_checkpoints/{today}_epoch_{epoch}.pt')"
      ],
      "id": "82f5cb77-da2c-4242-804c-5cd4630e451c",
      "execution_count": null,
      "outputs": [
        {
          "output_type": "display_data",
          "data": {
            "application/vnd.jupyter.widget-view+json": {
              "model_id": "2e7f4ea4499d4964bef21f86b8c7fe2d",
              "version_major": 2,
              "version_minor": 0
            },
            "text/plain": [
              "0it [00:00, ?it/s]"
            ]
          },
          "metadata": {
            "tags": []
          }
        },
        {
          "output_type": "stream",
          "text": [
            "Epoch:  0\n"
          ],
          "name": "stdout"
        },
        {
          "output_type": "display_data",
          "data": {
            "application/vnd.jupyter.widget-view+json": {
              "model_id": "08b2ef1cbe9f4bc28ba29af1c3936780",
              "version_major": 2,
              "version_minor": 0
            },
            "text/plain": [
              "  0%|          | 0/879 [00:00<?, ?it/s]"
            ]
          },
          "metadata": {
            "tags": []
          }
        },
        {
          "output_type": "stream",
          "text": [
            "Train loss:  0.7565150805945011\n"
          ],
          "name": "stdout"
        },
        {
          "output_type": "display_data",
          "data": {
            "application/vnd.jupyter.widget-view+json": {
              "model_id": "ffd94b0460ea42ee99caeab6072f708c",
              "version_major": 2,
              "version_minor": 0
            },
            "text/plain": [
              "  0%|          | 0/293 [00:00<?, ?it/s]"
            ]
          },
          "metadata": {
            "tags": []
          }
        },
        {
          "output_type": "stream",
          "text": [
            "Valid loss:  7.847371351189988\n",
            "Train Acc:  0.6966787568451747\n",
            "Valid Acc:  0.028156996587030747\n",
            "Epoch:  1\n"
          ],
          "name": "stdout"
        },
        {
          "output_type": "display_data",
          "data": {
            "application/vnd.jupyter.widget-view+json": {
              "model_id": "72033a615af5483b84c34993c9080398",
              "version_major": 2,
              "version_minor": 0
            },
            "text/plain": [
              "  0%|          | 0/879 [00:00<?, ?it/s]"
            ]
          },
          "metadata": {
            "tags": []
          }
        },
        {
          "output_type": "stream",
          "text": [
            "Train loss:  0.4525623443420972\n"
          ],
          "name": "stdout"
        },
        {
          "output_type": "display_data",
          "data": {
            "application/vnd.jupyter.widget-view+json": {
              "model_id": "a3f5ab0c96124945b9cd70ee98bd2408",
              "version_major": 2,
              "version_minor": 0
            },
            "text/plain": [
              "  0%|          | 0/293 [00:00<?, ?it/s]"
            ]
          },
          "metadata": {
            "tags": []
          }
        },
        {
          "output_type": "stream",
          "text": [
            "Valid loss:  8.709438563206904\n",
            "Train Acc:  0.8517175165350971\n",
            "Valid Acc:  0.1772610921501706\n",
            "Epoch:  2\n"
          ],
          "name": "stdout"
        },
        {
          "output_type": "display_data",
          "data": {
            "application/vnd.jupyter.widget-view+json": {
              "model_id": "0d3947f3893e4ed5ad0f62fe513dc1e4",
              "version_major": 2,
              "version_minor": 0
            },
            "text/plain": [
              "  0%|          | 0/879 [00:00<?, ?it/s]"
            ]
          },
          "metadata": {
            "tags": []
          }
        },
        {
          "output_type": "stream",
          "text": [
            "Train loss:  0.3726421116901068\n"
          ],
          "name": "stdout"
        },
        {
          "output_type": "display_data",
          "data": {
            "application/vnd.jupyter.widget-view+json": {
              "model_id": "4b22e9a51c76418aa6e976c8f23dee80",
              "version_major": 2,
              "version_minor": 0
            },
            "text/plain": [
              "  0%|          | 0/293 [00:00<?, ?it/s]"
            ]
          },
          "metadata": {
            "tags": []
          }
        },
        {
          "output_type": "stream",
          "text": [
            "Valid loss:  10.23386074984033\n",
            "Train Acc:  0.7811677690064718\n",
            "Valid Acc:  0.09087030716723554\n",
            "Epoch:  3\n"
          ],
          "name": "stdout"
        },
        {
          "output_type": "display_data",
          "data": {
            "application/vnd.jupyter.widget-view+json": {
              "model_id": "0b9a842ea5bd44c0930391f91d45b302",
              "version_major": 2,
              "version_minor": 0
            },
            "text/plain": [
              "  0%|          | 0/879 [00:00<?, ?it/s]"
            ]
          },
          "metadata": {
            "tags": []
          }
        },
        {
          "output_type": "stream",
          "text": [
            "Train loss:  0.3475946295493631\n"
          ],
          "name": "stdout"
        },
        {
          "output_type": "display_data",
          "data": {
            "application/vnd.jupyter.widget-view+json": {
              "model_id": "037119c2bfd342409b3f462feb20c4ef",
              "version_major": 2,
              "version_minor": 0
            },
            "text/plain": [
              "  0%|          | 0/293 [00:00<?, ?it/s]"
            ]
          },
          "metadata": {
            "tags": []
          }
        },
        {
          "output_type": "stream",
          "text": [
            "Valid loss:  10.436436739391027\n",
            "Train Acc:  0.8229855629044875\n",
            "Valid Acc:  0.1710750853242321\n",
            "Epoch:  4\n"
          ],
          "name": "stdout"
        },
        {
          "output_type": "display_data",
          "data": {
            "application/vnd.jupyter.widget-view+json": {
              "model_id": "57e6cf9f6bc14330aed4deef6fc7b072",
              "version_major": 2,
              "version_minor": 0
            },
            "text/plain": [
              "  0%|          | 0/879 [00:00<?, ?it/s]"
            ]
          },
          "metadata": {
            "tags": []
          }
        },
        {
          "output_type": "stream",
          "text": [
            "Train loss:  0.32152573057620937\n"
          ],
          "name": "stdout"
        },
        {
          "output_type": "display_data",
          "data": {
            "application/vnd.jupyter.widget-view+json": {
              "model_id": "353f51b12ed749fb921f3fada828c19b",
              "version_major": 2,
              "version_minor": 0
            },
            "text/plain": [
              "  0%|          | 0/293 [00:00<?, ?it/s]"
            ]
          },
          "metadata": {
            "tags": []
          }
        },
        {
          "output_type": "stream",
          "text": [
            "Valid loss:  11.615591351896423\n",
            "Train Acc:  0.824407936846597\n",
            "Valid Acc:  0.1715017064846417\n",
            "Epoch:  5\n"
          ],
          "name": "stdout"
        },
        {
          "output_type": "display_data",
          "data": {
            "application/vnd.jupyter.widget-view+json": {
              "model_id": "ea80aaf1d37241858a2e028963220a48",
              "version_major": 2,
              "version_minor": 0
            },
            "text/plain": [
              "  0%|          | 0/879 [00:00<?, ?it/s]"
            ]
          },
          "metadata": {
            "tags": []
          }
        },
        {
          "output_type": "stream",
          "text": [
            "Train loss:  0.30416974107882133\n"
          ],
          "name": "stdout"
        },
        {
          "output_type": "display_data",
          "data": {
            "application/vnd.jupyter.widget-view+json": {
              "model_id": "8450aaa102e64c298220ab2f293e71d2",
              "version_major": 2,
              "version_minor": 0
            },
            "text/plain": [
              "  0%|          | 0/293 [00:00<?, ?it/s]"
            ]
          },
          "metadata": {
            "tags": []
          }
        },
        {
          "output_type": "stream",
          "text": [
            "Valid loss:  10.56379355993694\n",
            "Train Acc:  0.9084702368252614\n",
            "Valid Acc:  0.20968430034129693\n",
            "Epoch:  6\n"
          ],
          "name": "stdout"
        },
        {
          "output_type": "display_data",
          "data": {
            "application/vnd.jupyter.widget-view+json": {
              "model_id": "8338b6e9c2254722b1bf818f6fa883b7",
              "version_major": 2,
              "version_minor": 0
            },
            "text/plain": [
              "  0%|          | 0/879 [00:00<?, ?it/s]"
            ]
          },
          "metadata": {
            "tags": []
          }
        },
        {
          "output_type": "stream",
          "text": [
            "Train loss:  0.2777005713814456\n"
          ],
          "name": "stdout"
        },
        {
          "output_type": "display_data",
          "data": {
            "application/vnd.jupyter.widget-view+json": {
              "model_id": "1a6400ab992342e3b48356364c4647f2",
              "version_major": 2,
              "version_minor": 0
            },
            "text/plain": [
              "  0%|          | 0/293 [00:00<?, ?it/s]"
            ]
          },
          "metadata": {
            "tags": []
          }
        },
        {
          "output_type": "stream",
          "text": [
            "Valid loss:  11.58653934823775\n",
            "Train Acc:  0.8539221961453667\n",
            "Valid Acc:  0.2037116040955631\n",
            "Epoch:  7\n"
          ],
          "name": "stdout"
        },
        {
          "output_type": "display_data",
          "data": {
            "application/vnd.jupyter.widget-view+json": {
              "model_id": "5f2eb800656945a788eb619ff72b9a7c",
              "version_major": 2,
              "version_minor": 0
            },
            "text/plain": [
              "  0%|          | 0/879 [00:00<?, ?it/s]"
            ]
          },
          "metadata": {
            "tags": []
          }
        },
        {
          "output_type": "stream",
          "text": [
            "Train loss:  0.27386252147244106\n"
          ],
          "name": "stdout"
        },
        {
          "output_type": "display_data",
          "data": {
            "application/vnd.jupyter.widget-view+json": {
              "model_id": "ac22d1292540492b97aa903c80a2af20",
              "version_major": 2,
              "version_minor": 0
            },
            "text/plain": [
              "  0%|          | 0/293 [00:00<?, ?it/s]"
            ]
          },
          "metadata": {
            "tags": []
          }
        },
        {
          "output_type": "stream",
          "text": [
            "Valid loss:  9.52670332026563\n",
            "Train Acc:  0.749662186188749\n",
            "Valid Acc:  0.10174914675767921\n",
            "Epoch:  8\n"
          ],
          "name": "stdout"
        },
        {
          "output_type": "display_data",
          "data": {
            "application/vnd.jupyter.widget-view+json": {
              "model_id": "2935c833791046839479c6c0a3f5d248",
              "version_major": 2,
              "version_minor": 0
            },
            "text/plain": [
              "  0%|          | 0/879 [00:00<?, ?it/s]"
            ]
          },
          "metadata": {
            "tags": []
          }
        },
        {
          "output_type": "stream",
          "text": [
            "Train loss:  0.24962360047193857\n"
          ],
          "name": "stdout"
        },
        {
          "output_type": "display_data",
          "data": {
            "application/vnd.jupyter.widget-view+json": {
              "model_id": "1d10ef59e69846dd81830f9d10d2589e",
              "version_major": 2,
              "version_minor": 0
            },
            "text/plain": [
              "  0%|          | 0/293 [00:00<?, ?it/s]"
            ]
          },
          "metadata": {
            "tags": []
          }
        },
        {
          "output_type": "stream",
          "text": [
            "Valid loss:  20.374847607401044\n",
            "Train Acc:  0.5340302965649669\n",
            "Valid Acc:  0.2239761092150171\n",
            "Epoch:  9\n"
          ],
          "name": "stdout"
        },
        {
          "output_type": "display_data",
          "data": {
            "application/vnd.jupyter.widget-view+json": {
              "model_id": "3a9cf604109440a6891da7c6a292e000",
              "version_major": 2,
              "version_minor": 0
            },
            "text/plain": [
              "  0%|          | 0/879 [00:00<?, ?it/s]"
            ]
          },
          "metadata": {
            "tags": []
          }
        },
        {
          "output_type": "stream",
          "text": [
            "Train loss:  0.25939175018890254\n"
          ],
          "name": "stdout"
        },
        {
          "output_type": "display_data",
          "data": {
            "application/vnd.jupyter.widget-view+json": {
              "model_id": "bd054cdd059a45eeb55f7472441fdf88",
              "version_major": 2,
              "version_minor": 0
            },
            "text/plain": [
              "  0%|          | 0/293 [00:00<?, ?it/s]"
            ]
          },
          "metadata": {
            "tags": []
          }
        },
        {
          "output_type": "stream",
          "text": [
            "Valid loss:  9.988693709259554\n",
            "Train Acc:  0.9085413555223668\n",
            "Valid Acc:  0.20904436860068254\n"
          ],
          "name": "stdout"
        }
      ]
    },
    {
      "cell_type": "markdown",
      "metadata": {
        "id": "eb679d14-b18e-4bd6-bb05-85aff905a44f"
      },
      "source": [
        "Deciding on model architecture:\n",
        "====\n",
        "\n",
        "- Strategy 1: Train a single model with all classes (lung_aca, lung_scc, lung_n, colon_aca, colon_n)\n",
        "\n",
        "- Strategy 2: Train one model to detect lung cancer (lung_aca, lung_scc, lung_n) and another to detect colon cancer (colon_aca, colon_n).\n",
        "    - Assumption: In production, the model will be given labels differentiating colon tissue xrays from lung tissue xrays"
      ],
      "id": "eb679d14-b18e-4bd6-bb05-85aff905a44f"
    },
    {
      "cell_type": "code",
      "metadata": {
        "id": "7b4a7c60-0eee-42e0-97a5-3c7ae2643ce3"
      },
      "source": [
        "model = models.resnet18(pretrained=True)\n",
        "model.classifier = nn.Linear(1024, 5, bias=True)"
      ],
      "id": "7b4a7c60-0eee-42e0-97a5-3c7ae2643ce3",
      "execution_count": null,
      "outputs": []
    },
    {
      "cell_type": "markdown",
      "metadata": {
        "id": "f3059b08-1128-4481-8f0c-d48c0b28f645"
      },
      "source": [
        "Strategy 2: Two Models\n",
        "----\n",
        "\n",
        "- We first need to split the data into two sets by image location (colon, lung):"
      ],
      "id": "f3059b08-1128-4481-8f0c-d48c0b28f645"
    },
    {
      "cell_type": "code",
      "metadata": {
        "id": "d43fdbc0-5693-4ba3-b314-4aaeb823b729"
      },
      "source": [
        "df['location'] = df['label'].map(lambda x: x.split(\"_\")[0])\n",
        "df_lung = df[df['location'] == 'lung']\n",
        "df_colon = df[df['location'] == 'colon']"
      ],
      "id": "d43fdbc0-5693-4ba3-b314-4aaeb823b729",
      "execution_count": null,
      "outputs": []
    },
    {
      "cell_type": "markdown",
      "metadata": {
        "id": "fec66373-8f4d-468c-8e79-851b47ced0e2"
      },
      "source": [
        "- one pass was updated so that loss and accuracy are trained in the same loop (computational efficiency)"
      ],
      "id": "fec66373-8f4d-468c-8e79-851b47ced0e2"
    },
    {
      "cell_type": "code",
      "metadata": {
        "id": "2f06ffdc-80a1-4497-b61d-3d180c1a24e5"
      },
      "source": [
        "lung_train, lung_valid = train_test_split(df_lung)\n",
        "lung_train['label'].value_counts()\n",
        "\n",
        "lung_train_ds = CancerImagesDataset(lung_train)\n",
        "lung_train_dl = DataLoader(lung_train_ds, batch_size=16)\n",
        "\n",
        "lung_valid_ds = CancerImagesDataset(lung_valid)\n",
        "lung_valid_dl = DataLoader(lung_valid_ds, batch_size=16)"
      ],
      "id": "2f06ffdc-80a1-4497-b61d-3d180c1a24e5",
      "execution_count": null,
      "outputs": []
    },
    {
      "cell_type": "code",
      "metadata": {
        "id": "d2bfc0f0-e0c3-4b12-96a5-ca4f8fed4d96"
      },
      "source": [
        "colon_train, colon_valid = train_test_split(df_colon)\n",
        "colon_train['label'].value_counts()\n",
        "\n",
        "colon_train_ds = CancerImagesDataset(colon_train)\n",
        "colon_train_dl = DataLoader(colon_train_ds, batch_size=16)\n",
        "\n",
        "colon_valid_ds = CancerImagesDataset(colon_valid)\n",
        "colon_valid_dl = DataLoader(colon_valid_ds, batch_size=16)"
      ],
      "id": "d2bfc0f0-e0c3-4b12-96a5-ca4f8fed4d96",
      "execution_count": null,
      "outputs": []
    },
    {
      "cell_type": "code",
      "metadata": {
        "tags": [],
        "id": "66dc3ba2-b1b3-49db-a990-fcea7d115659"
      },
      "source": [
        "def one_pass_train_valid(model, train_dl, valid_dl, optimizer, lossFun, class_type, device):\n",
        "    \n",
        "    model.train()\n",
        "    \n",
        "    losses = []\n",
        "    accuracies = []\n",
        "    y_preds = []\n",
        "    for x, y in tqdm(train_dl):    \n",
        "        x, y = x.to(device), y.to(device)\n",
        "        \n",
        "#         print(y.shape)\n",
        "\n",
        "        y_pred = model(x)\n",
        "        if class_type == 'binary':\n",
        "            y = y.float()\n",
        "            y_pred = y_pred.squeeze()\n",
        "\n",
        "        loss = lossFun(y_pred, y)\n",
        "        losses.append(loss.item())\n",
        "        \n",
        "        if class_type == 'binary':\n",
        "            y_pred = nn.Sigmoid()(y_pred)\n",
        "            y_pred[y_pred >= 0.5] = 1.\n",
        "            y_pred[y_pred<0.5] = 0.\n",
        "\n",
        "        else:\n",
        "            y_pred = torch.argmax(y_pred, dim=1)\n",
        "\n",
        "    \n",
        "        acc = (y_pred == y).sum() / len(y)\n",
        "        accuracies.append(acc.item())\n",
        "        \n",
        "        optimizer.zero_grad()\n",
        "        loss.backward()\n",
        "        optimizer.step()\n",
        "        \n",
        "\n",
        "    train_acc = sum(accuracies) / len(accuracies)\n",
        "    train_loss = sum(losses) / len(losses)\n",
        "    \n",
        "    model.eval()\n",
        "    \n",
        "    losses = []\n",
        "    accuracies = []\n",
        "    \n",
        "    for x, y in tqdm(valid_dl):\n",
        "        x, y = x.to(device), y.to(device)\n",
        "        \n",
        "        y_pred = model(x)\n",
        "        if class_type == 'binary':\n",
        "            y = y.float()\n",
        "            y_pred = y_pred.squeeze()\n",
        "            \n",
        "        loss = lossFun(y_pred, y)\n",
        "        losses.append(loss.item())\n",
        "        \n",
        "        if class_type == 'binary':\n",
        "            y_pred = nn.Sigmoid()(y_pred)\n",
        "            y_pred[y_pred >= 0.5] = 1.\n",
        "            y_pred[y_pred<0.5] = 0.\n",
        "\n",
        "        else:\n",
        "            y_pred = torch.argmax(y_pred, dim=1)\n",
        "\n",
        "        acc = (y_pred == y).sum() / len(y)\n",
        "        accuracies.append(acc.item())\n",
        "        \n",
        "    valid_acc = sum(accuracies) / len(accuracies)\n",
        "    valid_loss = sum(losses) / len(losses)\n",
        "    \n",
        "    return train_loss, train_acc, valid_loss, valid_acc"
      ],
      "id": "66dc3ba2-b1b3-49db-a990-fcea7d115659",
      "execution_count": null,
      "outputs": []
    },
    {
      "cell_type": "markdown",
      "metadata": {
        "id": "b84a75ee-59ec-4662-aa84-7fc75e850f8e"
      },
      "source": [
        "Model 1: Lung Cancer Classifier (Multi-Class Classification)\n",
        "----"
      ],
      "id": "b84a75ee-59ec-4662-aa84-7fc75e850f8e"
    },
    {
      "cell_type": "code",
      "metadata": {
        "id": "69f04dae-fb97-4fe6-990c-1f19439c5d29",
        "outputId": "e749d448-6b4c-4f59-abf8-d24f2af645ff"
      },
      "source": [
        "torch.cuda.memory_cached()"
      ],
      "id": "69f04dae-fb97-4fe6-990c-1f19439c5d29",
      "execution_count": null,
      "outputs": [
        {
          "output_type": "stream",
          "text": [
            "/home/oniemann/deep_learning/lib64/python3.6/site-packages/torch/cuda/memory.py:375: FutureWarning: torch.cuda.memory_cached has been renamed to torch.cuda.memory_reserved\n",
            "  FutureWarning)\n"
          ],
          "name": "stderr"
        },
        {
          "output_type": "execute_result",
          "data": {
            "text/plain": [
              "2139095040"
            ]
          },
          "metadata": {
            "tags": []
          },
          "execution_count": 68
        }
      ]
    },
    {
      "cell_type": "code",
      "metadata": {
        "id": "5a97f1d3-c2cd-41e1-bd75-d0c5d0b16267",
        "outputId": "b9a48748-3fc6-4411-d42e-a2746922c7ec"
      },
      "source": [
        "# lung_model = models.resnet18(pretrained=True)\n",
        "# lung_model.fc = nn.Linear(512, 3)\n",
        "\n",
        "# device = torch.device(0)\n",
        "# lung_model.to(device)\n",
        "\n",
        "lossFun = nn.CrossEntropyLoss()\n",
        "\n",
        "params_to_update = []\n",
        "\n",
        "for param in lung_model.parameters():\n",
        "    if param.requires_grad == True:\n",
        "        params_to_update.append(param)\n",
        "        \n",
        "optimizer = optim.AdamW(params_to_update, lr=0.01)\n",
        "\n",
        "num_epochs = 5\n",
        "# tl1 = []\n",
        "# vl1 = []\n",
        "# ta1 = []\n",
        "# va1 = []\n",
        "\n",
        "for i in tqdm(range(num_epochs)):\n",
        "    train_loss, train_acc, valid_loss, valid_acc = one_pass_train_valid(lung_model, lung_train_dl, lung_valid_dl, optimizer, lossFun, class_type='multiclass', device=device)\n",
        "    tl1.append(train_loss)\n",
        "    vl1.append(valid_loss)\n",
        "    ta1.append(train_acc)\n",
        "    va1.append(valid_acc)"
      ],
      "id": "5a97f1d3-c2cd-41e1-bd75-d0c5d0b16267",
      "execution_count": null,
      "outputs": [
        {
          "output_type": "display_data",
          "data": {
            "application/vnd.jupyter.widget-view+json": {
              "model_id": "c63fb9b5d64f4429aaa7ee5155f663ca",
              "version_major": 2,
              "version_minor": 0
            },
            "text/plain": [
              "  0%|          | 0/5 [00:00<?, ?it/s]"
            ]
          },
          "metadata": {
            "tags": []
          }
        },
        {
          "output_type": "display_data",
          "data": {
            "application/vnd.jupyter.widget-view+json": {
              "model_id": "e10119984d0943508590516fded8b968",
              "version_major": 2,
              "version_minor": 0
            },
            "text/plain": [
              "  0%|          | 0/704 [00:00<?, ?it/s]"
            ]
          },
          "metadata": {
            "tags": []
          }
        },
        {
          "output_type": "display_data",
          "data": {
            "application/vnd.jupyter.widget-view+json": {
              "model_id": "56595052e917484fb5339a36073aff1e",
              "version_major": 2,
              "version_minor": 0
            },
            "text/plain": [
              "  0%|          | 0/235 [00:00<?, ?it/s]"
            ]
          },
          "metadata": {
            "tags": []
          }
        },
        {
          "output_type": "display_data",
          "data": {
            "application/vnd.jupyter.widget-view+json": {
              "model_id": "7bf01f269b82441cbee1700797117a06",
              "version_major": 2,
              "version_minor": 0
            },
            "text/plain": [
              "  0%|          | 0/704 [00:00<?, ?it/s]"
            ]
          },
          "metadata": {
            "tags": []
          }
        },
        {
          "output_type": "display_data",
          "data": {
            "application/vnd.jupyter.widget-view+json": {
              "model_id": "43488119c35d4de19854fba0e5f3912f",
              "version_major": 2,
              "version_minor": 0
            },
            "text/plain": [
              "  0%|          | 0/235 [00:00<?, ?it/s]"
            ]
          },
          "metadata": {
            "tags": []
          }
        },
        {
          "output_type": "display_data",
          "data": {
            "application/vnd.jupyter.widget-view+json": {
              "model_id": "8e5c070587db40a59ffe8642a13bad0f",
              "version_major": 2,
              "version_minor": 0
            },
            "text/plain": [
              "  0%|          | 0/704 [00:00<?, ?it/s]"
            ]
          },
          "metadata": {
            "tags": []
          }
        },
        {
          "output_type": "display_data",
          "data": {
            "application/vnd.jupyter.widget-view+json": {
              "model_id": "da77cf53b6904ce78deb3c79c867d59a",
              "version_major": 2,
              "version_minor": 0
            },
            "text/plain": [
              "  0%|          | 0/235 [00:00<?, ?it/s]"
            ]
          },
          "metadata": {
            "tags": []
          }
        },
        {
          "output_type": "display_data",
          "data": {
            "application/vnd.jupyter.widget-view+json": {
              "model_id": "bda077bb338e4576b845b92e39bc3242",
              "version_major": 2,
              "version_minor": 0
            },
            "text/plain": [
              "  0%|          | 0/704 [00:00<?, ?it/s]"
            ]
          },
          "metadata": {
            "tags": []
          }
        },
        {
          "output_type": "display_data",
          "data": {
            "application/vnd.jupyter.widget-view+json": {
              "model_id": "b69025106eed43559d186a8a83c12b7e",
              "version_major": 2,
              "version_minor": 0
            },
            "text/plain": [
              "  0%|          | 0/235 [00:00<?, ?it/s]"
            ]
          },
          "metadata": {
            "tags": []
          }
        },
        {
          "output_type": "display_data",
          "data": {
            "application/vnd.jupyter.widget-view+json": {
              "model_id": "eec114a9af5c4e98b29eedd213a32be3",
              "version_major": 2,
              "version_minor": 0
            },
            "text/plain": [
              "  0%|          | 0/704 [00:00<?, ?it/s]"
            ]
          },
          "metadata": {
            "tags": []
          }
        },
        {
          "output_type": "display_data",
          "data": {
            "application/vnd.jupyter.widget-view+json": {
              "model_id": "5e0c7fe3779449799669252119419296",
              "version_major": 2,
              "version_minor": 0
            },
            "text/plain": [
              "  0%|          | 0/235 [00:00<?, ?it/s]"
            ]
          },
          "metadata": {
            "tags": []
          }
        }
      ]
    },
    {
      "cell_type": "markdown",
      "metadata": {
        "id": "b8433d77-0ed3-4964-8dee-4084249451a2"
      },
      "source": [
        "Model 2: Colon Cancer Classifier (Binary Classification)\n",
        "----"
      ],
      "id": "b8433d77-0ed3-4964-8dee-4084249451a2"
    },
    {
      "cell_type": "code",
      "metadata": {
        "id": "75fb6a2c-2312-46da-99c2-8ce08226b469",
        "outputId": "47bc274c-25ee-4083-e5db-ef5a2e5d9e16"
      },
      "source": [
        "# colon_model = models.resnet18(pretrained=True)\n",
        "# colon_model.fc = nn.Linear(512, 1)\n",
        "\n",
        "# device = torch.device(0)\n",
        "# colon_model.to(device)\n",
        "\n",
        "lossFun = nn.BCEWithLogitsLoss()\n",
        "\n",
        "params_to_update = []\n",
        "\n",
        "for param in colon_model.parameters():\n",
        "    if param.requires_grad == True:\n",
        "        params_to_update.append(param)\n",
        "        \n",
        "optimizer = optim.AdamW(params_to_update, lr=0.01)\n",
        "\n",
        "# tl2 = []\n",
        "# vl2 = []\n",
        "# ta2 = []\n",
        "# va2 = []\n",
        "\n",
        "for i in range(num_epochs):\n",
        "    one_pass_train_valid(colon_model, colon_train_dl, colon_valid_dl, optimizer, lossFun, class_type='binary', device=device)\n",
        "    tl2.append(train_loss)\n",
        "    vl2.append(valid_loss)\n",
        "    ta2.append(train_acc)\n",
        "    va2.append(valid_acc)"
      ],
      "id": "75fb6a2c-2312-46da-99c2-8ce08226b469",
      "execution_count": null,
      "outputs": [
        {
          "output_type": "display_data",
          "data": {
            "application/vnd.jupyter.widget-view+json": {
              "model_id": "e7a18a9696a8410ebee8308df6269adb",
              "version_major": 2,
              "version_minor": 0
            },
            "text/plain": [
              "  0%|          | 0/469 [00:00<?, ?it/s]"
            ]
          },
          "metadata": {
            "tags": []
          }
        },
        {
          "output_type": "display_data",
          "data": {
            "application/vnd.jupyter.widget-view+json": {
              "model_id": "8aef480820734b87acc7f186224f671c",
              "version_major": 2,
              "version_minor": 0
            },
            "text/plain": [
              "  0%|          | 0/157 [00:00<?, ?it/s]"
            ]
          },
          "metadata": {
            "tags": []
          }
        },
        {
          "output_type": "display_data",
          "data": {
            "application/vnd.jupyter.widget-view+json": {
              "model_id": "38ca99fb9746416bae1e6b7ac43949e7",
              "version_major": 2,
              "version_minor": 0
            },
            "text/plain": [
              "  0%|          | 0/469 [00:00<?, ?it/s]"
            ]
          },
          "metadata": {
            "tags": []
          }
        },
        {
          "output_type": "display_data",
          "data": {
            "application/vnd.jupyter.widget-view+json": {
              "model_id": "7dd26e600899416696739065e4806c6b",
              "version_major": 2,
              "version_minor": 0
            },
            "text/plain": [
              "  0%|          | 0/157 [00:00<?, ?it/s]"
            ]
          },
          "metadata": {
            "tags": []
          }
        },
        {
          "output_type": "display_data",
          "data": {
            "application/vnd.jupyter.widget-view+json": {
              "model_id": "3845b181df334cdeb5fd9cd3a9acea20",
              "version_major": 2,
              "version_minor": 0
            },
            "text/plain": [
              "  0%|          | 0/469 [00:00<?, ?it/s]"
            ]
          },
          "metadata": {
            "tags": []
          }
        },
        {
          "output_type": "display_data",
          "data": {
            "application/vnd.jupyter.widget-view+json": {
              "model_id": "3de750f155ce4e95a06b8f72ad490d68",
              "version_major": 2,
              "version_minor": 0
            },
            "text/plain": [
              "  0%|          | 0/157 [00:00<?, ?it/s]"
            ]
          },
          "metadata": {
            "tags": []
          }
        },
        {
          "output_type": "display_data",
          "data": {
            "application/vnd.jupyter.widget-view+json": {
              "model_id": "72908300bb3b4873b7c2c8c434fe441e",
              "version_major": 2,
              "version_minor": 0
            },
            "text/plain": [
              "  0%|          | 0/469 [00:00<?, ?it/s]"
            ]
          },
          "metadata": {
            "tags": []
          }
        },
        {
          "output_type": "display_data",
          "data": {
            "application/vnd.jupyter.widget-view+json": {
              "model_id": "8e5f0aad25ff446fac22440f2b1cd815",
              "version_major": 2,
              "version_minor": 0
            },
            "text/plain": [
              "  0%|          | 0/157 [00:00<?, ?it/s]"
            ]
          },
          "metadata": {
            "tags": []
          }
        },
        {
          "output_type": "display_data",
          "data": {
            "application/vnd.jupyter.widget-view+json": {
              "model_id": "d2fd6a72333e4cffb6cb1daef6f1fafa",
              "version_major": 2,
              "version_minor": 0
            },
            "text/plain": [
              "  0%|          | 0/469 [00:00<?, ?it/s]"
            ]
          },
          "metadata": {
            "tags": []
          }
        },
        {
          "output_type": "display_data",
          "data": {
            "application/vnd.jupyter.widget-view+json": {
              "model_id": "15d3d401eaea450eb017a0445cae5b9f",
              "version_major": 2,
              "version_minor": 0
            },
            "text/plain": [
              "  0%|          | 0/157 [00:00<?, ?it/s]"
            ]
          },
          "metadata": {
            "tags": []
          }
        }
      ]
    },
    {
      "cell_type": "code",
      "metadata": {
        "id": "0d4d7428-d959-4b18-a663-1c0be33a762b"
      },
      "source": [
        "def avg_loss(l_colon, l_lung):\n",
        "    return [(i+j)/2 for i, j in zip(l_colon, l_lung)]\n",
        "\n",
        "def avg_acc(acc_colon, acc_lung, len_df_colon, len_df_lung):\n",
        "    return [((len_df_colon) * i + (len_df_lung) * j)/(len_df_colon + len_df_lung) for i, j in zip(acc_colon, acc_lung)]"
      ],
      "id": "0d4d7428-d959-4b18-a663-1c0be33a762b",
      "execution_count": null,
      "outputs": []
    },
    {
      "cell_type": "code",
      "metadata": {
        "id": "6c80b6ac-ef7e-4d0c-a670-8c08799ce0b7"
      },
      "source": [
        "train_loss = avg_loss(tl1, tl2)\n",
        "valid_loss = avg_loss(vl1, vl2)\n",
        "train_acc = avg_acc(ta1, ta2, len(colon_train), len(lung_train))\n",
        "valid_acc = avg_acc(va1, va2, len(colon_valid), len(lung_valid))"
      ],
      "id": "6c80b6ac-ef7e-4d0c-a670-8c08799ce0b7",
      "execution_count": null,
      "outputs": []
    },
    {
      "cell_type": "code",
      "metadata": {
        "id": "2a5e7882-9d00-4bf9-a1e8-6c0142bc3bbf",
        "outputId": "478c9efa-1124-407b-fa71-a922e303744a"
      },
      "source": [
        "plt.plot(train_loss, label = 'train')\n",
        "plt.plot(valid_loss, label = 'valid')\n",
        "plt.legend()\n",
        "plt.xlabel('Epochs')\n",
        "plt.title('Combined Average Loss')\n",
        "plt.savefig('figures/combined_average_loss.png')"
      ],
      "id": "2a5e7882-9d00-4bf9-a1e8-6c0142bc3bbf",
      "execution_count": null,
      "outputs": [
        {
          "output_type": "display_data",
          "data": {
            "image/png": "[encoded data removed]",
            "text/plain": [
              "<Figure size 432x288 with 1 Axes>"
            ]
          },
          "metadata": {
            "tags": []
          }
        }
      ]
    },
    {
      "cell_type": "code",
      "metadata": {
        "tags": [],
        "id": "72e7f9e2-e525-452a-a729-b449b2d21485",
        "outputId": "9544401f-1e32-4fb7-aaaa-535d08f4f580"
      },
      "source": [
        "plt.plot(train_acc, label = 'train')\n",
        "plt.plot(valid_acc, label = 'valid')\n",
        "plt.legend()\n",
        "plt.xlabel('Epochs')\n",
        "plt.title('Accuracy (Weighted Average)')\n",
        "plt.savefig('figures/combined_average_accuracy.png')"
      ],
      "id": "72e7f9e2-e525-452a-a729-b449b2d21485",
      "execution_count": null,
      "outputs": [
        {
          "output_type": "display_data",
          "data": {
            "image/png": "[encoded data removed]",
            "text/plain": [
              "<Figure size 432x288 with 1 Axes>"
            ]
          },
          "metadata": {
            "tags": []
          }
        }
      ]
    },
    {
      "cell_type": "markdown",
      "metadata": {
        "id": "f6daec7f-5c2a-496d-af37-a02a6f2bcbcf"
      },
      "source": [
        "- As seen in the above figure, we're still running into the problem of a highly overfit model."
      ],
      "id": "f6daec7f-5c2a-496d-af37-a02a6f2bcbcf"
    },
    {
      "cell_type": "markdown",
      "metadata": {
        "id": "67b5886e-76ac-4d79-9790-fd4a45e2b46a"
      },
      "source": [
        "# Transform the Task into Binary Classification (Presence of Cancer):\n",
        "\n",
        "- Since the model is failing miserably in terms of generalization, maybe it's a good idea to take a few steps back and solely focus on whether an image can be predicted to contain cancer."
      ],
      "id": "67b5886e-76ac-4d79-9790-fd4a45e2b46a"
    },
    {
      "cell_type": "code",
      "metadata": {
        "tags": [],
        "id": "b708da6a-cf5b-42bc-b19b-540160c604ce",
        "outputId": "e60bb964-b1e4-45d2-9377-c8e13f38f465"
      },
      "source": [
        "model = models.resnet18(pretrained=True)\n",
        "device = torch.device(0)\n",
        "model.fc = nn.Linear(512, 1, bias=True)\n",
        "model.to(device)\n",
        "print()"
      ],
      "id": "b708da6a-cf5b-42bc-b19b-540160c604ce",
      "execution_count": null,
      "outputs": [
        {
          "output_type": "stream",
          "text": [
            "\n"
          ],
          "name": "stdout"
        }
      ]
    },
    {
      "cell_type": "code",
      "metadata": {
        "id": "7ad10b47-7333-4f6a-98f0-28508ff52443",
        "outputId": "74749564-8b00-401a-8be6-700fd9f0e6a9"
      },
      "source": [
        "df['type'] = df['label'].map(lambda x: 'Not Cancer' if 'n' in x.split('_')[1] else 'Cancer')\n",
        "df['type'].value_counts()"
      ],
      "id": "7ad10b47-7333-4f6a-98f0-28508ff52443",
      "execution_count": null,
      "outputs": [
        {
          "output_type": "execute_result",
          "data": {
            "text/plain": [
              "Cancer        14999\n",
              "Not Cancer    10000\n",
              "Name: type, dtype: int64"
            ]
          },
          "metadata": {
            "tags": []
          },
          "execution_count": 10
        }
      ]
    },
    {
      "cell_type": "code",
      "metadata": {
        "id": "d93ca1c7-71c3-497f-b4f4-24c4c35f677d"
      },
      "source": [
        "class BinCancerImagesDataset(Dataset):\n",
        "    def __init__(self, df):\n",
        "        self.df = df\n",
        "        \n",
        "        self.label_dict = {label:idx for idx, label in enumerate(df.type.unique())}\n",
        "        \n",
        "        # Randomly augment images for variety\n",
        "        self.transforms = A.Compose([\n",
        "            # spatial transforms\n",
        "            A.RandomCrop(width=255, height=255),\n",
        "            A.HorizontalFlip(p=.5),\n",
        "            A.VerticalFlip(p=.5),\n",
        "            A.Rotate(limit = 10, \n",
        "                     border_mode = cv2.BORDER_CONSTANT, \n",
        "                     value = 0.0, p = .75),\n",
        "\n",
        "            # pixel-level transformation\n",
        "            A.RandomBrightnessContrast(p=0.1),\n",
        "\n",
        "            # we will normalize according to ImageNet since we will be using a pre-trained ResNet\n",
        "            # this adjusts from [0,255] to [0,1]\n",
        "            A.Normalize(mean=(0.485, 0.456, 0.406), std=(0.229, 0.224, 0.225)),\n",
        "\n",
        "            # convert to a tensor and move color channels\n",
        "            ToTensorV2()\n",
        "        ])\n",
        "        \n",
        "    def __len__(self):\n",
        "        return len(self.df)\n",
        "    \n",
        "    def __getitem__(self, idx):\n",
        "        row = self.df.iloc[idx]\n",
        "        \n",
        "        path = row['image_path'] + f\"/{row['image_file']}\"\n",
        "        \n",
        "        img = cv2.imread(path)\n",
        "        \n",
        "        #img = cv2.cvtColor(img, cv2.COLOR_BGR2RGB)\n",
        "        \n",
        "        transformed = self.transforms(image=img.astype(np.uint8))\n",
        "        img = transformed['image']\n",
        "        \n",
        "        #Scale to v\n",
        "        img = ((img - img.min()) / (img.max()-img.min()))\n",
        "        \n",
        "        label = torch.tensor(self.label_dict[row['type']])\n",
        "        \n",
        "        return img, label"
      ],
      "id": "d93ca1c7-71c3-497f-b4f4-24c4c35f677d",
      "execution_count": null,
      "outputs": []
    },
    {
      "cell_type": "code",
      "metadata": {
        "id": "315a9392-b75d-4c36-b59b-f5c36dcb5f3a"
      },
      "source": [
        "train_df, valid_df = train_test_split(df)"
      ],
      "id": "315a9392-b75d-4c36-b59b-f5c36dcb5f3a",
      "execution_count": null,
      "outputs": []
    },
    {
      "cell_type": "code",
      "metadata": {
        "id": "5ebe9f9a-c025-4d32-9c4f-4d1cca9701f7"
      },
      "source": [
        "train_ds = BinCancerImagesDataset(train_df)\n",
        "valid_ds = BinCancerImagesDataset(valid_df)\n",
        "\n",
        "batch_size= 30\n",
        "train_dl = DataLoader(train_ds, batch_size=batch_size, shuffle=True)\n",
        "valid_dl = DataLoader(valid_ds, batch_size=batch_size)"
      ],
      "id": "5ebe9f9a-c025-4d32-9c4f-4d1cca9701f7",
      "execution_count": null,
      "outputs": []
    },
    {
      "cell_type": "code",
      "metadata": {
        "tags": [],
        "id": "9095ea2b-5f59-4796-bca1-417957a69755",
        "outputId": "e5a52aa3-1e3d-4a03-a0ba-5a356da1dc04"
      },
      "source": [
        "model = models.resnet18(pretrained=True)\n",
        "device = torch.device(0)\n",
        "model.fc = nn.Linear(512, 1, bias=True)\n",
        "model.to(device)\n",
        "\n",
        "lossFun = nn.BCEWithLogitsLoss()\n",
        "\n",
        "params_to_update = []\n",
        "\n",
        "for param in model.parameters():\n",
        "    if param.requires_grad == True:\n",
        "        params_to_update.append(param)\n",
        "        \n",
        "optimizer = optim.AdamW(params_to_update, lr=0.01)\n",
        "\n",
        "tl_bin = []\n",
        "vl_bin = []\n",
        "ta_bin = []\n",
        "va_bin = []\n",
        "num_epochs = 10\n",
        "\n",
        "for i in range(num_epochs):\n",
        "    train_loss, train_acc, valid_loss, valid_acc = one_pass_train_valid(model, train_dl, valid_dl, optimizer, lossFun, class_type='binary', device=device)\n",
        "    print(f\"train_acc: {train_acc:.4f},  valid_acc = {valid_acc:.4f}\")\n",
        "    tl_bin.append(train_loss)\n",
        "    vl_bin.append(valid_loss)\n",
        "    ta_bin.append(train_acc)\n",
        "    va_bin.append(valid_acc)\n",
        "    model_name = f'models/resnet18/8112021_epoch_{i}_tacc_{train_acc:.3f}_vacc_{valid_acc:.3f}.pkl'\n",
        "    pickle.dump(model, open(model_name, 'wb'))"
      ],
      "id": "9095ea2b-5f59-4796-bca1-417957a69755",
      "execution_count": null,
      "outputs": [
        {
          "output_type": "display_data",
          "data": {
            "application/vnd.jupyter.widget-view+json": {
              "model_id": "576458eb53fa48e782c2d5866dac8bd6",
              "version_major": 2,
              "version_minor": 0
            },
            "text/plain": [
              "  0%|          | 0/625 [00:00<?, ?it/s]"
            ]
          },
          "metadata": {
            "tags": []
          }
        },
        {
          "output_type": "stream",
          "text": [
            "/home/oniemann/deep_learning/lib64/python3.6/site-packages/torch/nn/functional.py:718: UserWarning: Named tensors and all their associated APIs are an experimental feature and subject to change. Please do not use them for anything important until they are released as stable. (Triggered internally at  /pytorch/c10/core/TensorImpl.h:1156.)\n",
            "  return torch.max_pool2d(input, kernel_size, stride, padding, dilation, ceil_mode)\n"
          ],
          "name": "stderr"
        },
        {
          "output_type": "display_data",
          "data": {
            "application/vnd.jupyter.widget-view+json": {
              "model_id": "dcc1ef167650480f96949c719f038eed",
              "version_major": 2,
              "version_minor": 0
            },
            "text/plain": [
              "  0%|          | 0/209 [00:00<?, ?it/s]"
            ]
          },
          "metadata": {
            "tags": []
          }
        },
        {
          "output_type": "stream",
          "text": [
            "train_acc: 0.8454,  valid_acc = 0.8094\n"
          ],
          "name": "stdout"
        },
        {
          "output_type": "display_data",
          "data": {
            "application/vnd.jupyter.widget-view+json": {
              "model_id": "9e903770068b41edb2857ca1f10ea90d",
              "version_major": 2,
              "version_minor": 0
            },
            "text/plain": [
              "  0%|          | 0/625 [00:00<?, ?it/s]"
            ]
          },
          "metadata": {
            "tags": []
          }
        },
        {
          "output_type": "display_data",
          "data": {
            "application/vnd.jupyter.widget-view+json": {
              "model_id": "6a1d9824aae64ce096fea758c7a80486",
              "version_major": 2,
              "version_minor": 0
            },
            "text/plain": [
              "  0%|          | 0/209 [00:00<?, ?it/s]"
            ]
          },
          "metadata": {
            "tags": []
          }
        },
        {
          "output_type": "stream",
          "text": [
            "train_acc: 0.8884,  valid_acc = 0.6577\n"
          ],
          "name": "stdout"
        },
        {
          "output_type": "display_data",
          "data": {
            "application/vnd.jupyter.widget-view+json": {
              "model_id": "33929df39fe94ba197d42001fc1038ed",
              "version_major": 2,
              "version_minor": 0
            },
            "text/plain": [
              "  0%|          | 0/625 [00:00<?, ?it/s]"
            ]
          },
          "metadata": {
            "tags": []
          }
        },
        {
          "output_type": "display_data",
          "data": {
            "application/vnd.jupyter.widget-view+json": {
              "model_id": "ab908a1d8b8b4ef4939c9795be66285c",
              "version_major": 2,
              "version_minor": 0
            },
            "text/plain": [
              "  0%|          | 0/209 [00:00<?, ?it/s]"
            ]
          },
          "metadata": {
            "tags": []
          }
        },
        {
          "output_type": "stream",
          "text": [
            "train_acc: 0.9139,  valid_acc = 0.9070\n"
          ],
          "name": "stdout"
        },
        {
          "output_type": "display_data",
          "data": {
            "application/vnd.jupyter.widget-view+json": {
              "model_id": "6bc45a52f60d4f35958a4149140d6e3b",
              "version_major": 2,
              "version_minor": 0
            },
            "text/plain": [
              "  0%|          | 0/625 [00:00<?, ?it/s]"
            ]
          },
          "metadata": {
            "tags": []
          }
        },
        {
          "output_type": "display_data",
          "data": {
            "application/vnd.jupyter.widget-view+json": {
              "model_id": "db8b60217c6543c985e8ed27b8d7a49a",
              "version_major": 2,
              "version_minor": 0
            },
            "text/plain": [
              "  0%|          | 0/209 [00:00<?, ?it/s]"
            ]
          },
          "metadata": {
            "tags": []
          }
        },
        {
          "output_type": "stream",
          "text": [
            "train_acc: 0.9281,  valid_acc = 0.8707\n"
          ],
          "name": "stdout"
        },
        {
          "output_type": "display_data",
          "data": {
            "application/vnd.jupyter.widget-view+json": {
              "model_id": "f637c4df11d246d1b1a1f6e09974a68f",
              "version_major": 2,
              "version_minor": 0
            },
            "text/plain": [
              "  0%|          | 0/625 [00:00<?, ?it/s]"
            ]
          },
          "metadata": {
            "tags": []
          }
        },
        {
          "output_type": "display_data",
          "data": {
            "application/vnd.jupyter.widget-view+json": {
              "model_id": "e66d7dca69cf471f8a25dc432cb2ece5",
              "version_major": 2,
              "version_minor": 0
            },
            "text/plain": [
              "  0%|          | 0/209 [00:00<?, ?it/s]"
            ]
          },
          "metadata": {
            "tags": []
          }
        },
        {
          "output_type": "stream",
          "text": [
            "train_acc: 0.9307,  valid_acc = 0.8799\n"
          ],
          "name": "stdout"
        },
        {
          "output_type": "display_data",
          "data": {
            "application/vnd.jupyter.widget-view+json": {
              "model_id": "0cb4557b2a30485c8ff9651c54021a86",
              "version_major": 2,
              "version_minor": 0
            },
            "text/plain": [
              "  0%|          | 0/625 [00:00<?, ?it/s]"
            ]
          },
          "metadata": {
            "tags": []
          }
        },
        {
          "output_type": "display_data",
          "data": {
            "application/vnd.jupyter.widget-view+json": {
              "model_id": "9f8c5b1eee23484e90adaecb4b9b2084",
              "version_major": 2,
              "version_minor": 0
            },
            "text/plain": [
              "  0%|          | 0/209 [00:00<?, ?it/s]"
            ]
          },
          "metadata": {
            "tags": []
          }
        },
        {
          "output_type": "stream",
          "text": [
            "train_acc: 0.9356,  valid_acc = 0.9185\n"
          ],
          "name": "stdout"
        },
        {
          "output_type": "display_data",
          "data": {
            "application/vnd.jupyter.widget-view+json": {
              "model_id": "b41f496b54f14873bc954246195fb426",
              "version_major": 2,
              "version_minor": 0
            },
            "text/plain": [
              "  0%|          | 0/625 [00:00<?, ?it/s]"
            ]
          },
          "metadata": {
            "tags": []
          }
        },
        {
          "output_type": "display_data",
          "data": {
            "application/vnd.jupyter.widget-view+json": {
              "model_id": "4fcdfbeb1a1642ec95ef00376036a7f7",
              "version_major": 2,
              "version_minor": 0
            },
            "text/plain": [
              "  0%|          | 0/209 [00:00<?, ?it/s]"
            ]
          },
          "metadata": {
            "tags": []
          }
        },
        {
          "output_type": "stream",
          "text": [
            "train_acc: 0.9447,  valid_acc = 0.6108\n"
          ],
          "name": "stdout"
        },
        {
          "output_type": "display_data",
          "data": {
            "application/vnd.jupyter.widget-view+json": {
              "model_id": "5831b3d5ce024a66b8453184030f2e4e",
              "version_major": 2,
              "version_minor": 0
            },
            "text/plain": [
              "  0%|          | 0/625 [00:00<?, ?it/s]"
            ]
          },
          "metadata": {
            "tags": []
          }
        },
        {
          "output_type": "display_data",
          "data": {
            "application/vnd.jupyter.widget-view+json": {
              "model_id": "f118497fff7340a38c50ed535e343225",
              "version_major": 2,
              "version_minor": 0
            },
            "text/plain": [
              "  0%|          | 0/209 [00:00<?, ?it/s]"
            ]
          },
          "metadata": {
            "tags": []
          }
        },
        {
          "output_type": "stream",
          "text": [
            "train_acc: 0.9456,  valid_acc = 0.9116\n"
          ],
          "name": "stdout"
        },
        {
          "output_type": "display_data",
          "data": {
            "application/vnd.jupyter.widget-view+json": {
              "model_id": "96af0048655b4274875b03fef3f8b841",
              "version_major": 2,
              "version_minor": 0
            },
            "text/plain": [
              "  0%|          | 0/625 [00:00<?, ?it/s]"
            ]
          },
          "metadata": {
            "tags": []
          }
        },
        {
          "output_type": "display_data",
          "data": {
            "application/vnd.jupyter.widget-view+json": {
              "model_id": "a5492ab739c941c4b3f6d55085b6e8b0",
              "version_major": 2,
              "version_minor": 0
            },
            "text/plain": [
              "  0%|          | 0/209 [00:00<?, ?it/s]"
            ]
          },
          "metadata": {
            "tags": []
          }
        },
        {
          "output_type": "stream",
          "text": [
            "train_acc: 0.9513,  valid_acc = 0.9596\n"
          ],
          "name": "stdout"
        },
        {
          "output_type": "display_data",
          "data": {
            "application/vnd.jupyter.widget-view+json": {
              "model_id": "f70e0adea02943f19b85e574b0717739",
              "version_major": 2,
              "version_minor": 0
            },
            "text/plain": [
              "  0%|          | 0/625 [00:00<?, ?it/s]"
            ]
          },
          "metadata": {
            "tags": []
          }
        },
        {
          "output_type": "display_data",
          "data": {
            "application/vnd.jupyter.widget-view+json": {
              "model_id": "3a936e2a9e31488b9de51732cacf6c48",
              "version_major": 2,
              "version_minor": 0
            },
            "text/plain": [
              "  0%|          | 0/209 [00:00<?, ?it/s]"
            ]
          },
          "metadata": {
            "tags": []
          }
        },
        {
          "output_type": "stream",
          "text": [
            "train_acc: 0.9530,  valid_acc = 0.8482\n"
          ],
          "name": "stdout"
        }
      ]
    },
    {
      "cell_type": "code",
      "metadata": {
        "id": "a0fd0e33-8b94-4576-9ccc-4d7f66506161",
        "outputId": "bff8f183-790b-4b12-d426-8c083413080a"
      },
      "source": [
        "plt.plot(tl_bin, label = 'train')\n",
        "plt.plot(vl_bin, label = 'valid')\n",
        "plt.legend()\n",
        "plt.xlabel('Epochs')\n",
        "plt.title('Cancer Presence Loss')\n",
        "plt.savefig('figures/cancer_yes_no_loss.png')"
      ],
      "id": "a0fd0e33-8b94-4576-9ccc-4d7f66506161",
      "execution_count": null,
      "outputs": [
        {
          "output_type": "display_data",
          "data": {
            "image/png": "[encoded data removed]",
            "text/plain": [
              "<Figure size 432x288 with 1 Axes>"
            ]
          },
          "metadata": {
            "tags": []
          }
        }
      ]
    },
    {
      "cell_type": "code",
      "metadata": {
        "id": "c7e3c728-d87b-4ad7-937d-9b9b5fd53c00",
        "outputId": "3139e55d-abcd-4241-edb1-8464b5701319"
      },
      "source": [
        "plt.plot(ta_bin, label = 'train')\n",
        "plt.plot(va_bin, label = 'valid')\n",
        "plt.legend()\n",
        "plt.xlabel('Epochs')\n",
        "plt.title('Cancer Identification Accuracy')\n",
        "plt.savefig('figures/cancer_identification_accuracy.png')"
      ],
      "id": "c7e3c728-d87b-4ad7-937d-9b9b5fd53c00",
      "execution_count": null,
      "outputs": [
        {
          "output_type": "display_data",
          "data": {
            "image/png": "[encoded data removed]",
            "text/plain": [
              "<Figure size 432x288 with 1 Axes>"
            ]
          },
          "metadata": {
            "tags": []
          }
        }
      ]
    },
    {
      "cell_type": "markdown",
      "metadata": {
        "id": "3e164e1c-79ec-4cad-b0d4-ce16885a907b"
      },
      "source": [
        "- Wow, cancer identification is incredible when turned into a binary classification problem! Let's see how the model performs as a multi-classification task on the different cancers."
      ],
      "id": "3e164e1c-79ec-4cad-b0d4-ce16885a907b"
    },
    {
      "cell_type": "markdown",
      "metadata": {
        "id": "1ba01fd9-ac21-4e77-a5c0-479ec5fd4803"
      },
      "source": [
        "# Fine-Tuning the Model:\n",
        "\n",
        "- Every five epochs, unfreeze a single layer (and its bias terms)\n",
        "- Stop when there is no significant gain in the model's accuracy"
      ],
      "id": "1ba01fd9-ac21-4e77-a5c0-479ec5fd4803"
    },
    {
      "cell_type": "code",
      "metadata": {
        "id": "52b597bc-3e91-4711-84f6-4372b49dfaed"
      },
      "source": [
        "filename = './models/resnet18/8112021_epoch_9_tacc_0.953_vacc_0.848.pkl'\n",
        "ft_model = pickle.load(open(filename, 'rb'))"
      ],
      "id": "52b597bc-3e91-4711-84f6-4372b49dfaed",
      "execution_count": null,
      "outputs": []
    },
    {
      "cell_type": "code",
      "metadata": {
        "collapsed": true,
        "jupyter": {
          "outputs_hidden": true
        },
        "tags": [],
        "id": "70a756a0-6a2e-41d2-9368-7c8e8884240a",
        "outputId": "195e3b09-32d7-463b-b5b7-2ca8ffcab32d"
      },
      "source": [
        "for idx, (i, l) in enumerate(ft_model.named_parameters()):\n",
        "    if idx > 57:\n",
        "        l.requires_grad = True\n",
        "    print(idx, i, l.requires_grad)\n",
        "\n",
        "params_to_update = []\n",
        "\n",
        "for param in ft_model.parameters():\n",
        "    if param.requires_grad == True:\n",
        "        params_to_update.append(param)\n",
        "        \n",
        "optimizer = optim.AdamW(params_to_update, lr=0.01)"
      ],
      "id": "70a756a0-6a2e-41d2-9368-7c8e8884240a",
      "execution_count": null,
      "outputs": [
        {
          "output_type": "stream",
          "text": [
            "0 conv1.weight False\n",
            "1 bn1.weight False\n",
            "2 bn1.bias False\n",
            "3 layer1.0.conv1.weight False\n",
            "4 layer1.0.bn1.weight False\n",
            "5 layer1.0.bn1.bias False\n",
            "6 layer1.0.conv2.weight False\n",
            "7 layer1.0.bn2.weight False\n",
            "8 layer1.0.bn2.bias False\n",
            "9 layer1.1.conv1.weight False\n",
            "10 layer1.1.bn1.weight False\n",
            "11 layer1.1.bn1.bias False\n",
            "12 layer1.1.conv2.weight False\n",
            "13 layer1.1.bn2.weight False\n",
            "14 layer1.1.bn2.bias False\n",
            "15 layer2.0.conv1.weight False\n",
            "16 layer2.0.bn1.weight False\n",
            "17 layer2.0.bn1.bias False\n",
            "18 layer2.0.conv2.weight False\n",
            "19 layer2.0.bn2.weight False\n",
            "20 layer2.0.bn2.bias False\n",
            "21 layer2.0.downsample.0.weight False\n",
            "22 layer2.0.downsample.1.weight False\n",
            "23 layer2.0.downsample.1.bias False\n",
            "24 layer2.1.conv1.weight False\n",
            "25 layer2.1.bn1.weight False\n",
            "26 layer2.1.bn1.bias False\n",
            "27 layer2.1.conv2.weight False\n",
            "28 layer2.1.bn2.weight False\n",
            "29 layer2.1.bn2.bias False\n",
            "30 layer3.0.conv1.weight False\n",
            "31 layer3.0.bn1.weight False\n",
            "32 layer3.0.bn1.bias False\n",
            "33 layer3.0.conv2.weight False\n",
            "34 layer3.0.bn2.weight False\n",
            "35 layer3.0.bn2.bias False\n",
            "36 layer3.0.downsample.0.weight False\n",
            "37 layer3.0.downsample.1.weight False\n",
            "38 layer3.0.downsample.1.bias False\n",
            "39 layer3.1.conv1.weight False\n",
            "40 layer3.1.bn1.weight False\n",
            "41 layer3.1.bn1.bias False\n",
            "42 layer3.1.conv2.weight False\n",
            "43 layer3.1.bn2.weight False\n",
            "44 layer3.1.bn2.bias False\n",
            "45 layer4.0.conv1.weight False\n",
            "46 layer4.0.bn1.weight False\n",
            "47 layer4.0.bn1.bias False\n",
            "48 layer4.0.conv2.weight False\n",
            "49 layer4.0.bn2.weight False\n",
            "50 layer4.0.bn2.bias False\n",
            "51 layer4.0.downsample.0.weight False\n",
            "52 layer4.0.downsample.1.weight False\n",
            "53 layer4.0.downsample.1.bias False\n",
            "54 layer4.1.conv1.weight False\n",
            "55 layer4.1.bn1.weight False\n",
            "56 layer4.1.bn1.bias False\n",
            "57 layer4.1.conv2.weight False\n",
            "58 layer4.1.bn2.weight True\n",
            "59 layer4.1.bn2.bias True\n",
            "60 fc.weight True\n",
            "61 fc.bias True\n"
          ],
          "name": "stdout"
        }
      ]
    },
    {
      "cell_type": "code",
      "metadata": {
        "id": "3aa33e9e-0658-4a33-9fe4-f51f5c03ae06",
        "outputId": "8fefb989-1754-431a-c0b1-7bfeab9f4ad6"
      },
      "source": [
        "tlft_bin = []\n",
        "vlft_bin = []\n",
        "taft_bin = []\n",
        "vaft_bin = []\n",
        "num_epochs = 10\n",
        "\n",
        "for i in range(10, 10+num_epochs):\n",
        "    train_loss, train_acc, valid_loss, valid_acc = one_pass_train_valid(ft_model, train_dl, valid_dl, optimizer, lossFun, class_type='binary', device=device)\n",
        "    print(f\"train_acc: {train_acc:.4f},  valid_acc = {valid_acc:.4f}\")\n",
        "    tlft_bin.append(train_loss)\n",
        "    vlft_bin.append(valid_loss)\n",
        "    taft_bin.append(train_acc)\n",
        "    vaft_bin.append(valid_acc)\n",
        "    model_name = f'models/resnet18/8112021_epoch_{i}_tacc_{train_acc:.3f}_vacc_{valid_acc:.3f}.pkl'\n",
        "    pickle.dump(ft_model, open(model_name, 'wb'))"
      ],
      "id": "3aa33e9e-0658-4a33-9fe4-f51f5c03ae06",
      "execution_count": null,
      "outputs": [
        {
          "output_type": "display_data",
          "data": {
            "application/vnd.jupyter.widget-view+json": {
              "model_id": "4d8e4dff4614443fbbcfdab0fb0950c5",
              "version_major": 2,
              "version_minor": 0
            },
            "text/plain": [
              "  0%|          | 0/625 [00:00<?, ?it/s]"
            ]
          },
          "metadata": {
            "tags": []
          }
        },
        {
          "output_type": "display_data",
          "data": {
            "application/vnd.jupyter.widget-view+json": {
              "model_id": "8452e84ec6874ab7a0ef3b993e5e24d4",
              "version_major": 2,
              "version_minor": 0
            },
            "text/plain": [
              "  0%|          | 0/209 [00:00<?, ?it/s]"
            ]
          },
          "metadata": {
            "tags": []
          }
        },
        {
          "output_type": "stream",
          "text": [
            "train_acc: 0.9618,  valid_acc = 0.9742\n"
          ],
          "name": "stdout"
        },
        {
          "output_type": "display_data",
          "data": {
            "application/vnd.jupyter.widget-view+json": {
              "model_id": "19f91ea5e6134c41a1f7b41e3942a010",
              "version_major": 2,
              "version_minor": 0
            },
            "text/plain": [
              "  0%|          | 0/625 [00:00<?, ?it/s]"
            ]
          },
          "metadata": {
            "tags": []
          }
        },
        {
          "output_type": "display_data",
          "data": {
            "application/vnd.jupyter.widget-view+json": {
              "model_id": "db7ffba4d1e742b681c9ff87ba43d079",
              "version_major": 2,
              "version_minor": 0
            },
            "text/plain": [
              "  0%|          | 0/209 [00:00<?, ?it/s]"
            ]
          },
          "metadata": {
            "tags": []
          }
        },
        {
          "output_type": "stream",
          "text": [
            "train_acc: 0.9635,  valid_acc = 0.9729\n"
          ],
          "name": "stdout"
        },
        {
          "output_type": "display_data",
          "data": {
            "application/vnd.jupyter.widget-view+json": {
              "model_id": "9ff33cde64554f2395315a75c8bcdd31",
              "version_major": 2,
              "version_minor": 0
            },
            "text/plain": [
              "  0%|          | 0/625 [00:00<?, ?it/s]"
            ]
          },
          "metadata": {
            "tags": []
          }
        },
        {
          "output_type": "display_data",
          "data": {
            "application/vnd.jupyter.widget-view+json": {
              "model_id": "2727a7c9bfa74ddbb180cdbd436e48ce",
              "version_major": 2,
              "version_minor": 0
            },
            "text/plain": [
              "  0%|          | 0/209 [00:00<?, ?it/s]"
            ]
          },
          "metadata": {
            "tags": []
          }
        },
        {
          "output_type": "stream",
          "text": [
            "train_acc: 0.9647,  valid_acc = 0.9730\n"
          ],
          "name": "stdout"
        },
        {
          "output_type": "display_data",
          "data": {
            "application/vnd.jupyter.widget-view+json": {
              "model_id": "a7384a915df44140a33681834cb04952",
              "version_major": 2,
              "version_minor": 0
            },
            "text/plain": [
              "  0%|          | 0/625 [00:00<?, ?it/s]"
            ]
          },
          "metadata": {
            "tags": []
          }
        },
        {
          "output_type": "display_data",
          "data": {
            "application/vnd.jupyter.widget-view+json": {
              "model_id": "b3952ede4e774c73b167fe630c8ce88b",
              "version_major": 2,
              "version_minor": 0
            },
            "text/plain": [
              "  0%|          | 0/209 [00:00<?, ?it/s]"
            ]
          },
          "metadata": {
            "tags": []
          }
        },
        {
          "output_type": "stream",
          "text": [
            "train_acc: 0.9625,  valid_acc = 0.9710\n"
          ],
          "name": "stdout"
        },
        {
          "output_type": "display_data",
          "data": {
            "application/vnd.jupyter.widget-view+json": {
              "model_id": "9b0464efff59498fb08c0791e1a60c01",
              "version_major": 2,
              "version_minor": 0
            },
            "text/plain": [
              "  0%|          | 0/625 [00:00<?, ?it/s]"
            ]
          },
          "metadata": {
            "tags": []
          }
        },
        {
          "output_type": "display_data",
          "data": {
            "application/vnd.jupyter.widget-view+json": {
              "model_id": "5c5fc6a0d3994508b16e60b3da8c57c5",
              "version_major": 2,
              "version_minor": 0
            },
            "text/plain": [
              "  0%|          | 0/209 [00:00<?, ?it/s]"
            ]
          },
          "metadata": {
            "tags": []
          }
        },
        {
          "output_type": "stream",
          "text": [
            "train_acc: 0.9634,  valid_acc = 0.9758\n"
          ],
          "name": "stdout"
        },
        {
          "output_type": "display_data",
          "data": {
            "application/vnd.jupyter.widget-view+json": {
              "model_id": "bf8f98c8108f4f809604f4f90b8f4643",
              "version_major": 2,
              "version_minor": 0
            },
            "text/plain": [
              "  0%|          | 0/625 [00:00<?, ?it/s]"
            ]
          },
          "metadata": {
            "tags": []
          }
        },
        {
          "output_type": "display_data",
          "data": {
            "application/vnd.jupyter.widget-view+json": {
              "model_id": "8f4e515a05fe4aa1bdf4306b0d53b6ba",
              "version_major": 2,
              "version_minor": 0
            },
            "text/plain": [
              "  0%|          | 0/209 [00:00<?, ?it/s]"
            ]
          },
          "metadata": {
            "tags": []
          }
        },
        {
          "output_type": "stream",
          "text": [
            "train_acc: 0.9663,  valid_acc = 0.9721\n"
          ],
          "name": "stdout"
        },
        {
          "output_type": "display_data",
          "data": {
            "application/vnd.jupyter.widget-view+json": {
              "model_id": "27228f4c375f44de8e88ee0ec3f9a231",
              "version_major": 2,
              "version_minor": 0
            },
            "text/plain": [
              "  0%|          | 0/625 [00:00<?, ?it/s]"
            ]
          },
          "metadata": {
            "tags": []
          }
        },
        {
          "output_type": "display_data",
          "data": {
            "application/vnd.jupyter.widget-view+json": {
              "model_id": "3f3b42368b4a407587478c428be360d8",
              "version_major": 2,
              "version_minor": 0
            },
            "text/plain": [
              "  0%|          | 0/209 [00:00<?, ?it/s]"
            ]
          },
          "metadata": {
            "tags": []
          }
        },
        {
          "output_type": "stream",
          "text": [
            "train_acc: 0.9643,  valid_acc = 0.9721\n"
          ],
          "name": "stdout"
        },
        {
          "output_type": "display_data",
          "data": {
            "application/vnd.jupyter.widget-view+json": {
              "model_id": "f46697102fe4452f844f9684c623fd8f",
              "version_major": 2,
              "version_minor": 0
            },
            "text/plain": [
              "  0%|          | 0/625 [00:00<?, ?it/s]"
            ]
          },
          "metadata": {
            "tags": []
          }
        },
        {
          "output_type": "display_data",
          "data": {
            "application/vnd.jupyter.widget-view+json": {
              "model_id": "70c2bccf9b484e3eb096cc8b29a3ca75",
              "version_major": 2,
              "version_minor": 0
            },
            "text/plain": [
              "  0%|          | 0/209 [00:00<?, ?it/s]"
            ]
          },
          "metadata": {
            "tags": []
          }
        },
        {
          "output_type": "stream",
          "text": [
            "train_acc: 0.9637,  valid_acc = 0.9711\n"
          ],
          "name": "stdout"
        },
        {
          "output_type": "display_data",
          "data": {
            "application/vnd.jupyter.widget-view+json": {
              "model_id": "cd4bd549c634491daffa2ca3be1fe349",
              "version_major": 2,
              "version_minor": 0
            },
            "text/plain": [
              "  0%|          | 0/625 [00:00<?, ?it/s]"
            ]
          },
          "metadata": {
            "tags": []
          }
        },
        {
          "output_type": "display_data",
          "data": {
            "application/vnd.jupyter.widget-view+json": {
              "model_id": "00516112d7074986a7c7691b8edb485f",
              "version_major": 2,
              "version_minor": 0
            },
            "text/plain": [
              "  0%|          | 0/209 [00:00<?, ?it/s]"
            ]
          },
          "metadata": {
            "tags": []
          }
        },
        {
          "output_type": "stream",
          "text": [
            "train_acc: 0.9666,  valid_acc = 0.9748\n"
          ],
          "name": "stdout"
        },
        {
          "output_type": "display_data",
          "data": {
            "application/vnd.jupyter.widget-view+json": {
              "model_id": "6287e66c198a47e39c46d63c0b977189",
              "version_major": 2,
              "version_minor": 0
            },
            "text/plain": [
              "  0%|          | 0/625 [00:00<?, ?it/s]"
            ]
          },
          "metadata": {
            "tags": []
          }
        },
        {
          "output_type": "display_data",
          "data": {
            "application/vnd.jupyter.widget-view+json": {
              "model_id": "dcea3faa10c74b1b91d73dccbd6ecdf9",
              "version_major": 2,
              "version_minor": 0
            },
            "text/plain": [
              "  0%|          | 0/209 [00:00<?, ?it/s]"
            ]
          },
          "metadata": {
            "tags": []
          }
        },
        {
          "output_type": "stream",
          "text": [
            "train_acc: 0.9658,  valid_acc = 0.9750\n"
          ],
          "name": "stdout"
        }
      ]
    },
    {
      "cell_type": "code",
      "metadata": {
        "id": "b244d6ac-24bb-48c6-a98c-7458874d019b",
        "outputId": "f986a00c-95e8-4727-85b2-6e33133355b1"
      },
      "source": [
        "plt.plot(vaft_bin, label = 'train')\n",
        "plt.plot(taft_bin, label = 'valid')\n",
        "plt.legend()\n",
        "plt.xlabel('Epochs')\n",
        "plt.title('Cancer Identification Accuracy')\n",
        "plt.savefig('figures/cancer_identification_accuracy_ft.png')"
      ],
      "id": "b244d6ac-24bb-48c6-a98c-7458874d019b",
      "execution_count": null,
      "outputs": [
        {
          "output_type": "display_data",
          "data": {
            "image/png": "[encoded data removed]",
            "text/plain": [
              "<Figure size 432x288 with 1 Axes>"
            ]
          },
          "metadata": {
            "tags": []
          }
        }
      ]
    },
    {
      "cell_type": "code",
      "metadata": {
        "id": "6bfb057f-d1f8-4204-bbe3-9e28fc0896f4"
      },
      "source": [
        "taft2_bin = taft_bin[:5].copy()\n",
        "vaft2_bin = vaft_bin[:5].copy()"
      ],
      "id": "6bfb057f-d1f8-4204-bbe3-9e28fc0896f4",
      "execution_count": null,
      "outputs": []
    },
    {
      "cell_type": "code",
      "metadata": {
        "id": "606de354-9cef-414b-9400-05d530cc4ec9",
        "outputId": "3a7a6b49-8015-44eb-882d-b8d53a7b6ffe"
      },
      "source": [
        "filename = './models/resnet18/8112021_epoch_14_tacc_0.963_vacc_0.976.pkl'\n",
        "ft2_model = pickle.load(open(filename, 'rb'))\n",
        "\n",
        "for idx, (i, l) in enumerate(ft2_model.named_parameters()):\n",
        "    if idx > 56:\n",
        "        l.requires_grad = True\n",
        "    print(idx, i, l.requires_grad)\n",
        "\n",
        "params_to_update = []\n",
        "\n",
        "for param in ft_model.parameters():\n",
        "    if param.requires_grad == True:\n",
        "        params_to_update.append(param)\n",
        "        \n",
        "optimizer = optim.AdamW(params_to_update, lr=0.001)"
      ],
      "id": "606de354-9cef-414b-9400-05d530cc4ec9",
      "execution_count": null,
      "outputs": [
        {
          "output_type": "stream",
          "text": [
            "0 conv1.weight False\n",
            "1 bn1.weight False\n",
            "2 bn1.bias False\n",
            "3 layer1.0.conv1.weight False\n",
            "4 layer1.0.bn1.weight False\n",
            "5 layer1.0.bn1.bias False\n",
            "6 layer1.0.conv2.weight False\n",
            "7 layer1.0.bn2.weight False\n",
            "8 layer1.0.bn2.bias False\n",
            "9 layer1.1.conv1.weight False\n",
            "10 layer1.1.bn1.weight False\n",
            "11 layer1.1.bn1.bias False\n",
            "12 layer1.1.conv2.weight False\n",
            "13 layer1.1.bn2.weight False\n",
            "14 layer1.1.bn2.bias False\n",
            "15 layer2.0.conv1.weight False\n",
            "16 layer2.0.bn1.weight False\n",
            "17 layer2.0.bn1.bias False\n",
            "18 layer2.0.conv2.weight False\n",
            "19 layer2.0.bn2.weight False\n",
            "20 layer2.0.bn2.bias False\n",
            "21 layer2.0.downsample.0.weight False\n",
            "22 layer2.0.downsample.1.weight False\n",
            "23 layer2.0.downsample.1.bias False\n",
            "24 layer2.1.conv1.weight False\n",
            "25 layer2.1.bn1.weight False\n",
            "26 layer2.1.bn1.bias False\n",
            "27 layer2.1.conv2.weight False\n",
            "28 layer2.1.bn2.weight False\n",
            "29 layer2.1.bn2.bias False\n",
            "30 layer3.0.conv1.weight False\n",
            "31 layer3.0.bn1.weight False\n",
            "32 layer3.0.bn1.bias False\n",
            "33 layer3.0.conv2.weight False\n",
            "34 layer3.0.bn2.weight False\n",
            "35 layer3.0.bn2.bias False\n",
            "36 layer3.0.downsample.0.weight False\n",
            "37 layer3.0.downsample.1.weight False\n",
            "38 layer3.0.downsample.1.bias False\n",
            "39 layer3.1.conv1.weight False\n",
            "40 layer3.1.bn1.weight False\n",
            "41 layer3.1.bn1.bias False\n",
            "42 layer3.1.conv2.weight False\n",
            "43 layer3.1.bn2.weight False\n",
            "44 layer3.1.bn2.bias False\n",
            "45 layer4.0.conv1.weight False\n",
            "46 layer4.0.bn1.weight False\n",
            "47 layer4.0.bn1.bias False\n",
            "48 layer4.0.conv2.weight False\n",
            "49 layer4.0.bn2.weight False\n",
            "50 layer4.0.bn2.bias False\n",
            "51 layer4.0.downsample.0.weight False\n",
            "52 layer4.0.downsample.1.weight False\n",
            "53 layer4.0.downsample.1.bias False\n",
            "54 layer4.1.conv1.weight False\n",
            "55 layer4.1.bn1.weight False\n",
            "56 layer4.1.bn1.bias False\n",
            "57 layer4.1.conv2.weight True\n",
            "58 layer4.1.bn2.weight True\n",
            "59 layer4.1.bn2.bias True\n",
            "60 fc.weight True\n",
            "61 fc.bias True\n"
          ],
          "name": "stdout"
        }
      ]
    },
    {
      "cell_type": "code",
      "metadata": {
        "id": "e6e80bc8-e271-4acf-9e70-907d2abca812",
        "outputId": "0ad45ddb-15d5-4ef3-df42-c7a0f6ff41ba"
      },
      "source": [
        "num_epochs = 5\n",
        "\n",
        "for i in range(15, 15+num_epochs):\n",
        "    train_loss, train_acc, valid_loss, valid_acc = one_pass_train_valid(ft2_model, train_dl, valid_dl, optimizer, lossFun, class_type='binary', device=device)\n",
        "    print(f\"train_acc: {train_acc:.4f},  valid_acc = {valid_acc:.4f}\")\n",
        "#     tlft_bin.append(train_loss)\n",
        "#     vlft_bin.append(valid_loss)\n",
        "    taft2_bin.append(train_acc)\n",
        "    vaft2_bin.append(valid_acc)\n",
        "    model_name = f'models/resnet18/8112021_epoch_{i}_tacc_{train_acc:.3f}_vacc_{valid_acc:.3f}.pkl'\n",
        "    pickle.dump(ft_model, open(model_name, 'wb'))"
      ],
      "id": "e6e80bc8-e271-4acf-9e70-907d2abca812",
      "execution_count": null,
      "outputs": [
        {
          "output_type": "display_data",
          "data": {
            "application/vnd.jupyter.widget-view+json": {
              "model_id": "01d9d8cbd56a4a7d9855c2f1f3a75d71",
              "version_major": 2,
              "version_minor": 0
            },
            "text/plain": [
              "  0%|          | 0/625 [00:00<?, ?it/s]"
            ]
          },
          "metadata": {
            "tags": []
          }
        },
        {
          "output_type": "display_data",
          "data": {
            "application/vnd.jupyter.widget-view+json": {
              "model_id": "c77c88f38ff94dd99f53b02770d0f814",
              "version_major": 2,
              "version_minor": 0
            },
            "text/plain": [
              "  0%|          | 0/209 [00:00<?, ?it/s]"
            ]
          },
          "metadata": {
            "tags": []
          }
        },
        {
          "output_type": "stream",
          "text": [
            "train_acc: 0.9652,  valid_acc = 0.9689\n"
          ],
          "name": "stdout"
        },
        {
          "output_type": "display_data",
          "data": {
            "application/vnd.jupyter.widget-view+json": {
              "model_id": "13e579ac0703408b82d9fdd780c4db1e",
              "version_major": 2,
              "version_minor": 0
            },
            "text/plain": [
              "  0%|          | 0/625 [00:00<?, ?it/s]"
            ]
          },
          "metadata": {
            "tags": []
          }
        },
        {
          "output_type": "display_data",
          "data": {
            "application/vnd.jupyter.widget-view+json": {
              "model_id": "10326a5f726244168cf40094d0859655",
              "version_major": 2,
              "version_minor": 0
            },
            "text/plain": [
              "  0%|          | 0/209 [00:00<?, ?it/s]"
            ]
          },
          "metadata": {
            "tags": []
          }
        },
        {
          "output_type": "stream",
          "text": [
            "train_acc: 0.9648,  valid_acc = 0.9703\n"
          ],
          "name": "stdout"
        },
        {
          "output_type": "display_data",
          "data": {
            "application/vnd.jupyter.widget-view+json": {
              "model_id": "d5a72aa5a84244ebac5761af0596fee8",
              "version_major": 2,
              "version_minor": 0
            },
            "text/plain": [
              "  0%|          | 0/625 [00:00<?, ?it/s]"
            ]
          },
          "metadata": {
            "tags": []
          }
        },
        {
          "output_type": "display_data",
          "data": {
            "application/vnd.jupyter.widget-view+json": {
              "model_id": "9bb694f499da4855a923e8167de418bf",
              "version_major": 2,
              "version_minor": 0
            },
            "text/plain": [
              "  0%|          | 0/209 [00:00<?, ?it/s]"
            ]
          },
          "metadata": {
            "tags": []
          }
        },
        {
          "output_type": "stream",
          "text": [
            "train_acc: 0.9648,  valid_acc = 0.9707\n"
          ],
          "name": "stdout"
        },
        {
          "output_type": "display_data",
          "data": {
            "application/vnd.jupyter.widget-view+json": {
              "model_id": "976d424f9d8b43dc89bfb2fd029f733f",
              "version_major": 2,
              "version_minor": 0
            },
            "text/plain": [
              "  0%|          | 0/625 [00:00<?, ?it/s]"
            ]
          },
          "metadata": {
            "tags": []
          }
        },
        {
          "output_type": "display_data",
          "data": {
            "application/vnd.jupyter.widget-view+json": {
              "model_id": "0bc1a4cbb8d944a59a66442ecc31818d",
              "version_major": 2,
              "version_minor": 0
            },
            "text/plain": [
              "  0%|          | 0/209 [00:00<?, ?it/s]"
            ]
          },
          "metadata": {
            "tags": []
          }
        },
        {
          "output_type": "stream",
          "text": [
            "train_acc: 0.9642,  valid_acc = 0.9711\n"
          ],
          "name": "stdout"
        },
        {
          "output_type": "display_data",
          "data": {
            "application/vnd.jupyter.widget-view+json": {
              "model_id": "2bc1f86b71e1454d9bb2037ba2743c24",
              "version_major": 2,
              "version_minor": 0
            },
            "text/plain": [
              "  0%|          | 0/625 [00:00<?, ?it/s]"
            ]
          },
          "metadata": {
            "tags": []
          }
        },
        {
          "output_type": "display_data",
          "data": {
            "application/vnd.jupyter.widget-view+json": {
              "model_id": "ee6d8d10649f44598c364b23889b52ae",
              "version_major": 2,
              "version_minor": 0
            },
            "text/plain": [
              "  0%|          | 0/209 [00:00<?, ?it/s]"
            ]
          },
          "metadata": {
            "tags": []
          }
        },
        {
          "output_type": "stream",
          "text": [
            "train_acc: 0.9626,  valid_acc = 0.9750\n"
          ],
          "name": "stdout"
        }
      ]
    },
    {
      "cell_type": "code",
      "metadata": {
        "collapsed": true,
        "jupyter": {
          "outputs_hidden": true
        },
        "tags": [],
        "id": "e5080a82-2722-4128-9824-a83ddf7fc337",
        "outputId": "d5e6e625-5b79-4fe8-c9de-abdad0d1d3f8"
      },
      "source": [
        "# filename = './models/resnet18/8112021_epoch_14_tacc_0.963_vacc_0.976.pkl'\n",
        "# ft2_model = pickle.load(open(filename, 'rb'))\n",
        "\n",
        "for idx, (i, l) in enumerate(ft2_model.named_parameters()):\n",
        "    if idx > 54:\n",
        "        l.requires_grad = True\n",
        "    print(idx, i, l.requires_grad)\n",
        "\n",
        "params_to_update = []\n",
        "\n",
        "for param in ft_model.parameters():\n",
        "    if param.requires_grad == True:\n",
        "        params_to_update.append(param)\n",
        "        \n",
        "optimizer = optim.AdamW(params_to_update, lr=0.001)"
      ],
      "id": "e5080a82-2722-4128-9824-a83ddf7fc337",
      "execution_count": null,
      "outputs": [
        {
          "output_type": "stream",
          "text": [
            "0 conv1.weight False\n",
            "1 bn1.weight False\n",
            "2 bn1.bias False\n",
            "3 layer1.0.conv1.weight False\n",
            "4 layer1.0.bn1.weight False\n",
            "5 layer1.0.bn1.bias False\n",
            "6 layer1.0.conv2.weight False\n",
            "7 layer1.0.bn2.weight False\n",
            "8 layer1.0.bn2.bias False\n",
            "9 layer1.1.conv1.weight False\n",
            "10 layer1.1.bn1.weight False\n",
            "11 layer1.1.bn1.bias False\n",
            "12 layer1.1.conv2.weight False\n",
            "13 layer1.1.bn2.weight False\n",
            "14 layer1.1.bn2.bias False\n",
            "15 layer2.0.conv1.weight False\n",
            "16 layer2.0.bn1.weight False\n",
            "17 layer2.0.bn1.bias False\n",
            "18 layer2.0.conv2.weight False\n",
            "19 layer2.0.bn2.weight False\n",
            "20 layer2.0.bn2.bias False\n",
            "21 layer2.0.downsample.0.weight False\n",
            "22 layer2.0.downsample.1.weight False\n",
            "23 layer2.0.downsample.1.bias False\n",
            "24 layer2.1.conv1.weight False\n",
            "25 layer2.1.bn1.weight False\n",
            "26 layer2.1.bn1.bias False\n",
            "27 layer2.1.conv2.weight False\n",
            "28 layer2.1.bn2.weight False\n",
            "29 layer2.1.bn2.bias False\n",
            "30 layer3.0.conv1.weight False\n",
            "31 layer3.0.bn1.weight False\n",
            "32 layer3.0.bn1.bias False\n",
            "33 layer3.0.conv2.weight False\n",
            "34 layer3.0.bn2.weight False\n",
            "35 layer3.0.bn2.bias False\n",
            "36 layer3.0.downsample.0.weight False\n",
            "37 layer3.0.downsample.1.weight False\n",
            "38 layer3.0.downsample.1.bias False\n",
            "39 layer3.1.conv1.weight False\n",
            "40 layer3.1.bn1.weight False\n",
            "41 layer3.1.bn1.bias False\n",
            "42 layer3.1.conv2.weight False\n",
            "43 layer3.1.bn2.weight False\n",
            "44 layer3.1.bn2.bias False\n",
            "45 layer4.0.conv1.weight False\n",
            "46 layer4.0.bn1.weight False\n",
            "47 layer4.0.bn1.bias False\n",
            "48 layer4.0.conv2.weight False\n",
            "49 layer4.0.bn2.weight False\n",
            "50 layer4.0.bn2.bias False\n",
            "51 layer4.0.downsample.0.weight False\n",
            "52 layer4.0.downsample.1.weight False\n",
            "53 layer4.0.downsample.1.bias False\n",
            "54 layer4.1.conv1.weight False\n",
            "55 layer4.1.bn1.weight True\n",
            "56 layer4.1.bn1.bias True\n",
            "57 layer4.1.conv2.weight True\n",
            "58 layer4.1.bn2.weight True\n",
            "59 layer4.1.bn2.bias True\n",
            "60 fc.weight True\n",
            "61 fc.bias True\n"
          ],
          "name": "stdout"
        }
      ]
    },
    {
      "cell_type": "code",
      "metadata": {
        "id": "e96cfac2-f615-413c-b968-bdfa0430aacb",
        "outputId": "a4ce6b12-70bf-4fc1-d26e-d97559d43b10"
      },
      "source": [
        "num_epochs = 10\n",
        "\n",
        "for i in range(20, 20+num_epochs):\n",
        "    train_loss, train_acc, valid_loss, valid_acc = one_pass_train_valid(ft2_model, train_dl, valid_dl, optimizer, lossFun, class_type='binary', device=device)\n",
        "    print(f\"train_acc: {train_acc:.4f},  valid_acc = {valid_acc:.4f}\")\n",
        "#     tlft_bin.append(train_loss)\n",
        "#     vlft_bin.append(valid_loss)\n",
        "    taft2_bin.append(train_acc)\n",
        "    vaft2_bin.append(valid_acc)\n",
        "    model_name = f'models/resnet18/8112021_epoch_{i}_tacc_{train_acc:.3f}_vacc_{valid_acc:.3f}.pkl'\n",
        "    pickle.dump(ft_model, open(model_name, 'wb'))"
      ],
      "id": "e96cfac2-f615-413c-b968-bdfa0430aacb",
      "execution_count": null,
      "outputs": [
        {
          "output_type": "display_data",
          "data": {
            "application/vnd.jupyter.widget-view+json": {
              "model_id": "2f24ddedb57f45a3b7020800f2ea7cd8",
              "version_major": 2,
              "version_minor": 0
            },
            "text/plain": [
              "  0%|          | 0/625 [00:00<?, ?it/s]"
            ]
          },
          "metadata": {
            "tags": []
          }
        },
        {
          "output_type": "display_data",
          "data": {
            "application/vnd.jupyter.widget-view+json": {
              "model_id": "cf940256d0324fe9adbe9c87c5233409",
              "version_major": 2,
              "version_minor": 0
            },
            "text/plain": [
              "  0%|          | 0/209 [00:00<?, ?it/s]"
            ]
          },
          "metadata": {
            "tags": []
          }
        },
        {
          "output_type": "stream",
          "text": [
            "train_acc: 0.9646,  valid_acc = 0.9705\n"
          ],
          "name": "stdout"
        },
        {
          "output_type": "display_data",
          "data": {
            "application/vnd.jupyter.widget-view+json": {
              "model_id": "b727d937676b402f8659b910ee6d8770",
              "version_major": 2,
              "version_minor": 0
            },
            "text/plain": [
              "  0%|          | 0/625 [00:00<?, ?it/s]"
            ]
          },
          "metadata": {
            "tags": []
          }
        },
        {
          "output_type": "display_data",
          "data": {
            "application/vnd.jupyter.widget-view+json": {
              "model_id": "e113f9775b57432d8666ffd035b57fc0",
              "version_major": 2,
              "version_minor": 0
            },
            "text/plain": [
              "  0%|          | 0/209 [00:00<?, ?it/s]"
            ]
          },
          "metadata": {
            "tags": []
          }
        },
        {
          "output_type": "stream",
          "text": [
            "train_acc: 0.9631,  valid_acc = 0.9735\n"
          ],
          "name": "stdout"
        },
        {
          "output_type": "display_data",
          "data": {
            "application/vnd.jupyter.widget-view+json": {
              "model_id": "347428daaa7440ebbc79ae318d69f03a",
              "version_major": 2,
              "version_minor": 0
            },
            "text/plain": [
              "  0%|          | 0/625 [00:00<?, ?it/s]"
            ]
          },
          "metadata": {
            "tags": []
          }
        },
        {
          "output_type": "display_data",
          "data": {
            "application/vnd.jupyter.widget-view+json": {
              "model_id": "cff953b2b645482fb84ccd6bcf5a1f57",
              "version_major": 2,
              "version_minor": 0
            },
            "text/plain": [
              "  0%|          | 0/209 [00:00<?, ?it/s]"
            ]
          },
          "metadata": {
            "tags": []
          }
        },
        {
          "output_type": "stream",
          "text": [
            "train_acc: 0.9649,  valid_acc = 0.9710\n"
          ],
          "name": "stdout"
        },
        {
          "output_type": "display_data",
          "data": {
            "application/vnd.jupyter.widget-view+json": {
              "model_id": "08843581d53a4a6f83a808d01979e44e",
              "version_major": 2,
              "version_minor": 0
            },
            "text/plain": [
              "  0%|          | 0/625 [00:00<?, ?it/s]"
            ]
          },
          "metadata": {
            "tags": []
          }
        },
        {
          "output_type": "display_data",
          "data": {
            "application/vnd.jupyter.widget-view+json": {
              "model_id": "1ef8a1fc4507491c9a6d26a5fc999ee4",
              "version_major": 2,
              "version_minor": 0
            },
            "text/plain": [
              "  0%|          | 0/209 [00:00<?, ?it/s]"
            ]
          },
          "metadata": {
            "tags": []
          }
        },
        {
          "output_type": "stream",
          "text": [
            "train_acc: 0.9654,  valid_acc = 0.9721\n"
          ],
          "name": "stdout"
        },
        {
          "output_type": "display_data",
          "data": {
            "application/vnd.jupyter.widget-view+json": {
              "model_id": "26bf9a5060cd4676ad4be79e18774e14",
              "version_major": 2,
              "version_minor": 0
            },
            "text/plain": [
              "  0%|          | 0/625 [00:00<?, ?it/s]"
            ]
          },
          "metadata": {
            "tags": []
          }
        },
        {
          "output_type": "display_data",
          "data": {
            "application/vnd.jupyter.widget-view+json": {
              "model_id": "2da8a8314fcf4e098d67af207142fd0c",
              "version_major": 2,
              "version_minor": 0
            },
            "text/plain": [
              "  0%|          | 0/209 [00:00<?, ?it/s]"
            ]
          },
          "metadata": {
            "tags": []
          }
        },
        {
          "output_type": "stream",
          "text": [
            "train_acc: 0.9624,  valid_acc = 0.9713\n"
          ],
          "name": "stdout"
        },
        {
          "output_type": "display_data",
          "data": {
            "application/vnd.jupyter.widget-view+json": {
              "model_id": "ed4fc58d89ac4afeaf6f5bd17b937b07",
              "version_major": 2,
              "version_minor": 0
            },
            "text/plain": [
              "  0%|          | 0/625 [00:00<?, ?it/s]"
            ]
          },
          "metadata": {
            "tags": []
          }
        },
        {
          "output_type": "display_data",
          "data": {
            "application/vnd.jupyter.widget-view+json": {
              "model_id": "9193e561e61e47c494d2fb58f7479bf4",
              "version_major": 2,
              "version_minor": 0
            },
            "text/plain": [
              "  0%|          | 0/209 [00:00<?, ?it/s]"
            ]
          },
          "metadata": {
            "tags": []
          }
        },
        {
          "output_type": "stream",
          "text": [
            "train_acc: 0.9651,  valid_acc = 0.9703\n"
          ],
          "name": "stdout"
        },
        {
          "output_type": "display_data",
          "data": {
            "application/vnd.jupyter.widget-view+json": {
              "model_id": "330419261e744d5d964af8e07f1f2791",
              "version_major": 2,
              "version_minor": 0
            },
            "text/plain": [
              "  0%|          | 0/625 [00:00<?, ?it/s]"
            ]
          },
          "metadata": {
            "tags": []
          }
        },
        {
          "output_type": "display_data",
          "data": {
            "application/vnd.jupyter.widget-view+json": {
              "model_id": "b056edc88c69465f942d960c61ab6c00",
              "version_major": 2,
              "version_minor": 0
            },
            "text/plain": [
              "  0%|          | 0/209 [00:00<?, ?it/s]"
            ]
          },
          "metadata": {
            "tags": []
          }
        },
        {
          "output_type": "stream",
          "text": [
            "train_acc: 0.9642,  valid_acc = 0.9726\n"
          ],
          "name": "stdout"
        },
        {
          "output_type": "display_data",
          "data": {
            "application/vnd.jupyter.widget-view+json": {
              "model_id": "6366c8c33b5b4a65b0cbc7fd059fa33b",
              "version_major": 2,
              "version_minor": 0
            },
            "text/plain": [
              "  0%|          | 0/625 [00:00<?, ?it/s]"
            ]
          },
          "metadata": {
            "tags": []
          }
        },
        {
          "output_type": "display_data",
          "data": {
            "application/vnd.jupyter.widget-view+json": {
              "model_id": "a2cd5681193440f98c6a3a162dbea25c",
              "version_major": 2,
              "version_minor": 0
            },
            "text/plain": [
              "  0%|          | 0/209 [00:00<?, ?it/s]"
            ]
          },
          "metadata": {
            "tags": []
          }
        },
        {
          "output_type": "stream",
          "text": [
            "train_acc: 0.9652,  valid_acc = 0.9738\n"
          ],
          "name": "stdout"
        },
        {
          "output_type": "display_data",
          "data": {
            "application/vnd.jupyter.widget-view+json": {
              "model_id": "0ee94de9e1244e95868807d9d162e855",
              "version_major": 2,
              "version_minor": 0
            },
            "text/plain": [
              "  0%|          | 0/625 [00:00<?, ?it/s]"
            ]
          },
          "metadata": {
            "tags": []
          }
        },
        {
          "output_type": "display_data",
          "data": {
            "application/vnd.jupyter.widget-view+json": {
              "model_id": "b65da906111845dda76aeab960e6b5ec",
              "version_major": 2,
              "version_minor": 0
            },
            "text/plain": [
              "  0%|          | 0/209 [00:00<?, ?it/s]"
            ]
          },
          "metadata": {
            "tags": []
          }
        },
        {
          "output_type": "stream",
          "text": [
            "train_acc: 0.9649,  valid_acc = 0.9735\n"
          ],
          "name": "stdout"
        },
        {
          "output_type": "display_data",
          "data": {
            "application/vnd.jupyter.widget-view+json": {
              "model_id": "8f82163f364143e78065adc404dcbb90",
              "version_major": 2,
              "version_minor": 0
            },
            "text/plain": [
              "  0%|          | 0/625 [00:00<?, ?it/s]"
            ]
          },
          "metadata": {
            "tags": []
          }
        },
        {
          "output_type": "display_data",
          "data": {
            "application/vnd.jupyter.widget-view+json": {
              "model_id": "116f6c2530e34791ba1fedaa2b7f9575",
              "version_major": 2,
              "version_minor": 0
            },
            "text/plain": [
              "  0%|          | 0/209 [00:00<?, ?it/s]"
            ]
          },
          "metadata": {
            "tags": []
          }
        },
        {
          "output_type": "stream",
          "text": [
            "train_acc: 0.9635,  valid_acc = 0.9729\n"
          ],
          "name": "stdout"
        }
      ]
    },
    {
      "cell_type": "code",
      "metadata": {
        "id": "7aea1e89-bee6-4eee-b38b-93dadef0d015",
        "outputId": "2a999d33-ae35-465c-aaee-84a32dbac27f"
      },
      "source": [
        "plt.plot(vaft2_bin, label = 'train')\n",
        "plt.plot(taft2_bin, label = 'valid')\n",
        "plt.legend()\n",
        "plt.xlabel('Epochs')\n",
        "plt.title('Cancer Identification Accuracy (Fine Tuned)')\n",
        "plt.savefig('figures/cancer_identification_accuracy_ft2.png')"
      ],
      "id": "7aea1e89-bee6-4eee-b38b-93dadef0d015",
      "execution_count": null,
      "outputs": [
        {
          "output_type": "display_data",
          "data": {
            "image/png": "[encoded data removed]",
            "text/plain": [
              "<Figure size 432x288 with 1 Axes>"
            ]
          },
          "metadata": {
            "tags": []
          }
        }
      ]
    },
    {
      "cell_type": "markdown",
      "metadata": {
        "id": "28bbd6b4-1908-4097-a37c-719892514e0d"
      },
      "source": [
        "# Scenario Two: Binary Classifier For Lung, Colon"
      ],
      "id": "28bbd6b4-1908-4097-a37c-719892514e0d"
    },
    {
      "cell_type": "markdown",
      "metadata": {
        "id": "2544f8bf-2a94-4aa6-8678-de8de758a2e0"
      },
      "source": [
        "Making Predictions:\n",
        "----\n",
        "\n",
        "- The accuracy will be weighed by the number of predictions for each dataset:\n",
        "\n",
        "$$accuracy = \\frac{len(colon_{valid}) * acc_{colon} + len(lung_{valid}) * acc_{lung}}{len(colon_{valid})+len(lung_{valid})} $$"
      ],
      "id": "2544f8bf-2a94-4aa6-8678-de8de758a2e0"
    },
    {
      "cell_type": "code",
      "metadata": {
        "id": "e622708b-8153-4b91-a9a2-e50031fb1af6",
        "outputId": "a376b011-8f84-4c0c-e24a-7bc65157d36a"
      },
      "source": [
        "df['location'] = df['label'].map(lambda x: x.split(\"_\")[0])\n",
        "df_lung = df[df['location'] == 'lung']\n",
        "df_colon = df[df['location'] == 'colon']\n",
        "df['type'] = df['label'].map(lambda x: 'Not Cancer' if 'n' in x.split('_')[1] else 'Cancer')\n",
        "df['type'].value_counts()"
      ],
      "id": "e622708b-8153-4b91-a9a2-e50031fb1af6",
      "execution_count": null,
      "outputs": [
        {
          "output_type": "execute_result",
          "data": {
            "text/plain": [
              "Cancer        14999\n",
              "Not Cancer    10000\n",
              "Name: type, dtype: int64"
            ]
          },
          "metadata": {
            "tags": []
          },
          "execution_count": 11
        }
      ]
    },
    {
      "cell_type": "markdown",
      "metadata": {
        "id": "ec300f7d-a6e3-43bd-935a-da2472c9a23a"
      },
      "source": [
        "## Lung Classifier:"
      ],
      "id": "ec300f7d-a6e3-43bd-935a-da2472c9a23a"
    },
    {
      "cell_type": "code",
      "metadata": {
        "id": "34d53cdb-00fd-4e5d-91fc-52fa463c9031",
        "outputId": "49ee3e9e-92c4-45b0-bc91-53f002a4f6d8"
      },
      "source": [
        "df_lung.head()"
      ],
      "id": "34d53cdb-00fd-4e5d-91fc-52fa463c9031",
      "execution_count": null,
      "outputs": [
        {
          "output_type": "execute_result",
          "data": {
            "text/html": [
              "<div>\n",
              "<style scoped>\n",
              "    .dataframe tbody tr th:only-of-type {\n",
              "        vertical-align: middle;\n",
              "    }\n",
              "\n",
              "    .dataframe tbody tr th {\n",
              "        vertical-align: top;\n",
              "    }\n",
              "\n",
              "    .dataframe thead th {\n",
              "        text-align: right;\n",
              "    }\n",
              "</style>\n",
              "<table border=\"1\" class=\"dataframe\">\n",
              "  <thead>\n",
              "    <tr style=\"text-align: right;\">\n",
              "      <th></th>\n",
              "      <th>image_file</th>\n",
              "      <th>label</th>\n",
              "      <th>image_path</th>\n",
              "      <th>location</th>\n",
              "      <th>type</th>\n",
              "    </tr>\n",
              "  </thead>\n",
              "  <tbody>\n",
              "    <tr>\n",
              "      <th>0</th>\n",
              "      <td>lungaca1843.jpeg</td>\n",
              "      <td>lung_aca</td>\n",
              "      <td>/home/oniemann/Cancer_Classifier/lung_colon_im...</td>\n",
              "      <td>lung</td>\n",
              "      <td>Cancer</td>\n",
              "    </tr>\n",
              "    <tr>\n",
              "      <th>1</th>\n",
              "      <td>lungaca294.jpeg</td>\n",
              "      <td>lung_aca</td>\n",
              "      <td>/home/oniemann/Cancer_Classifier/lung_colon_im...</td>\n",
              "      <td>lung</td>\n",
              "      <td>Cancer</td>\n",
              "    </tr>\n",
              "    <tr>\n",
              "      <th>2</th>\n",
              "      <td>lungaca3487.jpeg</td>\n",
              "      <td>lung_aca</td>\n",
              "      <td>/home/oniemann/Cancer_Classifier/lung_colon_im...</td>\n",
              "      <td>lung</td>\n",
              "      <td>Cancer</td>\n",
              "    </tr>\n",
              "    <tr>\n",
              "      <th>3</th>\n",
              "      <td>lungaca4342.jpeg</td>\n",
              "      <td>lung_aca</td>\n",
              "      <td>/home/oniemann/Cancer_Classifier/lung_colon_im...</td>\n",
              "      <td>lung</td>\n",
              "      <td>Cancer</td>\n",
              "    </tr>\n",
              "    <tr>\n",
              "      <th>4</th>\n",
              "      <td>lungaca1140.jpeg</td>\n",
              "      <td>lung_aca</td>\n",
              "      <td>/home/oniemann/Cancer_Classifier/lung_colon_im...</td>\n",
              "      <td>lung</td>\n",
              "      <td>Cancer</td>\n",
              "    </tr>\n",
              "  </tbody>\n",
              "</table>\n",
              "</div>"
            ],
            "text/plain": [
              "         image_file     label  \\\n",
              "0  lungaca1843.jpeg  lung_aca   \n",
              "1   lungaca294.jpeg  lung_aca   \n",
              "2  lungaca3487.jpeg  lung_aca   \n",
              "3  lungaca4342.jpeg  lung_aca   \n",
              "4  lungaca1140.jpeg  lung_aca   \n",
              "\n",
              "                                          image_path location    type  \n",
              "0  /home/oniemann/Cancer_Classifier/lung_colon_im...     lung  Cancer  \n",
              "1  /home/oniemann/Cancer_Classifier/lung_colon_im...     lung  Cancer  \n",
              "2  /home/oniemann/Cancer_Classifier/lung_colon_im...     lung  Cancer  \n",
              "3  /home/oniemann/Cancer_Classifier/lung_colon_im...     lung  Cancer  \n",
              "4  /home/oniemann/Cancer_Classifier/lung_colon_im...     lung  Cancer  "
            ]
          },
          "metadata": {
            "tags": []
          },
          "execution_count": 12
        }
      ]
    },
    {
      "cell_type": "code",
      "metadata": {
        "id": "b212a767-2823-4d7f-959d-2caa8b22ce3c",
        "outputId": "8086210b-77f2-4c61-f05a-379d597ab25b"
      },
      "source": [
        "df_lung['type'].value_counts()"
      ],
      "id": "b212a767-2823-4d7f-959d-2caa8b22ce3c",
      "execution_count": null,
      "outputs": [
        {
          "output_type": "execute_result",
          "data": {
            "text/plain": [
              "Cancer        9999\n",
              "Not Cancer    5000\n",
              "Name: type, dtype: int64"
            ]
          },
          "metadata": {
            "tags": []
          },
          "execution_count": 13
        }
      ]
    },
    {
      "cell_type": "code",
      "metadata": {
        "id": "70b95191-03eb-4cc1-8e01-922b8809a147"
      },
      "source": [
        "train_df, valid_df = train_test_split(df_lung)\n",
        "\n",
        "train_ds = BinCancerImagesDataset(train_df)\n",
        "valid_ds = BinCancerImagesDataset(valid_df)\n",
        "\n",
        "batch_size= 30\n",
        "train_dl = DataLoader(train_ds, batch_size=batch_size, shuffle=True)\n",
        "valid_dl = DataLoader(valid_ds, batch_size=batch_size)"
      ],
      "id": "70b95191-03eb-4cc1-8e01-922b8809a147",
      "execution_count": null,
      "outputs": []
    },
    {
      "cell_type": "code",
      "metadata": {
        "id": "f022613f-3d48-4bf5-a075-c08baf36fa67",
        "outputId": "2a98a487-172f-4cfc-e161-466f8c7d0233"
      },
      "source": [
        "model_lung = models.resnet18(pretrained=True)\n",
        "device = torch.device(0)\n",
        "model_lung.fc = nn.Linear(512, 1, bias=True)\n",
        "model_lung.to(device)\n",
        "\n",
        "lossFun = nn.BCEWithLogitsLoss()\n",
        "\n",
        "params_to_update = []\n",
        "\n",
        "for param in model_lung.parameters():\n",
        "    if param.requires_grad == True:\n",
        "        params_to_update.append(param)\n",
        "        \n",
        "optimizer = optim.AdamW(params_to_update, lr=0.01)\n",
        "\n",
        "tl_bin = []\n",
        "vl_bin = []\n",
        "ta_bin = []\n",
        "va_bin = []\n",
        "num_epochs = 10\n",
        "\n",
        "for i in range(num_epochs):\n",
        "    train_loss, train_acc, valid_loss, valid_acc = one_pass_train_valid(model_lung, train_dl, valid_dl, optimizer, lossFun, class_type='binary', device=device)\n",
        "    print(f\"train_acc: {train_acc:.4f},  valid_acc = {valid_acc:.4f}\")\n",
        "    tl_bin.append(train_loss)\n",
        "    vl_bin.append(valid_loss)\n",
        "    ta_bin.append(train_acc)\n",
        "    va_bin.append(valid_acc)\n",
        "    #model_name = f'models/resnet18/8112021_epoch_{i}_tacc_{train_acc:.3f}_vacc_{valid_acc:.3f}.pkl'\n",
        "    #pickle.dump(model, open(model_name, 'wb'))"
      ],
      "id": "f022613f-3d48-4bf5-a075-c08baf36fa67",
      "execution_count": null,
      "outputs": [
        {
          "output_type": "display_data",
          "data": {
            "application/vnd.jupyter.widget-view+json": {
              "model_id": "aef94741fff64ba481ace6cf897fece2",
              "version_major": 2,
              "version_minor": 0
            },
            "text/plain": [
              "  0%|          | 0/375 [00:00<?, ?it/s]"
            ]
          },
          "metadata": {
            "tags": []
          }
        },
        {
          "output_type": "stream",
          "text": [
            "/home/oniemann/deep_learning/lib64/python3.6/site-packages/torch/nn/functional.py:718: UserWarning: Named tensors and all their associated APIs are an experimental feature and subject to change. Please do not use them for anything important until they are released as stable. (Triggered internally at  /pytorch/c10/core/TensorImpl.h:1156.)\n",
            "  return torch.max_pool2d(input, kernel_size, stride, padding, dilation, ceil_mode)\n"
          ],
          "name": "stderr"
        },
        {
          "output_type": "display_data",
          "data": {
            "application/vnd.jupyter.widget-view+json": {
              "model_id": "140a3191ece948738f8c0a29b6a5ba77",
              "version_major": 2,
              "version_minor": 0
            },
            "text/plain": [
              "  0%|          | 0/125 [00:00<?, ?it/s]"
            ]
          },
          "metadata": {
            "tags": []
          }
        },
        {
          "output_type": "stream",
          "text": [
            "train_acc: 0.9378,  valid_acc = 0.9781\n"
          ],
          "name": "stdout"
        },
        {
          "output_type": "display_data",
          "data": {
            "application/vnd.jupyter.widget-view+json": {
              "model_id": "7ef14887e7134cb69304c63ff11ea855",
              "version_major": 2,
              "version_minor": 0
            },
            "text/plain": [
              "  0%|          | 0/375 [00:00<?, ?it/s]"
            ]
          },
          "metadata": {
            "tags": []
          }
        },
        {
          "output_type": "display_data",
          "data": {
            "application/vnd.jupyter.widget-view+json": {
              "model_id": "27e30cf294304fe387ed06918829689b",
              "version_major": 2,
              "version_minor": 0
            },
            "text/plain": [
              "  0%|          | 0/125 [00:00<?, ?it/s]"
            ]
          },
          "metadata": {
            "tags": []
          }
        },
        {
          "output_type": "stream",
          "text": [
            "train_acc: 0.9732,  valid_acc = 0.9781\n"
          ],
          "name": "stdout"
        },
        {
          "output_type": "display_data",
          "data": {
            "application/vnd.jupyter.widget-view+json": {
              "model_id": "4df15a07b22748e89055a0003abfaec5",
              "version_major": 2,
              "version_minor": 0
            },
            "text/plain": [
              "  0%|          | 0/375 [00:00<?, ?it/s]"
            ]
          },
          "metadata": {
            "tags": []
          }
        },
        {
          "output_type": "display_data",
          "data": {
            "application/vnd.jupyter.widget-view+json": {
              "model_id": "d456ebcfd8a942d484e9c2f6e9e10e42",
              "version_major": 2,
              "version_minor": 0
            },
            "text/plain": [
              "  0%|          | 0/125 [00:00<?, ?it/s]"
            ]
          },
          "metadata": {
            "tags": []
          }
        },
        {
          "output_type": "stream",
          "text": [
            "train_acc: 0.9765,  valid_acc = 0.8549\n"
          ],
          "name": "stdout"
        },
        {
          "output_type": "display_data",
          "data": {
            "application/vnd.jupyter.widget-view+json": {
              "model_id": "310f927100e848a6ac997e4e30f95df2",
              "version_major": 2,
              "version_minor": 0
            },
            "text/plain": [
              "  0%|          | 0/375 [00:00<?, ?it/s]"
            ]
          },
          "metadata": {
            "tags": []
          }
        },
        {
          "output_type": "display_data",
          "data": {
            "application/vnd.jupyter.widget-view+json": {
              "model_id": "68a34726ded943199bb8e4176a5701a0",
              "version_major": 2,
              "version_minor": 0
            },
            "text/plain": [
              "  0%|          | 0/125 [00:00<?, ?it/s]"
            ]
          },
          "metadata": {
            "tags": []
          }
        },
        {
          "output_type": "stream",
          "text": [
            "train_acc: 0.9751,  valid_acc = 0.9725\n"
          ],
          "name": "stdout"
        },
        {
          "output_type": "display_data",
          "data": {
            "application/vnd.jupyter.widget-view+json": {
              "model_id": "2790d7f25ca54b82a43078f57be4ea5c",
              "version_major": 2,
              "version_minor": 0
            },
            "text/plain": [
              "  0%|          | 0/375 [00:00<?, ?it/s]"
            ]
          },
          "metadata": {
            "tags": []
          }
        },
        {
          "output_type": "display_data",
          "data": {
            "application/vnd.jupyter.widget-view+json": {
              "model_id": "2c14bdd1a1a04d88a1b17f3d7cde9cf2",
              "version_major": 2,
              "version_minor": 0
            },
            "text/plain": [
              "  0%|          | 0/125 [00:00<?, ?it/s]"
            ]
          },
          "metadata": {
            "tags": []
          }
        },
        {
          "output_type": "stream",
          "text": [
            "train_acc: 0.9772,  valid_acc = 0.9813\n"
          ],
          "name": "stdout"
        },
        {
          "output_type": "display_data",
          "data": {
            "application/vnd.jupyter.widget-view+json": {
              "model_id": "9c2fb9e385684d28ba81c42a2e4de809",
              "version_major": 2,
              "version_minor": 0
            },
            "text/plain": [
              "  0%|          | 0/375 [00:00<?, ?it/s]"
            ]
          },
          "metadata": {
            "tags": []
          }
        },
        {
          "output_type": "display_data",
          "data": {
            "application/vnd.jupyter.widget-view+json": {
              "model_id": "31f51480c1504ee382aa2bcca30fa041",
              "version_major": 2,
              "version_minor": 0
            },
            "text/plain": [
              "  0%|          | 0/125 [00:00<?, ?it/s]"
            ]
          },
          "metadata": {
            "tags": []
          }
        },
        {
          "output_type": "stream",
          "text": [
            "train_acc: 0.9784,  valid_acc = 0.9803\n"
          ],
          "name": "stdout"
        },
        {
          "output_type": "display_data",
          "data": {
            "application/vnd.jupyter.widget-view+json": {
              "model_id": "d15f442020634716add981f7c1997097",
              "version_major": 2,
              "version_minor": 0
            },
            "text/plain": [
              "  0%|          | 0/375 [00:00<?, ?it/s]"
            ]
          },
          "metadata": {
            "tags": []
          }
        },
        {
          "output_type": "display_data",
          "data": {
            "application/vnd.jupyter.widget-view+json": {
              "model_id": "dc85b541a0594fff9585ba714f3e782f",
              "version_major": 2,
              "version_minor": 0
            },
            "text/plain": [
              "  0%|          | 0/125 [00:00<?, ?it/s]"
            ]
          },
          "metadata": {
            "tags": []
          }
        },
        {
          "output_type": "stream",
          "text": [
            "train_acc: 0.9778,  valid_acc = 0.9861\n"
          ],
          "name": "stdout"
        },
        {
          "output_type": "display_data",
          "data": {
            "application/vnd.jupyter.widget-view+json": {
              "model_id": "b4e89511ed15404095846016dbb7eee4",
              "version_major": 2,
              "version_minor": 0
            },
            "text/plain": [
              "  0%|          | 0/375 [00:00<?, ?it/s]"
            ]
          },
          "metadata": {
            "tags": []
          }
        },
        {
          "output_type": "display_data",
          "data": {
            "application/vnd.jupyter.widget-view+json": {
              "model_id": "8d8b1ed371324f01a4de231678d09e04",
              "version_major": 2,
              "version_minor": 0
            },
            "text/plain": [
              "  0%|          | 0/125 [00:00<?, ?it/s]"
            ]
          },
          "metadata": {
            "tags": []
          }
        },
        {
          "output_type": "stream",
          "text": [
            "train_acc: 0.9845,  valid_acc = 0.9896\n"
          ],
          "name": "stdout"
        },
        {
          "output_type": "display_data",
          "data": {
            "application/vnd.jupyter.widget-view+json": {
              "model_id": "e7d29db6584c4d7ca91c3e8d3efdd139",
              "version_major": 2,
              "version_minor": 0
            },
            "text/plain": [
              "  0%|          | 0/375 [00:00<?, ?it/s]"
            ]
          },
          "metadata": {
            "tags": []
          }
        },
        {
          "output_type": "display_data",
          "data": {
            "application/vnd.jupyter.widget-view+json": {
              "model_id": "81ab6f6b509c47b186abd032fb1d4dbd",
              "version_major": 2,
              "version_minor": 0
            },
            "text/plain": [
              "  0%|          | 0/125 [00:00<?, ?it/s]"
            ]
          },
          "metadata": {
            "tags": []
          }
        },
        {
          "output_type": "stream",
          "text": [
            "train_acc: 0.9859,  valid_acc = 0.9915\n"
          ],
          "name": "stdout"
        },
        {
          "output_type": "display_data",
          "data": {
            "application/vnd.jupyter.widget-view+json": {
              "model_id": "f7328254144a49b5b5f028635f17d628",
              "version_major": 2,
              "version_minor": 0
            },
            "text/plain": [
              "  0%|          | 0/375 [00:00<?, ?it/s]"
            ]
          },
          "metadata": {
            "tags": []
          }
        },
        {
          "output_type": "display_data",
          "data": {
            "application/vnd.jupyter.widget-view+json": {
              "model_id": "125cedf6687e40b4bd637d1fe009f1b8",
              "version_major": 2,
              "version_minor": 0
            },
            "text/plain": [
              "  0%|          | 0/125 [00:00<?, ?it/s]"
            ]
          },
          "metadata": {
            "tags": []
          }
        },
        {
          "output_type": "stream",
          "text": [
            "train_acc: 0.9865,  valid_acc = 0.9736\n"
          ],
          "name": "stdout"
        }
      ]
    },
    {
      "cell_type": "code",
      "metadata": {
        "id": "75508b48-beaf-4414-bad6-54fea29d28f9",
        "outputId": "8a2e8b4b-fcb9-4f6b-87e9-9388661b2708"
      },
      "source": [
        "plt.plot(ta_bin, label = 'train')\n",
        "plt.plot(va_bin, label = 'valid')\n",
        "plt.legend()\n",
        "plt.xlabel('Epochs')\n",
        "plt.title('Lung Cancer Presence Accuracy')\n",
        "plt.savefig('figures/lung_cancer_acc.png')"
      ],
      "id": "75508b48-beaf-4414-bad6-54fea29d28f9",
      "execution_count": null,
      "outputs": [
        {
          "output_type": "display_data",
          "data": {
            "image/png": "[encoded data removed]",
            "text/plain": [
              "<Figure size 432x288 with 1 Axes>"
            ]
          },
          "metadata": {
            "tags": []
          }
        }
      ]
    },
    {
      "cell_type": "markdown",
      "metadata": {
        "id": "3f3b1433-b06f-4407-bff4-07142d53d7e4"
      },
      "source": [
        "## Colon Classifier:"
      ],
      "id": "3f3b1433-b06f-4407-bff4-07142d53d7e4"
    },
    {
      "cell_type": "code",
      "metadata": {
        "id": "2f0fc91a-b7e1-4f85-94d9-968fa7ba8063"
      },
      "source": [
        "train_df, valid_df = train_test_split(df_colon)\n",
        "\n",
        "train_ds = BinCancerImagesDataset(train_df)\n",
        "valid_ds = BinCancerImagesDataset(valid_df)\n",
        "\n",
        "batch_size= 30\n",
        "train_dl = DataLoader(train_ds, batch_size=batch_size, shuffle=True)\n",
        "valid_dl = DataLoader(valid_ds, batch_size=batch_size)"
      ],
      "id": "2f0fc91a-b7e1-4f85-94d9-968fa7ba8063",
      "execution_count": null,
      "outputs": []
    },
    {
      "cell_type": "code",
      "metadata": {
        "colab": {
          "referenced_widgets": [
            "90ebdb5212eb466aa355009301de4aec",
            "53ec4129778245ca88ebf4895b3ebacc",
            "e2a644fed7784cc48bef97922fe5077d",
            "f9f80203234c444cbc649a63cd25ccb2",
            "35f3fe88afbf4d88903721b645bfd23f",
            "2c4202959c2b4ed6aab30c4253767074",
            "b3fe180d5d2347ceb9cba59a073e4979",
            "33735d04f28647aea7217e377410dd71",
            "720256119af74b17bf9a4e6b4b41451f",
            "8b996ceeda21461b8399a8639dc2665f",
            "b7c79b2d14cd4f4cb62caaf70d7705c0",
            "fef03a310ec74440b087447e106226f9",
            "32f25b3816e0433e9736545aa9d74171",
            "5417c76514ef4033b6ac86547974f752",
            "2d1261e74b1a4ca0a93fff5e48eb17fe",
            "0975d46efe8a4102ad02b2b847c9c6fa",
            "c697c0fa3fe34dd5a041878bb8b5ce1e",
            "6198f187663e4a5f9dff9afd72cc4e7a",
            "b2de0b291ef5495790f47ce687896165",
            "f2d0a08eb7fa47a291d7a2cfd2d4b8f6"
          ]
        },
        "id": "aa54c6f4-ec49-4568-83f4-3fd9d1395cc3",
        "outputId": "37dd7799-9b72-4c1a-c56b-75aafa31d8fe"
      },
      "source": [
        "model_colon = models.resnet18(pretrained=True)\n",
        "device = torch.device(0)\n",
        "model_colon.fc = nn.Linear(512, 1, bias=True)\n",
        "model_colon.to(device)\n",
        "\n",
        "lossFun = nn.BCEWithLogitsLoss()\n",
        "\n",
        "params_to_update = []\n",
        "\n",
        "for param in model_colon.parameters():\n",
        "    if param.requires_grad == True:\n",
        "        params_to_update.append(param)\n",
        "        \n",
        "optimizer = optim.AdamW(params_to_update, lr=0.01)\n",
        "\n",
        "tl_bin = []\n",
        "vl_bin = []\n",
        "ta_bin = []\n",
        "va_bin = []\n",
        "num_epochs = 10\n",
        "\n",
        "for i in range(num_epochs):\n",
        "    train_loss, train_acc, valid_loss, valid_acc = one_pass_train_valid(model_colon, train_dl, valid_dl, optimizer, lossFun, class_type='binary', device=device)\n",
        "    print(f\"train_acc: {train_acc:.4f},  valid_acc = {valid_acc:.4f}\")\n",
        "    tl_bin.append(train_loss)\n",
        "    vl_bin.append(valid_loss)\n",
        "    ta_bin.append(train_acc)\n",
        "    va_bin.append(valid_acc)"
      ],
      "id": "aa54c6f4-ec49-4568-83f4-3fd9d1395cc3",
      "execution_count": null,
      "outputs": [
        {
          "output_type": "display_data",
          "data": {
            "application/vnd.jupyter.widget-view+json": {
              "model_id": "90ebdb5212eb466aa355009301de4aec",
              "version_major": 2,
              "version_minor": 0
            },
            "text/plain": [
              "  0%|          | 0/250 [00:00<?, ?it/s]"
            ]
          },
          "metadata": {
            "tags": []
          }
        },
        {
          "output_type": "display_data",
          "data": {
            "application/vnd.jupyter.widget-view+json": {
              "model_id": "53ec4129778245ca88ebf4895b3ebacc",
              "version_major": 2,
              "version_minor": 0
            },
            "text/plain": [
              "  0%|          | 0/84 [00:00<?, ?it/s]"
            ]
          },
          "metadata": {
            "tags": []
          }
        },
        {
          "output_type": "stream",
          "text": [
            "train_acc: 0.7680,  valid_acc = 0.4298\n"
          ],
          "name": "stdout"
        },
        {
          "output_type": "display_data",
          "data": {
            "application/vnd.jupyter.widget-view+json": {
              "model_id": "e2a644fed7784cc48bef97922fe5077d",
              "version_major": 2,
              "version_minor": 0
            },
            "text/plain": [
              "  0%|          | 0/250 [00:00<?, ?it/s]"
            ]
          },
          "metadata": {
            "tags": []
          }
        },
        {
          "output_type": "display_data",
          "data": {
            "application/vnd.jupyter.widget-view+json": {
              "model_id": "f9f80203234c444cbc649a63cd25ccb2",
              "version_major": 2,
              "version_minor": 0
            },
            "text/plain": [
              "  0%|          | 0/84 [00:00<?, ?it/s]"
            ]
          },
          "metadata": {
            "tags": []
          }
        },
        {
          "output_type": "stream",
          "text": [
            "train_acc: 0.8555,  valid_acc = 0.5103\n"
          ],
          "name": "stdout"
        },
        {
          "output_type": "display_data",
          "data": {
            "application/vnd.jupyter.widget-view+json": {
              "model_id": "35f3fe88afbf4d88903721b645bfd23f",
              "version_major": 2,
              "version_minor": 0
            },
            "text/plain": [
              "  0%|          | 0/250 [00:00<?, ?it/s]"
            ]
          },
          "metadata": {
            "tags": []
          }
        },
        {
          "output_type": "display_data",
          "data": {
            "application/vnd.jupyter.widget-view+json": {
              "model_id": "2c4202959c2b4ed6aab30c4253767074",
              "version_major": 2,
              "version_minor": 0
            },
            "text/plain": [
              "  0%|          | 0/84 [00:00<?, ?it/s]"
            ]
          },
          "metadata": {
            "tags": []
          }
        },
        {
          "output_type": "stream",
          "text": [
            "train_acc: 0.8788,  valid_acc = 0.4929\n"
          ],
          "name": "stdout"
        },
        {
          "output_type": "display_data",
          "data": {
            "application/vnd.jupyter.widget-view+json": {
              "model_id": "b3fe180d5d2347ceb9cba59a073e4979",
              "version_major": 2,
              "version_minor": 0
            },
            "text/plain": [
              "  0%|          | 0/250 [00:00<?, ?it/s]"
            ]
          },
          "metadata": {
            "tags": []
          }
        },
        {
          "output_type": "display_data",
          "data": {
            "application/vnd.jupyter.widget-view+json": {
              "model_id": "33735d04f28647aea7217e377410dd71",
              "version_major": 2,
              "version_minor": 0
            },
            "text/plain": [
              "  0%|          | 0/84 [00:00<?, ?it/s]"
            ]
          },
          "metadata": {
            "tags": []
          }
        },
        {
          "output_type": "stream",
          "text": [
            "train_acc: 0.8963,  valid_acc = 0.4151\n"
          ],
          "name": "stdout"
        },
        {
          "output_type": "display_data",
          "data": {
            "application/vnd.jupyter.widget-view+json": {
              "model_id": "720256119af74b17bf9a4e6b4b41451f",
              "version_major": 2,
              "version_minor": 0
            },
            "text/plain": [
              "  0%|          | 0/250 [00:00<?, ?it/s]"
            ]
          },
          "metadata": {
            "tags": []
          }
        },
        {
          "output_type": "display_data",
          "data": {
            "application/vnd.jupyter.widget-view+json": {
              "model_id": "8b996ceeda21461b8399a8639dc2665f",
              "version_major": 2,
              "version_minor": 0
            },
            "text/plain": [
              "  0%|          | 0/84 [00:00<?, ?it/s]"
            ]
          },
          "metadata": {
            "tags": []
          }
        },
        {
          "output_type": "stream",
          "text": [
            "train_acc: 0.9099,  valid_acc = 0.4869\n"
          ],
          "name": "stdout"
        },
        {
          "output_type": "display_data",
          "data": {
            "application/vnd.jupyter.widget-view+json": {
              "model_id": "b7c79b2d14cd4f4cb62caaf70d7705c0",
              "version_major": 2,
              "version_minor": 0
            },
            "text/plain": [
              "  0%|          | 0/250 [00:00<?, ?it/s]"
            ]
          },
          "metadata": {
            "tags": []
          }
        },
        {
          "output_type": "display_data",
          "data": {
            "application/vnd.jupyter.widget-view+json": {
              "model_id": "fef03a310ec74440b087447e106226f9",
              "version_major": 2,
              "version_minor": 0
            },
            "text/plain": [
              "  0%|          | 0/84 [00:00<?, ?it/s]"
            ]
          },
          "metadata": {
            "tags": []
          }
        },
        {
          "output_type": "stream",
          "text": [
            "train_acc: 0.9188,  valid_acc = 0.4909\n"
          ],
          "name": "stdout"
        },
        {
          "output_type": "display_data",
          "data": {
            "application/vnd.jupyter.widget-view+json": {
              "model_id": "32f25b3816e0433e9736545aa9d74171",
              "version_major": 2,
              "version_minor": 0
            },
            "text/plain": [
              "  0%|          | 0/250 [00:00<?, ?it/s]"
            ]
          },
          "metadata": {
            "tags": []
          }
        },
        {
          "output_type": "display_data",
          "data": {
            "application/vnd.jupyter.widget-view+json": {
              "model_id": "5417c76514ef4033b6ac86547974f752",
              "version_major": 2,
              "version_minor": 0
            },
            "text/plain": [
              "  0%|          | 0/84 [00:00<?, ?it/s]"
            ]
          },
          "metadata": {
            "tags": []
          }
        },
        {
          "output_type": "stream",
          "text": [
            "train_acc: 0.9251,  valid_acc = 0.4921\n"
          ],
          "name": "stdout"
        },
        {
          "output_type": "display_data",
          "data": {
            "application/vnd.jupyter.widget-view+json": {
              "model_id": "2d1261e74b1a4ca0a93fff5e48eb17fe",
              "version_major": 2,
              "version_minor": 0
            },
            "text/plain": [
              "  0%|          | 0/250 [00:00<?, ?it/s]"
            ]
          },
          "metadata": {
            "tags": []
          }
        },
        {
          "output_type": "display_data",
          "data": {
            "application/vnd.jupyter.widget-view+json": {
              "model_id": "0975d46efe8a4102ad02b2b847c9c6fa",
              "version_major": 2,
              "version_minor": 0
            },
            "text/plain": [
              "  0%|          | 0/84 [00:00<?, ?it/s]"
            ]
          },
          "metadata": {
            "tags": []
          }
        },
        {
          "output_type": "stream",
          "text": [
            "train_acc: 0.9153,  valid_acc = 0.2615\n"
          ],
          "name": "stdout"
        },
        {
          "output_type": "display_data",
          "data": {
            "application/vnd.jupyter.widget-view+json": {
              "model_id": "c697c0fa3fe34dd5a041878bb8b5ce1e",
              "version_major": 2,
              "version_minor": 0
            },
            "text/plain": [
              "  0%|          | 0/250 [00:00<?, ?it/s]"
            ]
          },
          "metadata": {
            "tags": []
          }
        },
        {
          "output_type": "display_data",
          "data": {
            "application/vnd.jupyter.widget-view+json": {
              "model_id": "6198f187663e4a5f9dff9afd72cc4e7a",
              "version_major": 2,
              "version_minor": 0
            },
            "text/plain": [
              "  0%|          | 0/84 [00:00<?, ?it/s]"
            ]
          },
          "metadata": {
            "tags": []
          }
        },
        {
          "output_type": "stream",
          "text": [
            "train_acc: 0.9241,  valid_acc = 0.4714\n"
          ],
          "name": "stdout"
        },
        {
          "output_type": "display_data",
          "data": {
            "application/vnd.jupyter.widget-view+json": {
              "model_id": "b2de0b291ef5495790f47ce687896165",
              "version_major": 2,
              "version_minor": 0
            },
            "text/plain": [
              "  0%|          | 0/250 [00:00<?, ?it/s]"
            ]
          },
          "metadata": {
            "tags": []
          }
        },
        {
          "output_type": "display_data",
          "data": {
            "application/vnd.jupyter.widget-view+json": {
              "model_id": "f2d0a08eb7fa47a291d7a2cfd2d4b8f6",
              "version_major": 2,
              "version_minor": 0
            },
            "text/plain": [
              "  0%|          | 0/84 [00:00<?, ?it/s]"
            ]
          },
          "metadata": {
            "tags": []
          }
        },
        {
          "output_type": "stream",
          "text": [
            "train_acc: 0.9357,  valid_acc = 0.0913\n"
          ],
          "name": "stdout"
        }
      ]
    },
    {
      "cell_type": "code",
      "metadata": {
        "id": "0e41a7ff-ae69-4b9c-af2d-ed5ba5956ad8",
        "outputId": "9081e165-70ca-467a-efe9-4e6860c3359e"
      },
      "source": [
        "plt.plot(ta_bin, label = 'train')\n",
        "plt.plot(va_bin, label = 'valid')\n",
        "plt.legend()\n",
        "plt.xlabel('Epochs')\n",
        "plt.title('Colon Cancer Presence Accuracy')\n",
        "plt.savefig('figures/colon_cancer_acc.png')"
      ],
      "id": "0e41a7ff-ae69-4b9c-af2d-ed5ba5956ad8",
      "execution_count": null,
      "outputs": [
        {
          "output_type": "display_data",
          "data": {
            "image/png": "[encoded data removed]",
            "text/plain": [
              "<Figure size 432x288 with 1 Axes>"
            ]
          },
          "metadata": {
            "tags": []
          }
        }
      ]
    },
    {
      "cell_type": "markdown",
      "metadata": {
        "id": "l2owjXTYJWlP"
      },
      "source": [
        "## Scenario Three: Lung CA Types Classifier "
      ],
      "id": "l2owjXTYJWlP"
    },
    {
      "cell_type": "code",
      "metadata": {
        "id": "qabSOWWvJgtr"
      },
      "source": [
        "df = df.loc[df['label'].isin(['lung_aca','lung_scc'])]\n",
        "df"
      ],
      "id": "qabSOWWvJgtr",
      "execution_count": null,
      "outputs": []
    },
    {
      "cell_type": "code",
      "metadata": {
        "colab": {
          "base_uri": "https://localhost:8080/",
          "height": 286
        },
        "id": "neEJsfwEJgdR",
        "outputId": "144fb787-7cdb-4a74-b269-23c1c1bbcd64"
      },
      "source": [
        "ds = CancerImagesDataset(df)\n",
        "translate_back = {v:k for k, v in ds.label_dict.items()}\n",
        "img = np.transpose(ds[1913][0], (1, 2, 0))\n",
        "print(translate_back[ds[1913][1].item()])\n",
        "plt.imshow(img);"
      ],
      "id": "neEJsfwEJgdR",
      "execution_count": 20,
      "outputs": [
        {
          "output_type": "stream",
          "text": [
            "lung_aca\n"
          ],
          "name": "stdout"
        },
        {
          "output_type": "display_data",
          "data": {
            "image/png": "[encoded data removed]",
            "text/plain": [
              "<Figure size 432x288 with 1 Axes>"
            ]
          },
          "metadata": {
            "tags": []
          }
        }
      ]
    },
    {
      "cell_type": "code",
      "metadata": {
        "id": "l5Ua3bliKgs_"
      },
      "source": [
        "batch_size = 16\n",
        "\n",
        "df_train, df_test = train_test_split(df)\n",
        "df_train, df_valid = train_test_split(df_train)\n",
        "\n",
        "ds_train = CancerImagesDataset(df_train)\n",
        "ds_valid = CancerImagesDataset(df_valid)\n",
        "\n",
        "dl_train = DataLoader(ds_train, batch_size = batch_size, shuffle=True)\n",
        "dl_val = DataLoader(ds_valid, batch_size = batch_size, shuffle=False)"
      ],
      "id": "l5Ua3bliKgs_",
      "execution_count": 21,
      "outputs": []
    },
    {
      "cell_type": "code",
      "metadata": {
        "id": "JJ0B64ycKi5v"
      },
      "source": [
        "today = str(date.today())\n",
        "model = models.densenet121(pretrained=True)\n",
        "model.classifier = nn.Linear(1024, 5, bias=True)"
      ],
      "id": "JJ0B64ycKi5v",
      "execution_count": null,
      "outputs": []
    },
    {
      "cell_type": "code",
      "metadata": {
        "id": "h6Udc2-yKi_c"
      },
      "source": [
        "params_to_update = []\n",
        "\n",
        "for param in model.parameters():\n",
        "    if param.requires_grad == True:\n",
        "        params_to_update.append(param)\n",
        "\n",
        "optimizer = optim.Adam(params_to_update, lr=0.001)"
      ],
      "id": "h6Udc2-yKi_c",
      "execution_count": 23,
      "outputs": []
    },
    {
      "cell_type": "code",
      "metadata": {
        "id": "eqx0_CYxKjCW"
      },
      "source": [
        "def one_pass(model, dataloader, optimizer, lossFun, backwards=True, print_loss=False):\n",
        "    \n",
        "    if backwards == True:\n",
        "        model.train()\n",
        "    else:\n",
        "        model.eval()\n",
        "    \n",
        "    total_loss = 0.0\n",
        "    for x, y in tqdm(dataloader):\n",
        "        \n",
        "        y_pred = model(x)\n",
        "        loss = lossFun(y_pred, y)\n",
        "        total_loss += loss.item()\n",
        "        \n",
        "        if backwards == True:\n",
        "            optimizer.zero_grad()\n",
        "            loss.backward()\n",
        "            optimizer.step()\n",
        "    avg_loss = total_loss / len(dataloader)\n",
        "    \n",
        "    if print_loss == True:\n",
        "        print(avg_loss)\n",
        "    \n",
        "    return avg_loss\n",
        "\n",
        "def one_pass_acc(model, dataloader, num_points):\n",
        "    model.eval()\n",
        "    total_incorrect = 0\n",
        "    \n",
        "    softmax = nn.LogSoftmax(dim=1)\n",
        "    \n",
        "    for x, y in dataloader:\n",
        "        y_pred = softmax(model(x))\n",
        "        y_pred = torch.argmax(y_pred, dim=1)\n",
        "        \n",
        "        total_incorrect += torch.nonzero(y - y_pred).size(0)\n",
        "        \n",
        "    percent_wrong = total_incorrect / num_points\n",
        "    return 1 - percent_wrong"
      ],
      "id": "eqx0_CYxKjCW",
      "execution_count": 24,
      "outputs": []
    },
    {
      "cell_type": "code",
      "metadata": {
        "colab": {
          "base_uri": "https://localhost:8080/",
          "height": 613,
          "referenced_widgets": [
            "5a6343ef266746acbee182e3ba9ec32e",
            "1cdb2f8c638047829208e8fe26372ad0",
            "33a6b4cc938649eaad4a760def5e7c9a",
            "4af879116c7a4a1294deb79f5e5f135e",
            "e81cb630c0a545bba3018f46fdc110e8",
            "5820a5f809d040e2be6cb7f1c9199e58",
            "8a4871cdbf7e428f807441f095f5c54a",
            "1687ed4c8cee438e942b30df3d1b82a4",
            "7f84bc47ed9b4255ad12569ed7c90fa4",
            "f2094d5fa363436d908bd5561bfc8eb4",
            "0b04e7b1f41245dfae45dd20ab674e14",
            "c4764270311a4a82b93a1dbc30571564",
            "0373c962045a4b6b8f3520b9506d0878",
            "8abfd5cec5ce42e2a7cb17571dade3f9",
            "e2100c3420984878a1114226ae9c0f78",
            "8d9db68106784a44a760986e21df619d",
            "c08966eee3cf4e55858a0129a7b0f3f7",
            "f88346de8b6b404f9f0e5141d304ec80",
            "1523462b32f94e6c8439d8ac8e8f48bb",
            "90a946bef9bf4b3c8e3fd4c31c4ff743",
            "f17ad98e6e4448c79cd9089553f94023",
            "6c70e77dc84449b99b139ae01661a793",
            "dc628586422c47caafb914d4896ee304",
            "fbcf822cabb14222a8398225c60e1894",
            "2424b6c8f02a4f05a9906edf406c8a99",
            "b822fd323eb74b1b9358797cf8f16307",
            "cd25e5a83fa14f908d71d9e2a843bd2f",
            "3249039f8ea8423fa31d1c626555b157",
            "c9afcf42df674be98aea98cb5c32eb51",
            "6ca7448370dd46fbbe363d7cbc8e3255",
            "ee468591be0e48918a81ffe02647bb36",
            "7c4c2fe9d5ce4390a0f4bb767b5e9421",
            "880b3c0b19174fa89506f597b15e3b2a",
            "9b85c6c9d9f6423a866dd55c5dc35c70",
            "00d63acbdbc84fe7bd0e4748bef7e03f",
            "ee9ebce6d10b48b88d64c45a7131f0af",
            "cc0f25580a9c48638191154f509e31aa",
            "0a3e2296abca44aea14539a14734b9d5",
            "3e4e58cdbcb44b719f38e7258834d3d8",
            "a45686d3333f449b9b59d31d5e3accd7",
            "d4286034fd8c4aa389f207d6754a8c6b",
            "f62a73d0cda04362981d90f957870590",
            "261bc4367bd14fe5a9bd0c227414e394",
            "74b66c9fad1547f49405a1ede7bb71be",
            "a5bfed4e449d414eb610899d35082366",
            "d3fddd6985a44976a87f49f0493237a5",
            "21326fe607b54d6183a88b12299cfe6c",
            "5e76e7bf0a934e9c8701cf679ff753e4",
            "4e4d7b5b20294fe2a2022895ef76cb6f",
            "410e952b022146c3a47cad542d630bd1",
            "dc1b22c6c5504b2392d22cc3434e3ad8",
            "81800aad2c0d4b108fbd7be812517d19",
            "8e6160197fe24519ba320348d3289dd0",
            "4150aeb97f09469e97e38a8613ee0003",
            "ae6fdcf6640f4243ae41fafc1f47196e",
            "fa0733805fbb474a8293ef2ae17497a9",
            "2f5c81cab12f406bb7a5f606c20bce19",
            "35b159cdee834d3f8cabe0e7e90125f1",
            "71835cc6b5244658a0e8c2af675e71b5",
            "8adf131145964072ac23982db3230b5b",
            "5a3b69601aec470faa238318b3981028",
            "6a7f96116d5a48f499f4064ef0a8f0d8",
            "c3591c0a080a45a6949d7b735d47ac2e",
            "9f3e66d7113344df9c690407177e4f02",
            "af1c30b1b1384422a8125e6d3cff484b",
            "d8e303128ff54f8ebe3d8966e8ac4924",
            "7cffbee51d7f4265b61eceebf315f73b",
            "cb58346980c24fde8a24607f8823e5db",
            "19ac4736ff0a4b94b43076b5467c0169",
            "7c67589471c64bd5ab39db23e2f0d99f",
            "f492c303d6fa411db6de92f816009533",
            "a0299dbaddf447e083c071c6934f3d78",
            "bda6a2577dc543558c87a75bbbb1fd2c",
            "55eccab4191c45c3a9e4dd3e9e031c16",
            "7c6f0a62fbff4068985738d12e30988f",
            "9f17154897bd4705aea00c83c1f6e489",
            "8f57fedcdebf45d4b2bfd8a80254162d",
            "f4220038a8a345888275b49db3da8767",
            "2afbd2cb1983446a9ff112dc17194f88",
            "1acdc0776c3e480b9220bc99d318496a",
            "2527fd54b131407aace70ae607a0afa0",
            "059bde44ceab4aecb2ee1ee2e2b717f7",
            "fe20651f885045e1a05ee9a0ea169a42",
            "2da9c83e4f264120bb8fbbc1b22c9fdf",
            "ef7f03482b9b4bb3a584985ac3e725e9",
            "953d5d65335b4970ae9ef892eb067398",
            "91687f55bf5843d594a8d019a56f5348",
            "cd8b28a7b9d84fc5a6d4ec9ec10ea7dc"
          ]
        },
        "id": "5TSU7dxCLBAP",
        "outputId": "2d3555bc-540b-4efd-c382-a06609a4bb38"
      },
      "source": [
        "from tqdm.notebook import tqdm\n",
        "\n",
        "lossFun = nn.CrossEntropyLoss()\n",
        "\n",
        "num_epochs = 7\n",
        "train_losses = []\n",
        "valid_losses = []\n",
        "\n",
        "train_accuracy = []\n",
        "valid_accuracy = []\n",
        "\n",
        "for epoch in tqdm(range(num_epochs)):\n",
        "    print('Epoch: ', epoch)\n",
        "    \n",
        "    train_loss = one_pass(model, dl_train, optimizer, lossFun)\n",
        "    train_losses.append(train_loss)\n",
        "    print('Train loss: ', train_loss)\n",
        "    \n",
        "    valid_loss = one_pass(model, dl_val, optimizer, lossFun, backwards=False)\n",
        "    valid_losses.append(valid_loss)\n",
        "    print('Valid loss: ', valid_loss)\n",
        "    \n",
        "    train_acc = one_pass_acc(model, dl_train, len(ds_train))\n",
        "    train_accuracy.append(train_acc)\n",
        "    print('Train Acc: ', train_acc)\n",
        "    valid_acc = one_pass_acc(model, dl_val, len(ds_valid))\n",
        "    valid_accuracy.append(valid_acc)\n",
        "    print('Valid Acc: ', valid_acc)"
      ],
      "id": "5TSU7dxCLBAP",
      "execution_count": null,
      "outputs": [
        {
          "output_type": "display_data",
          "data": {
            "application/vnd.jupyter.widget-view+json": {
              "model_id": "5a6343ef266746acbee182e3ba9ec32e",
              "version_major": 2,
              "version_minor": 0
            },
            "text/plain": [
              "  0%|          | 0/7 [00:00<?, ?it/s]"
            ]
          },
          "metadata": {
            "tags": []
          }
        },
        {
          "output_type": "stream",
          "text": [
            "Epoch:  0\n"
          ],
          "name": "stdout"
        },
        {
          "output_type": "display_data",
          "data": {
            "application/vnd.jupyter.widget-view+json": {
              "model_id": "c4764270311a4a82b93a1dbc30571564",
              "version_major": 2,
              "version_minor": 0
            },
            "text/plain": [
              "  0%|          | 0/71 [00:00<?, ?it/s]"
            ]
          },
          "metadata": {
            "tags": []
          }
        },
        {
          "output_type": "stream",
          "text": [
            "/usr/local/lib/python3.7/dist-packages/torch/nn/functional.py:718: UserWarning: Named tensors and all their associated APIs are an experimental feature and subject to change. Please do not use them for anything important until they are released as stable. (Triggered internally at  /pytorch/c10/core/TensorImpl.h:1156.)\n",
            "  return torch.max_pool2d(input, kernel_size, stride, padding, dilation, ceil_mode)\n"
          ],
          "name": "stderr"
        },
        {
          "output_type": "stream",
          "text": [
            "Train loss:  0.5530002574685594\n"
          ],
          "name": "stdout"
        },
        {
          "output_type": "display_data",
          "data": {
            "application/vnd.jupyter.widget-view+json": {
              "model_id": "dc628586422c47caafb914d4896ee304",
              "version_major": 2,
              "version_minor": 0
            },
            "text/plain": [
              "  0%|          | 0/24 [00:00<?, ?it/s]"
            ]
          },
          "metadata": {
            "tags": []
          }
        },
        {
          "output_type": "stream",
          "text": [
            "Valid loss:  0.558414633696278\n",
            "Train Acc:  0.7742222222222223\n",
            "Valid Acc:  0.7653333333333333\n",
            "Epoch:  1\n"
          ],
          "name": "stdout"
        },
        {
          "output_type": "display_data",
          "data": {
            "application/vnd.jupyter.widget-view+json": {
              "model_id": "9b85c6c9d9f6423a866dd55c5dc35c70",
              "version_major": 2,
              "version_minor": 0
            },
            "text/plain": [
              "  0%|          | 0/71 [00:00<?, ?it/s]"
            ]
          },
          "metadata": {
            "tags": []
          }
        },
        {
          "output_type": "stream",
          "text": [
            "Train loss:  0.4130930471378313\n"
          ],
          "name": "stdout"
        },
        {
          "output_type": "display_data",
          "data": {
            "application/vnd.jupyter.widget-view+json": {
              "model_id": "a5bfed4e449d414eb610899d35082366",
              "version_minor": 0,
              "version_major": 2
            },
            "text/plain": [
              "  0%|          | 0/24 [00:00<?, ?it/s]"
            ]
          },
          "metadata": {
            "tags": []
          }
        },
        {
          "output_type": "stream",
          "text": [
            "Valid loss:  0.9216501042246819\n",
            "Train Acc:  0.6995555555555555\n",
            "Valid Acc:  0.7093333333333334\n",
            "Epoch:  2\n"
          ],
          "name": "stdout"
        },
        {
          "output_type": "display_data",
          "data": {
            "application/vnd.jupyter.widget-view+json": {
              "model_id": "fa0733805fbb474a8293ef2ae17497a9",
              "version_minor": 0,
              "version_major": 2
            },
            "text/plain": [
              "  0%|          | 0/71 [00:00<?, ?it/s]"
            ]
          },
          "metadata": {
            "tags": []
          }
        },
        {
          "output_type": "stream",
          "text": [
            "Train loss:  0.41233206382939513\n"
          ],
          "name": "stdout"
        },
        {
          "output_type": "display_data",
          "data": {
            "application/vnd.jupyter.widget-view+json": {
              "model_id": "7cffbee51d7f4265b61eceebf315f73b",
              "version_minor": 0,
              "version_major": 2
            },
            "text/plain": [
              "  0%|          | 0/24 [00:00<?, ?it/s]"
            ]
          },
          "metadata": {
            "tags": []
          }
        },
        {
          "output_type": "stream",
          "text": [
            "Valid loss:  0.3878297774742047\n",
            "Train Acc:  0.8355555555555556\n",
            "Valid Acc:  0.8453333333333333\n",
            "Epoch:  3\n"
          ],
          "name": "stdout"
        },
        {
          "output_type": "display_data",
          "data": {
            "application/vnd.jupyter.widget-view+json": {
              "model_id": "f4220038a8a345888275b49db3da8767",
              "version_minor": 0,
              "version_major": 2
            },
            "text/plain": [
              "  0%|          | 0/71 [00:00<?, ?it/s]"
            ]
          },
          "metadata": {
            "tags": []
          }
        }
      ]
    },
    {
      "cell_type": "code",
      "metadata": {
        "id": "a81db6b8-2093-4032-b763-430820c8c352"
      },
      "source": [
        ""
      ],
      "id": "a81db6b8-2093-4032-b763-430820c8c352",
      "execution_count": null,
      "outputs": []
    }
  ]
}